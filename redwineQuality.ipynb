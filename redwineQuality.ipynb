{
 "cells": [
  {
   "cell_type": "code",
   "execution_count": 1,
   "id": "028cc198",
   "metadata": {},
   "outputs": [
    {
     "ename": "NameError",
     "evalue": "name 'pd' is not defined",
     "output_type": "error",
     "traceback": [
      "\u001b[0;31m---------------------------------------------------------------------------\u001b[0m",
      "\u001b[0;31mNameError\u001b[0m                                 Traceback (most recent call last)",
      "\u001b[0;32m<ipython-input-1-b3dfe38864bc>\u001b[0m in \u001b[0;36m<module>\u001b[0;34m\u001b[0m\n\u001b[0;32m----> 1\u001b[0;31m \u001b[0mdf\u001b[0m \u001b[0;34m=\u001b[0m \u001b[0mpd\u001b[0m\u001b[0;34m.\u001b[0m\u001b[0mread_csv\u001b[0m\u001b[0;34m(\u001b[0m\u001b[0;34m'https://raw.githubusercontent.com/dsrscientist/DSData/master/winequality-red.csv'\u001b[0m\u001b[0;34m)\u001b[0m\u001b[0;34m\u001b[0m\u001b[0;34m\u001b[0m\u001b[0m\n\u001b[0m\u001b[1;32m      2\u001b[0m \u001b[0mdf\u001b[0m\u001b[0;34m\u001b[0m\u001b[0;34m\u001b[0m\u001b[0m\n",
      "\u001b[0;31mNameError\u001b[0m: name 'pd' is not defined"
     ]
    }
   ],
   "source": [
    "df = pd.read_csv('https://raw.githubusercontent.com/dsrscientist/DSData/master/winequality-red.csv')\n",
    "df"
   ]
  },
  {
   "cell_type": "code",
   "execution_count": 2,
   "id": "459d9833",
   "metadata": {},
   "outputs": [
    {
     "data": {
      "text/html": [
       "<div>\n",
       "<style scoped>\n",
       "    .dataframe tbody tr th:only-of-type {\n",
       "        vertical-align: middle;\n",
       "    }\n",
       "\n",
       "    .dataframe tbody tr th {\n",
       "        vertical-align: top;\n",
       "    }\n",
       "\n",
       "    .dataframe thead th {\n",
       "        text-align: right;\n",
       "    }\n",
       "</style>\n",
       "<table border=\"1\" class=\"dataframe\">\n",
       "  <thead>\n",
       "    <tr style=\"text-align: right;\">\n",
       "      <th></th>\n",
       "      <th>fixed acidity</th>\n",
       "      <th>volatile acidity</th>\n",
       "      <th>citric acid</th>\n",
       "      <th>residual sugar</th>\n",
       "      <th>chlorides</th>\n",
       "      <th>free sulfur dioxide</th>\n",
       "      <th>total sulfur dioxide</th>\n",
       "      <th>density</th>\n",
       "      <th>pH</th>\n",
       "      <th>sulphates</th>\n",
       "      <th>alcohol</th>\n",
       "      <th>quality</th>\n",
       "    </tr>\n",
       "  </thead>\n",
       "  <tbody>\n",
       "    <tr>\n",
       "      <th>0</th>\n",
       "      <td>7.4</td>\n",
       "      <td>0.700</td>\n",
       "      <td>0.00</td>\n",
       "      <td>1.9</td>\n",
       "      <td>0.076</td>\n",
       "      <td>11.0</td>\n",
       "      <td>34.0</td>\n",
       "      <td>0.99780</td>\n",
       "      <td>3.51</td>\n",
       "      <td>0.56</td>\n",
       "      <td>9.4</td>\n",
       "      <td>5</td>\n",
       "    </tr>\n",
       "    <tr>\n",
       "      <th>1</th>\n",
       "      <td>7.8</td>\n",
       "      <td>0.880</td>\n",
       "      <td>0.00</td>\n",
       "      <td>2.6</td>\n",
       "      <td>0.098</td>\n",
       "      <td>25.0</td>\n",
       "      <td>67.0</td>\n",
       "      <td>0.99680</td>\n",
       "      <td>3.20</td>\n",
       "      <td>0.68</td>\n",
       "      <td>9.8</td>\n",
       "      <td>5</td>\n",
       "    </tr>\n",
       "    <tr>\n",
       "      <th>2</th>\n",
       "      <td>7.8</td>\n",
       "      <td>0.760</td>\n",
       "      <td>0.04</td>\n",
       "      <td>2.3</td>\n",
       "      <td>0.092</td>\n",
       "      <td>15.0</td>\n",
       "      <td>54.0</td>\n",
       "      <td>0.99700</td>\n",
       "      <td>3.26</td>\n",
       "      <td>0.65</td>\n",
       "      <td>9.8</td>\n",
       "      <td>5</td>\n",
       "    </tr>\n",
       "    <tr>\n",
       "      <th>3</th>\n",
       "      <td>11.2</td>\n",
       "      <td>0.280</td>\n",
       "      <td>0.56</td>\n",
       "      <td>1.9</td>\n",
       "      <td>0.075</td>\n",
       "      <td>17.0</td>\n",
       "      <td>60.0</td>\n",
       "      <td>0.99800</td>\n",
       "      <td>3.16</td>\n",
       "      <td>0.58</td>\n",
       "      <td>9.8</td>\n",
       "      <td>6</td>\n",
       "    </tr>\n",
       "    <tr>\n",
       "      <th>4</th>\n",
       "      <td>7.4</td>\n",
       "      <td>0.700</td>\n",
       "      <td>0.00</td>\n",
       "      <td>1.9</td>\n",
       "      <td>0.076</td>\n",
       "      <td>11.0</td>\n",
       "      <td>34.0</td>\n",
       "      <td>0.99780</td>\n",
       "      <td>3.51</td>\n",
       "      <td>0.56</td>\n",
       "      <td>9.4</td>\n",
       "      <td>5</td>\n",
       "    </tr>\n",
       "    <tr>\n",
       "      <th>...</th>\n",
       "      <td>...</td>\n",
       "      <td>...</td>\n",
       "      <td>...</td>\n",
       "      <td>...</td>\n",
       "      <td>...</td>\n",
       "      <td>...</td>\n",
       "      <td>...</td>\n",
       "      <td>...</td>\n",
       "      <td>...</td>\n",
       "      <td>...</td>\n",
       "      <td>...</td>\n",
       "      <td>...</td>\n",
       "    </tr>\n",
       "    <tr>\n",
       "      <th>1594</th>\n",
       "      <td>6.2</td>\n",
       "      <td>0.600</td>\n",
       "      <td>0.08</td>\n",
       "      <td>2.0</td>\n",
       "      <td>0.090</td>\n",
       "      <td>32.0</td>\n",
       "      <td>44.0</td>\n",
       "      <td>0.99490</td>\n",
       "      <td>3.45</td>\n",
       "      <td>0.58</td>\n",
       "      <td>10.5</td>\n",
       "      <td>5</td>\n",
       "    </tr>\n",
       "    <tr>\n",
       "      <th>1595</th>\n",
       "      <td>5.9</td>\n",
       "      <td>0.550</td>\n",
       "      <td>0.10</td>\n",
       "      <td>2.2</td>\n",
       "      <td>0.062</td>\n",
       "      <td>39.0</td>\n",
       "      <td>51.0</td>\n",
       "      <td>0.99512</td>\n",
       "      <td>3.52</td>\n",
       "      <td>0.76</td>\n",
       "      <td>11.2</td>\n",
       "      <td>6</td>\n",
       "    </tr>\n",
       "    <tr>\n",
       "      <th>1596</th>\n",
       "      <td>6.3</td>\n",
       "      <td>0.510</td>\n",
       "      <td>0.13</td>\n",
       "      <td>2.3</td>\n",
       "      <td>0.076</td>\n",
       "      <td>29.0</td>\n",
       "      <td>40.0</td>\n",
       "      <td>0.99574</td>\n",
       "      <td>3.42</td>\n",
       "      <td>0.75</td>\n",
       "      <td>11.0</td>\n",
       "      <td>6</td>\n",
       "    </tr>\n",
       "    <tr>\n",
       "      <th>1597</th>\n",
       "      <td>5.9</td>\n",
       "      <td>0.645</td>\n",
       "      <td>0.12</td>\n",
       "      <td>2.0</td>\n",
       "      <td>0.075</td>\n",
       "      <td>32.0</td>\n",
       "      <td>44.0</td>\n",
       "      <td>0.99547</td>\n",
       "      <td>3.57</td>\n",
       "      <td>0.71</td>\n",
       "      <td>10.2</td>\n",
       "      <td>5</td>\n",
       "    </tr>\n",
       "    <tr>\n",
       "      <th>1598</th>\n",
       "      <td>6.0</td>\n",
       "      <td>0.310</td>\n",
       "      <td>0.47</td>\n",
       "      <td>3.6</td>\n",
       "      <td>0.067</td>\n",
       "      <td>18.0</td>\n",
       "      <td>42.0</td>\n",
       "      <td>0.99549</td>\n",
       "      <td>3.39</td>\n",
       "      <td>0.66</td>\n",
       "      <td>11.0</td>\n",
       "      <td>6</td>\n",
       "    </tr>\n",
       "  </tbody>\n",
       "</table>\n",
       "<p>1599 rows × 12 columns</p>\n",
       "</div>"
      ],
      "text/plain": [
       "      fixed acidity  volatile acidity  citric acid  residual sugar  chlorides  \\\n",
       "0               7.4             0.700         0.00             1.9      0.076   \n",
       "1               7.8             0.880         0.00             2.6      0.098   \n",
       "2               7.8             0.760         0.04             2.3      0.092   \n",
       "3              11.2             0.280         0.56             1.9      0.075   \n",
       "4               7.4             0.700         0.00             1.9      0.076   \n",
       "...             ...               ...          ...             ...        ...   \n",
       "1594            6.2             0.600         0.08             2.0      0.090   \n",
       "1595            5.9             0.550         0.10             2.2      0.062   \n",
       "1596            6.3             0.510         0.13             2.3      0.076   \n",
       "1597            5.9             0.645         0.12             2.0      0.075   \n",
       "1598            6.0             0.310         0.47             3.6      0.067   \n",
       "\n",
       "      free sulfur dioxide  total sulfur dioxide  density    pH  sulphates  \\\n",
       "0                    11.0                  34.0  0.99780  3.51       0.56   \n",
       "1                    25.0                  67.0  0.99680  3.20       0.68   \n",
       "2                    15.0                  54.0  0.99700  3.26       0.65   \n",
       "3                    17.0                  60.0  0.99800  3.16       0.58   \n",
       "4                    11.0                  34.0  0.99780  3.51       0.56   \n",
       "...                   ...                   ...      ...   ...        ...   \n",
       "1594                 32.0                  44.0  0.99490  3.45       0.58   \n",
       "1595                 39.0                  51.0  0.99512  3.52       0.76   \n",
       "1596                 29.0                  40.0  0.99574  3.42       0.75   \n",
       "1597                 32.0                  44.0  0.99547  3.57       0.71   \n",
       "1598                 18.0                  42.0  0.99549  3.39       0.66   \n",
       "\n",
       "      alcohol  quality  \n",
       "0         9.4        5  \n",
       "1         9.8        5  \n",
       "2         9.8        5  \n",
       "3         9.8        6  \n",
       "4         9.4        5  \n",
       "...       ...      ...  \n",
       "1594     10.5        5  \n",
       "1595     11.2        6  \n",
       "1596     11.0        6  \n",
       "1597     10.2        5  \n",
       "1598     11.0        6  \n",
       "\n",
       "[1599 rows x 12 columns]"
      ]
     },
     "execution_count": 2,
     "metadata": {},
     "output_type": "execute_result"
    }
   ],
   "source": [
    "import pandas as pd\n",
    "df = pd.read_csv('https://raw.githubusercontent.com/dsrscientist/DSData/master/winequality-red.csv')\n",
    "df"
   ]
  },
  {
   "cell_type": "code",
   "execution_count": 3,
   "id": "b5116726",
   "metadata": {},
   "outputs": [],
   "source": [
    "import pandas as pd\n",
    "import numpy as np\n",
    "import seaborn as sns\n",
    "import matplotlib.pyplot as plt\n",
    "from sklearn.ensemble import RandomForestClassifier\n",
    "from sklearn.linear_model import LogisticRegression\n",
    "from sklearn.svm import SVC\n",
    "from sklearn.neighbors import KNeighborsClassifier\n",
    "from sklearn.linear_model import SGDClassifier\n",
    "from sklearn.metrics import confusion_matrix, classification_report, accuracy_score\n",
    "from sklearn.preprocessing import StandardScaler, LabelEncoder\n",
    "from sklearn.model_selection import train_test_split, GridSearchCV, cross_val_score\n",
    "%matplotlib inline\n"
   ]
  },
  {
   "cell_type": "markdown",
   "id": "07483ec1",
   "metadata": {},
   "source": [
    "Feature variables include:\n",
    "\n",
    "fixed acidity — primary fixed acids found in wine are tartaric, succinic, citric, and malic.\n",
    "\n",
    "volatile acidity — the gaseous acids present in wine.\n",
    "\n",
    "citric acid — the weak organic acid found in citrus fruits naturally.\n",
    "\n",
    "residual sugar — amount of sugar left after fermentation.\n",
    "\n",
    "chlorides — amount of salt present in wine.\n",
    "\n",
    "free sulfur dioxide — used for prevention of wine by oxidation and microbial spoilage.\n",
    "\n",
    "total sulfur dioxide — the portion of SO2 that is free in the wine plus the portion that is bound to other chemicals in the wine.\n",
    "\n",
    "density — the mass per unit volume of wine.\n",
    "\n",
    "pH — used for checking acidity."
   ]
  },
  {
   "cell_type": "markdown",
   "id": "6a591dde",
   "metadata": {},
   "source": [
    "sulphates — preserve freshness and protect wine from oxidation, and bacteria.\n",
    "\n",
    "\n",
    "alcohol — percent of alcohol present in wine."
   ]
  },
  {
   "cell_type": "markdown",
   "id": "71c016d5",
   "metadata": {},
   "source": [
    "Target variable is:\n",
    "quality (scores are between 0 and 10)\n"
   ]
  },
  {
   "cell_type": "code",
   "execution_count": 4,
   "id": "352374fb",
   "metadata": {},
   "outputs": [
    {
     "name": "stdout",
     "output_type": "stream",
     "text": [
      "<class 'pandas.core.frame.DataFrame'>\n",
      "RangeIndex: 1599 entries, 0 to 1598\n",
      "Data columns (total 12 columns):\n",
      " #   Column                Non-Null Count  Dtype  \n",
      "---  ------                --------------  -----  \n",
      " 0   fixed acidity         1599 non-null   float64\n",
      " 1   volatile acidity      1599 non-null   float64\n",
      " 2   citric acid           1599 non-null   float64\n",
      " 3   residual sugar        1599 non-null   float64\n",
      " 4   chlorides             1599 non-null   float64\n",
      " 5   free sulfur dioxide   1599 non-null   float64\n",
      " 6   total sulfur dioxide  1599 non-null   float64\n",
      " 7   density               1599 non-null   float64\n",
      " 8   pH                    1599 non-null   float64\n",
      " 9   sulphates             1599 non-null   float64\n",
      " 10  alcohol               1599 non-null   float64\n",
      " 11  quality               1599 non-null   int64  \n",
      "dtypes: float64(11), int64(1)\n",
      "memory usage: 150.0 KB\n"
     ]
    }
   ],
   "source": [
    "df.info()"
   ]
  },
  {
   "cell_type": "code",
   "execution_count": 5,
   "id": "c97b5256",
   "metadata": {},
   "outputs": [
    {
     "data": {
      "text/plain": [
       "fixed acidity           0\n",
       "volatile acidity        0\n",
       "citric acid             0\n",
       "residual sugar          0\n",
       "chlorides               0\n",
       "free sulfur dioxide     0\n",
       "total sulfur dioxide    0\n",
       "density                 0\n",
       "pH                      0\n",
       "sulphates               0\n",
       "alcohol                 0\n",
       "quality                 0\n",
       "dtype: int64"
      ]
     },
     "execution_count": 5,
     "metadata": {},
     "output_type": "execute_result"
    }
   ],
   "source": [
    "# Check for NA or missing values in features.\n",
    "df.isna().sum()\n"
   ]
  },
  {
   "cell_type": "code",
   "execution_count": 6,
   "id": "ee0dfa41",
   "metadata": {},
   "outputs": [
    {
     "name": "stderr",
     "output_type": "stream",
     "text": [
      "/Users/dr.k.rajaravichand/opt/anaconda3/lib/python3.8/site-packages/seaborn/_decorators.py:36: FutureWarning: Pass the following variable as a keyword arg: x. From version 0.12, the only valid positional argument will be `data`, and passing other arguments without an explicit keyword will result in an error or misinterpretation.\n",
      "  warnings.warn(\n"
     ]
    },
    {
     "data": {
      "text/plain": [
       "<AxesSubplot:xlabel='quality', ylabel='count'>"
      ]
     },
     "execution_count": 6,
     "metadata": {},
     "output_type": "execute_result"
    },
    {
     "data": {
      "image/png": "[encoded data removed]",
      "text/plain": [
       "<Figure size 432x288 with 1 Axes>"
      ]
     },
     "metadata": {
      "needs_background": "light"
     },
     "output_type": "display_data"
    }
   ],
   "source": [
    "# Visualize counts for each quality score.\n",
    "sns.countplot(df['quality'])"
   ]
  },
  {
   "cell_type": "code",
   "execution_count": 7,
   "id": "8688a8b5",
   "metadata": {},
   "outputs": [
    {
     "data": {
      "text/plain": [
       "Text(0, 0.5, 'Fixed Acidity')"
      ]
     },
     "execution_count": 7,
     "metadata": {},
     "output_type": "execute_result"
    },
    {
     "data": {
      "image/png": "[encoded data removed]",
      "text/plain": [
       "<Figure size 576x360 with 1 Axes>"
      ]
     },
     "metadata": {
      "needs_background": "light"
     },
     "output_type": "display_data"
    }
   ],
   "source": [
    "# Visualize the relationship between fixed acidity and quality of   # wine.\n",
    "fig = plt.figure(figsize = (8,5))\n",
    "sns.barplot(x = 'quality', \n",
    "            y = 'fixed acidity', \n",
    "            data = df,\n",
    "            ci = None)\n",
    "# set labels\n",
    "plt.xlabel(\"Quality of Wine\", size=12)\n",
    "plt.ylabel(\"Fixed Acidity\", size=12)"
   ]
  },
  {
   "cell_type": "code",
   "execution_count": 8,
   "id": "762699ae",
   "metadata": {},
   "outputs": [
    {
     "data": {
      "text/plain": [
       "Text(0, 0.5, 'Volatile Acidity')"
      ]
     },
     "execution_count": 8,
     "metadata": {},
     "output_type": "execute_result"
    },
    {
     "data": {
      "image/png": "[encoded data removed]",
      "text/plain": [
       "<Figure size 576x360 with 1 Axes>"
      ]
     },
     "metadata": {
      "needs_background": "light"
     },
     "output_type": "display_data"
    }
   ],
   "source": [
    "# Visualize the relationship between volatile acidity and quality of # wine.\n",
    "fig = plt.figure(figsize = (8,5))\n",
    "sns.barplot(x = 'quality', \n",
    "            y = 'volatile acidity', \n",
    "            data = df,\n",
    "            ci = None)\n",
    "# set labels\n",
    "plt.xlabel(\"Quality of Wine\", size=12)\n",
    "plt.ylabel(\"Volatile Acidity\", size=12)"
   ]
  },
  {
   "cell_type": "code",
   "execution_count": 9,
   "id": "b6a6f8f1",
   "metadata": {},
   "outputs": [
    {
     "data": {
      "text/plain": [
       "Text(0, 0.5, 'Citric Acid')"
      ]
     },
     "execution_count": 9,
     "metadata": {},
     "output_type": "execute_result"
    },
    {
     "data": {
      "image/png": "[encoded data removed]",
      "text/plain": [
       "<Figure size 576x360 with 1 Axes>"
      ]
     },
     "metadata": {
      "needs_background": "light"
     },
     "output_type": "display_data"
    }
   ],
   "source": [
    "# Visualize the relationship between citric acid and quality of     # wine.\n",
    "fig = plt.figure(figsize = (8,5))\n",
    "sns.barplot(x = 'quality', \n",
    "            y = 'citric acid', \n",
    "            data = df,\n",
    "            ci = None)\n",
    "# set labels\n",
    "plt.xlabel(\"Quality of Wine\", size=12)\n",
    "plt.ylabel(\"Citric Acid\", size=12)"
   ]
  },
  {
   "cell_type": "code",
   "execution_count": 10,
   "id": "bb414eac",
   "metadata": {},
   "outputs": [
    {
     "data": {
      "text/plain": [
       "Text(0, 0.5, 'Residual Sugar')"
      ]
     },
     "execution_count": 10,
     "metadata": {},
     "output_type": "execute_result"
    },
    {
     "data": {
      "image/png": "[encoded data removed]",
      "text/plain": [
       "<Figure size 576x360 with 1 Axes>"
      ]
     },
     "metadata": {
      "needs_background": "light"
     },
     "output_type": "display_data"
    }
   ],
   "source": [
    "# Visualize the relationship between residual sugar and quality of  # wine.\n",
    "fig = plt.figure(figsize = (8,5))\n",
    "sns.barplot(x = 'quality', \n",
    "            y = 'residual sugar', \n",
    "            data = df,\n",
    "            ci = None)\n",
    "# set labels\n",
    "plt.xlabel(\"Quality of Wine\", size=12)\n",
    "plt.ylabel(\"Residual Sugar\", size=12)"
   ]
  },
  {
   "cell_type": "code",
   "execution_count": 11,
   "id": "1a878199",
   "metadata": {},
   "outputs": [
    {
     "data": {
      "text/plain": [
       "Text(0, 0.5, 'Chlorides')"
      ]
     },
     "execution_count": 11,
     "metadata": {},
     "output_type": "execute_result"
    },
    {
     "data": {
      "image/png": "[encoded data removed]",
      "text/plain": [
       "<Figure size 576x360 with 1 Axes>"
      ]
     },
     "metadata": {
      "needs_background": "light"
     },
     "output_type": "display_data"
    }
   ],
   "source": [
    "# Visualize the relationship between chlorides and quality of wine.\n",
    "fig = plt.figure(figsize = (8,5))\n",
    "sns.barplot(x = 'quality', \n",
    "            y = 'chlorides', \n",
    "            data = df,\n",
    "            ci = None)\n",
    "# set labels\n",
    "plt.xlabel(\"Quality of Wine\", size=12)\n",
    "plt.ylabel(\"Chlorides\", size=12)"
   ]
  },
  {
   "cell_type": "code",
   "execution_count": 12,
   "id": "be1a81e0",
   "metadata": {},
   "outputs": [
    {
     "data": {
      "text/plain": [
       "Text(0, 0.5, 'Free Sulfer Dioxide')"
      ]
     },
     "execution_count": 12,
     "metadata": {},
     "output_type": "execute_result"
    },
    {
     "data": {
      "image/png": "[encoded data removed]",
      "text/plain": [
       "<Figure size 576x360 with 1 Axes>"
      ]
     },
     "metadata": {
      "needs_background": "light"
     },
     "output_type": "display_data"
    }
   ],
   "source": [
    "# Visualize the relationship between free sulfur dioxide and quality # of wine.\n",
    "fig = plt.figure(figsize = (8,5))\n",
    "sns.barplot(x = 'quality', \n",
    "            y = 'free sulfur dioxide', \n",
    "            data = df,\n",
    "            ci = None)\n",
    "# set labels\n",
    "plt.xlabel(\"Quality of Wine\", size=12)\n",
    "plt.ylabel(\"Free Sulfer Dioxide\", size=12)"
   ]
  },
  {
   "cell_type": "code",
   "execution_count": 13,
   "id": "41b7e926",
   "metadata": {},
   "outputs": [
    {
     "data": {
      "text/plain": [
       "Text(0, 0.5, 'Total Sulfur Dioxide')"
      ]
     },
     "execution_count": 13,
     "metadata": {},
     "output_type": "execute_result"
    },
    {
     "data": {
      "image/png": "[encoded data removed]",
      "text/plain": [
       "<Figure size 576x360 with 1 Axes>"
      ]
     },
     "metadata": {
      "needs_background": "light"
     },
     "output_type": "display_data"
    }
   ],
   "source": [
    "# Visualize the relationship between total sulfur dioxide and       # quality of wine.\n",
    "fig = plt.figure(figsize = (8,5))\n",
    "sns.barplot(x = 'quality', \n",
    "            y = 'total sulfur dioxide', \n",
    "            data = df,\n",
    "            ci = None)\n",
    "# set labels\n",
    "plt.xlabel(\"Quality of Wine\", size=12)\n",
    "plt.ylabel(\"Total Sulfur Dioxide\", size=12)"
   ]
  },
  {
   "cell_type": "code",
   "execution_count": 14,
   "id": "a50e5ec7",
   "metadata": {},
   "outputs": [
    {
     "data": {
      "text/plain": [
       "Text(0, 0.5, 'Density')"
      ]
     },
     "execution_count": 14,
     "metadata": {},
     "output_type": "execute_result"
    },
    {
     "data": {
      "image/png": "[encoded data removed]",
      "text/plain": [
       "<Figure size 576x360 with 1 Axes>"
      ]
     },
     "metadata": {
      "needs_background": "light"
     },
     "output_type": "display_data"
    }
   ],
   "source": [
    "# Visualize the relationship between density and quality of wine.\n",
    "fig = plt.figure(figsize = (8,5))\n",
    "sns.barplot(x = 'quality', \n",
    "            y = 'density', \n",
    "            data = df,\n",
    "            ci = None)\n",
    "# set labels\n",
    "plt.xlabel(\"Quality of Wine\", size=12)\n",
    "plt.ylabel(\"Density\", size=12)"
   ]
  },
  {
   "cell_type": "code",
   "execution_count": 15,
   "id": "fa45c82a",
   "metadata": {},
   "outputs": [
    {
     "data": {
      "text/plain": [
       "Text(0, 0.5, 'pH')"
      ]
     },
     "execution_count": 15,
     "metadata": {},
     "output_type": "execute_result"
    },
    {
     "data": {
      "image/png": "[encoded data removed]",
      "text/plain": [
       "<Figure size 576x360 with 1 Axes>"
      ]
     },
     "metadata": {
      "needs_background": "light"
     },
     "output_type": "display_data"
    }
   ],
   "source": [
    "# Visualize the relationship between pH and quality of wine.\n",
    "fig = plt.figure(figsize = (8,5))\n",
    "sns.barplot(x = 'quality', \n",
    "            y = 'pH', \n",
    "            data = df,\n",
    "            ci = None)\n",
    "# set labels\n",
    "plt.xlabel(\"Quality of Wine\", size=12)\n",
    "plt.ylabel(\"pH\", size=12)"
   ]
  },
  {
   "cell_type": "code",
   "execution_count": 16,
   "id": "840ae6fd",
   "metadata": {},
   "outputs": [
    {
     "data": {
      "text/plain": [
       "Text(0, 0.5, 'Sulphates')"
      ]
     },
     "execution_count": 16,
     "metadata": {},
     "output_type": "execute_result"
    },
    {
     "data": {
      "image/png": "[encoded data removed]",
      "text/plain": [
       "<Figure size 576x360 with 1 Axes>"
      ]
     },
     "metadata": {
      "needs_background": "light"
     },
     "output_type": "display_data"
    }
   ],
   "source": [
    "# Visualize the relationship between sulphates and quality of wine.\n",
    "fig = plt.figure(figsize = (8,5))\n",
    "sns.barplot(x = 'quality', \n",
    "            y = 'sulphates', \n",
    "            data = df,\n",
    "            ci = None)\n",
    "# set labels\n",
    "plt.xlabel(\"Quality of Wine\", size=12)\n",
    "plt.ylabel(\"Sulphates\", size=12)"
   ]
  },
  {
   "cell_type": "code",
   "execution_count": 17,
   "id": "e629bfd3",
   "metadata": {},
   "outputs": [
    {
     "data": {
      "text/plain": [
       "Text(0, 0.5, 'Alcohol')"
      ]
     },
     "execution_count": 17,
     "metadata": {},
     "output_type": "execute_result"
    },
    {
     "data": {
      "image/png": "[encoded data removed]",
      "text/plain": [
       "<Figure size 576x360 with 1 Axes>"
      ]
     },
     "metadata": {
      "needs_background": "light"
     },
     "output_type": "display_data"
    }
   ],
   "source": [
    "# Visualize the relationship between alcohol and quality of wine.\n",
    "fig = plt.figure(figsize = (8,5))\n",
    "sns.barplot(x = 'quality', \n",
    "            y = 'alcohol', \n",
    "            data = df,\n",
    "            ci = None)\n",
    "# set labels\n",
    "plt.xlabel(\"Quality of Wine\", size=12)\n",
    "plt.ylabel(\"Alcohol\", size=12)"
   ]
  },
  {
   "cell_type": "markdown",
   "id": "01c3497f",
   "metadata": {},
   "source": [
    "Summary of findings include the following:\n",
    "The majority of quality scores were in the 5 to 7 range.\n",
    "\n",
    "When the amount of fixed acidity was slightly increased, quality scores gradually increased.\n",
    "\n",
    "When the amount of volatile acidity was decreased, the quality scores decreased.\n",
    "\n",
    "When the amount of citric acid was increased, the quality scores increased.\n",
    "\n",
    "When the amount of chlorides were decreased, the quality scores decreased.\n",
    "\n",
    "When the amount of sulphates increased, the quality scores increased.\n",
    "\n",
    "When the amount of alcohol increased, the quality scores increased."
   ]
  },
  {
   "cell_type": "code",
   "execution_count": 18,
   "id": "68babc16",
   "metadata": {},
   "outputs": [
    {
     "data": {
      "text/html": [
       "<div>\n",
       "<style scoped>\n",
       "    .dataframe tbody tr th:only-of-type {\n",
       "        vertical-align: middle;\n",
       "    }\n",
       "\n",
       "    .dataframe tbody tr th {\n",
       "        vertical-align: top;\n",
       "    }\n",
       "\n",
       "    .dataframe thead th {\n",
       "        text-align: right;\n",
       "    }\n",
       "</style>\n",
       "<table border=\"1\" class=\"dataframe\">\n",
       "  <thead>\n",
       "    <tr style=\"text-align: right;\">\n",
       "      <th></th>\n",
       "      <th>fixed acidity</th>\n",
       "      <th>volatile acidity</th>\n",
       "      <th>citric acid</th>\n",
       "      <th>residual sugar</th>\n",
       "      <th>chlorides</th>\n",
       "      <th>free sulfur dioxide</th>\n",
       "      <th>total sulfur dioxide</th>\n",
       "      <th>density</th>\n",
       "      <th>pH</th>\n",
       "      <th>sulphates</th>\n",
       "      <th>alcohol</th>\n",
       "      <th>quality</th>\n",
       "    </tr>\n",
       "  </thead>\n",
       "  <tbody>\n",
       "    <tr>\n",
       "      <th>0</th>\n",
       "      <td>7.4</td>\n",
       "      <td>0.70</td>\n",
       "      <td>0.00</td>\n",
       "      <td>1.9</td>\n",
       "      <td>0.076</td>\n",
       "      <td>11.0</td>\n",
       "      <td>34.0</td>\n",
       "      <td>0.9978</td>\n",
       "      <td>3.51</td>\n",
       "      <td>0.56</td>\n",
       "      <td>9.4</td>\n",
       "      <td>0</td>\n",
       "    </tr>\n",
       "    <tr>\n",
       "      <th>1</th>\n",
       "      <td>7.8</td>\n",
       "      <td>0.88</td>\n",
       "      <td>0.00</td>\n",
       "      <td>2.6</td>\n",
       "      <td>0.098</td>\n",
       "      <td>25.0</td>\n",
       "      <td>67.0</td>\n",
       "      <td>0.9968</td>\n",
       "      <td>3.20</td>\n",
       "      <td>0.68</td>\n",
       "      <td>9.8</td>\n",
       "      <td>0</td>\n",
       "    </tr>\n",
       "    <tr>\n",
       "      <th>2</th>\n",
       "      <td>7.8</td>\n",
       "      <td>0.76</td>\n",
       "      <td>0.04</td>\n",
       "      <td>2.3</td>\n",
       "      <td>0.092</td>\n",
       "      <td>15.0</td>\n",
       "      <td>54.0</td>\n",
       "      <td>0.9970</td>\n",
       "      <td>3.26</td>\n",
       "      <td>0.65</td>\n",
       "      <td>9.8</td>\n",
       "      <td>0</td>\n",
       "    </tr>\n",
       "    <tr>\n",
       "      <th>3</th>\n",
       "      <td>11.2</td>\n",
       "      <td>0.28</td>\n",
       "      <td>0.56</td>\n",
       "      <td>1.9</td>\n",
       "      <td>0.075</td>\n",
       "      <td>17.0</td>\n",
       "      <td>60.0</td>\n",
       "      <td>0.9980</td>\n",
       "      <td>3.16</td>\n",
       "      <td>0.58</td>\n",
       "      <td>9.8</td>\n",
       "      <td>0</td>\n",
       "    </tr>\n",
       "    <tr>\n",
       "      <th>4</th>\n",
       "      <td>7.4</td>\n",
       "      <td>0.70</td>\n",
       "      <td>0.00</td>\n",
       "      <td>1.9</td>\n",
       "      <td>0.076</td>\n",
       "      <td>11.0</td>\n",
       "      <td>34.0</td>\n",
       "      <td>0.9978</td>\n",
       "      <td>3.51</td>\n",
       "      <td>0.56</td>\n",
       "      <td>9.4</td>\n",
       "      <td>0</td>\n",
       "    </tr>\n",
       "  </tbody>\n",
       "</table>\n",
       "</div>"
      ],
      "text/plain": [
       "   fixed acidity  volatile acidity  citric acid  residual sugar  chlorides  \\\n",
       "0            7.4              0.70         0.00             1.9      0.076   \n",
       "1            7.8              0.88         0.00             2.6      0.098   \n",
       "2            7.8              0.76         0.04             2.3      0.092   \n",
       "3           11.2              0.28         0.56             1.9      0.075   \n",
       "4            7.4              0.70         0.00             1.9      0.076   \n",
       "\n",
       "   free sulfur dioxide  total sulfur dioxide  density    pH  sulphates  \\\n",
       "0                 11.0                  34.0   0.9978  3.51       0.56   \n",
       "1                 25.0                  67.0   0.9968  3.20       0.68   \n",
       "2                 15.0                  54.0   0.9970  3.26       0.65   \n",
       "3                 17.0                  60.0   0.9980  3.16       0.58   \n",
       "4                 11.0                  34.0   0.9978  3.51       0.56   \n",
       "\n",
       "   alcohol  quality  \n",
       "0      9.4        0  \n",
       "1      9.8        0  \n",
       "2      9.8        0  \n",
       "3      9.8        0  \n",
       "4      9.4        0  "
      ]
     },
     "execution_count": 18,
     "metadata": {},
     "output_type": "execute_result"
    }
   ],
   "source": [
    "# Classify wine quality into classes of poor and good by assigning    # ranges for the quality scores.\n",
    "# Wines that have a quality score between 3 and 6 are classified as # 0 (\"poor\").\n",
    "# Wines that have a quality score between 7 and 8 are classified as # 1 (\"good\").          \n",
    "df['quality'] = df['quality'].replace([3, 4, 5, 6], 0)\n",
    "df['quality'] = df['quality'].replace([7, 8], 1)\n",
    "df.head()"
   ]
  },
  {
   "cell_type": "code",
   "execution_count": 19,
   "id": "93323331",
   "metadata": {},
   "outputs": [
    {
     "data": {
      "text/plain": [
       "0    1382\n",
       "1     217\n",
       "Name: quality, dtype: int64"
      ]
     },
     "execution_count": 19,
     "metadata": {},
     "output_type": "execute_result"
    }
   ],
   "source": [
    "# Show counts by wine quality class.\n",
    "df['quality'].value_counts()"
   ]
  },
  {
   "cell_type": "code",
   "execution_count": 20,
   "id": "654193c8",
   "metadata": {},
   "outputs": [
    {
     "name": "stderr",
     "output_type": "stream",
     "text": [
      "/Users/dr.k.rajaravichand/opt/anaconda3/lib/python3.8/site-packages/seaborn/_decorators.py:36: FutureWarning: Pass the following variable as a keyword arg: x. From version 0.12, the only valid positional argument will be `data`, and passing other arguments without an explicit keyword will result in an error or misinterpretation.\n",
      "  warnings.warn(\n"
     ]
    },
    {
     "data": {
      "text/plain": [
       "<AxesSubplot:xlabel='quality', ylabel='count'>"
      ]
     },
     "execution_count": 20,
     "metadata": {},
     "output_type": "execute_result"
    },
    {
     "data": {
      "image/png": "[encoded data removed]",
      "text/plain": [
       "<Figure size 432x288 with 1 Axes>"
      ]
     },
     "metadata": {
      "needs_background": "light"
     },
     "output_type": "display_data"
    }
   ],
   "source": [
    "# Visualize counts for each class.\n",
    "sns.countplot(df['quality'])"
   ]
  },
  {
   "cell_type": "markdown",
   "id": "acefc1c3",
   "metadata": {},
   "source": [
    "There are 1,382 wines classified as poor and 217 wines classified as good.\n"
   ]
  },
  {
   "cell_type": "code",
   "execution_count": 22,
   "id": "58999282",
   "metadata": {},
   "outputs": [
    {
     "data": {
      "text/plain": [
       "array([<AxesSubplot:ylabel='quality'>], dtype=object)"
      ]
     },
     "execution_count": 22,
     "metadata": {},
     "output_type": "execute_result"
    },
    {
     "data": {
      "image/png": "[encoded data removed]",
      "text/plain": [
       "<Figure size 576x360 with 1 Axes>"
      ]
     },
     "metadata": {},
     "output_type": "display_data"
    }
   ],
   "source": [
    "# Visualize the percentages for bad and good quality wines.  \n",
    "df.quality.value_counts().plot(kind='pie', subplots=True, autopct='%1.2f%%', explode= (0.05, 0.05), startangle=80, legend=True,\n",
    "                                 fontsize=12, figsize=(8,5), textprops={'color':\"black\"})"
   ]
  },
  {
   "cell_type": "markdown",
   "id": "66edf1e9",
   "metadata": {},
   "source": [
    "86.43% of wines were classified as poor and 13.57% were classified as good.\n"
   ]
  },
  {
   "cell_type": "code",
   "execution_count": 24,
   "id": "ee420b22",
   "metadata": {},
   "outputs": [
    {
     "data": {
      "text/plain": [
       "<AxesSubplot:>"
      ]
     },
     "execution_count": 24,
     "metadata": {},
     "output_type": "execute_result"
    },
    {
     "data": {
      "image/png": "[encoded data removed]",
      "text/plain": [
       "<Figure size 720x576 with 2 Axes>"
      ]
     },
     "metadata": {
      "needs_background": "light"
     },
     "output_type": "display_data"
    }
   ],
   "source": [
    "# Generate and display correlation matrix for features. \n",
    "# We will use the Pearson Correlation method.\n",
    "corr = df.corr()\n",
    "plt.figure(figsize = (10,8))\n",
    "sns.heatmap(corr, annot = True, cmap = 'GnBu')\n"
   ]
  },
  {
   "cell_type": "markdown",
   "id": "2be2c442",
   "metadata": {},
   "source": [
    "# Split Data into Test and Training Data Sets"
   ]
  },
  {
   "cell_type": "markdown",
   "id": "bb38c182",
   "metadata": {},
   "source": [
    "First we need to divide our data into x values (the data we will use to make predictions) and y values (the data we are attempting to predict)"
   ]
  },
  {
   "cell_type": "code",
   "execution_count": 25,
   "id": "299b1120",
   "metadata": {},
   "outputs": [],
   "source": [
    "x_data = df.drop('quality', axis = 1)\n",
    "y_data = df['quality']"
   ]
  },
  {
   "cell_type": "code",
   "execution_count": 26,
   "id": "2c80d35e",
   "metadata": {},
   "outputs": [],
   "source": [
    "x_training_data, x_test_data, y_training_data, y_test_data = train_test_split(x_data, y_data, test_size = 0.25, random_state=42)\n"
   ]
  },
  {
   "cell_type": "markdown",
   "id": "5e8a783f",
   "metadata": {},
   "source": [
    "Normalize the feature datasets. StandardScaler will transform the data so that its distribution will have a mean value 0 and standard deviation of 1.\n"
   ]
  },
  {
   "cell_type": "code",
   "execution_count": 27,
   "id": "935c3d45",
   "metadata": {},
   "outputs": [],
   "source": [
    "sc = StandardScaler()\n",
    "x_training_data = sc.fit_transform(x_training_data)\n",
    "x_test_data = sc.fit_transform(x_test_data)"
   ]
  },
  {
   "cell_type": "markdown",
   "id": "87a5ddd9",
   "metadata": {},
   "source": [
    "## We will now train models, make predictions and evaluate the performance of four different models.\n"
   ]
  },
  {
   "cell_type": "markdown",
   "id": "bea13dca",
   "metadata": {},
   "source": [
    "# Random Forrest Model\n"
   ]
  },
  {
   "cell_type": "code",
   "execution_count": 28,
   "id": "68df25e2",
   "metadata": {},
   "outputs": [
    {
     "name": "stdout",
     "output_type": "stream",
     "text": [
      "0.8975\n"
     ]
    }
   ],
   "source": [
    "# Create model object. \n",
    "model_rf = RandomForestClassifier(n_estimators = 200)\n",
    "# Train the model on the training data.\n",
    "model_rf.fit(x_training_data, y_training_data)\n",
    "# Make predictions on the test data. \n",
    "predictions_rf = model_rf.predict(x_test_data)\n",
    "# Calculate the Accuracy Score.\n",
    "rf = accuracy_score(y_test_data, predictions_rf)\n",
    "print(rf)"
   ]
  },
  {
   "cell_type": "code",
   "execution_count": 29,
   "id": "66b73efa",
   "metadata": {},
   "outputs": [
    {
     "name": "stdout",
     "output_type": "stream",
     "text": [
      "              precision    recall  f1-score   support\n",
      "\n",
      "           0       0.92      0.97      0.94       347\n",
      "           1       0.69      0.42      0.52        53\n",
      "\n",
      "    accuracy                           0.90       400\n",
      "   macro avg       0.80      0.69      0.73       400\n",
      "weighted avg       0.89      0.90      0.89       400\n",
      "\n"
     ]
    }
   ],
   "source": [
    "# Show the classification report. \n",
    "print(classification_report(y_test_data, predictions_rf))"
   ]
  },
  {
   "cell_type": "markdown",
   "id": "6243b2aa",
   "metadata": {},
   "source": [
    "The random forrest model correctly predicted 90% of the wines to be good or bad."
   ]
  },
  {
   "cell_type": "markdown",
   "id": "1d21cb75",
   "metadata": {},
   "source": [
    "91% correctly predicted wines to be poor.\n",
    "71% correctly predicted wines to be good."
   ]
  },
  {
   "cell_type": "markdown",
   "id": "633f1a33",
   "metadata": {},
   "source": [
    "# Logistic Regression Model\n"
   ]
  },
  {
   "cell_type": "code",
   "execution_count": 30,
   "id": "49151bdd",
   "metadata": {},
   "outputs": [
    {
     "name": "stdout",
     "output_type": "stream",
     "text": [
      "0.885\n"
     ]
    }
   ],
   "source": [
    "# Create model object. \n",
    "model_lr = LogisticRegression()\n",
    "# Train the model on the training data.\n",
    "model_lr.fit(x_training_data, y_training_data)\n",
    "# Make predictions on the test data. \n",
    "predictions_lr = model_lr.predict(x_test_data)\n",
    "# Calculate the Accuracy Score.\n",
    "lr = accuracy_score(y_test_data, predictions_lr)\n",
    "print(lr)"
   ]
  },
  {
   "cell_type": "code",
   "execution_count": 31,
   "id": "60e85bc4",
   "metadata": {},
   "outputs": [
    {
     "name": "stdout",
     "output_type": "stream",
     "text": [
      "              precision    recall  f1-score   support\n",
      "\n",
      "           0       0.90      0.97      0.94       347\n",
      "           1       0.64      0.30      0.41        53\n",
      "\n",
      "    accuracy                           0.89       400\n",
      "   macro avg       0.77      0.64      0.67       400\n",
      "weighted avg       0.87      0.89      0.87       400\n",
      "\n"
     ]
    }
   ],
   "source": [
    "# Show the classification report. \n",
    "print(classification_report(y_test_data, predictions_lr))\n"
   ]
  },
  {
   "cell_type": "markdown",
   "id": "fb4eec3d",
   "metadata": {},
   "source": [
    "The logistic regression model correctly predicted 89% of the wines to be good or bad.\n",
    "\n",
    "90% correctly predicted wines to be poor.\n",
    "\n",
    "64% correctly predicted wines to be good.\n"
   ]
  },
  {
   "cell_type": "markdown",
   "id": "92cf2a23",
   "metadata": {},
   "source": [
    "# Support Vector Machine Model\n"
   ]
  },
  {
   "cell_type": "code",
   "execution_count": 32,
   "id": "aac4ea5e",
   "metadata": {},
   "outputs": [
    {
     "name": "stdout",
     "output_type": "stream",
     "text": [
      "0.8875\n"
     ]
    }
   ],
   "source": [
    " # Create model object. \n",
    "model_svc = SVC()\n",
    "# Train the model on the training data.\n",
    "model_svc.fit(x_training_data, y_training_data)\n",
    "# Make predictions on the test data. \n",
    "predictions_svc = model_svc.predict(x_test_data)\n",
    "# Calculate the Accuracy Score.\n",
    "svm = accuracy_score(y_test_data, predictions_svc)\n",
    "print(svm)"
   ]
  },
  {
   "cell_type": "code",
   "execution_count": 33,
   "id": "1b665f7f",
   "metadata": {},
   "outputs": [
    {
     "name": "stdout",
     "output_type": "stream",
     "text": [
      "              precision    recall  f1-score   support\n",
      "\n",
      "           0       0.90      0.98      0.94       347\n",
      "           1       0.70      0.26      0.38        53\n",
      "\n",
      "    accuracy                           0.89       400\n",
      "   macro avg       0.80      0.62      0.66       400\n",
      "weighted avg       0.87      0.89      0.86       400\n",
      "\n"
     ]
    }
   ],
   "source": [
    "# Show the classification report. \n",
    "print(classification_report(y_test_data, predictions_svc))"
   ]
  },
  {
   "cell_type": "markdown",
   "id": "cfd426c6",
   "metadata": {},
   "source": [
    "The support vector machine model correctly predicted 89% of the wines to be good or bad.\n",
    "\n",
    "90% correctly predicted wines to be poor.\n",
    "\n",
    "70% correctly predicted wines to be good."
   ]
  },
  {
   "cell_type": "markdown",
   "id": "46bfd65a",
   "metadata": {},
   "source": [
    "# K Nearest Neighbors Model\n"
   ]
  },
  {
   "cell_type": "code",
   "execution_count": 34,
   "id": "b53d5415",
   "metadata": {},
   "outputs": [
    {
     "name": "stdout",
     "output_type": "stream",
     "text": [
      "0.89\n"
     ]
    }
   ],
   "source": [
    "# Create model object. \n",
    "model_kn = KNeighborsClassifier(n_neighbors=9, leaf_size=20)\n",
    "# Train the model on the training data.\n",
    "model_kn.fit(x_training_data, y_training_data)\n",
    "# Make predictions on the test data. \n",
    "predictions_kn = model_kn.predict(x_test_data)\n",
    "# Calculate the Accuracy Score.\n",
    "kn = accuracy_score(y_test_data, predictions_kn)\n",
    "print(kn)"
   ]
  },
  {
   "cell_type": "code",
   "execution_count": 35,
   "id": "0a332ca5",
   "metadata": {},
   "outputs": [
    {
     "name": "stdout",
     "output_type": "stream",
     "text": [
      "              precision    recall  f1-score   support\n",
      "\n",
      "           0       0.92      0.96      0.94       347\n",
      "           1       0.63      0.42      0.50        53\n",
      "\n",
      "    accuracy                           0.89       400\n",
      "   macro avg       0.77      0.69      0.72       400\n",
      "weighted avg       0.88      0.89      0.88       400\n",
      "\n"
     ]
    }
   ],
   "source": [
    " #Show the classification report. \n",
    "print(classification_report(y_test_data, predictions_kn))\n"
   ]
  },
  {
   "cell_type": "markdown",
   "id": "3c48f157",
   "metadata": {},
   "source": [
    "The K Nearest Neighbors model correctly predicted 89% of the wines to be good or bad.\n",
    "\n",
    "92% correctly predicted wines to be poor.\n",
    "\n",
    "63% correctly predicted wines to be good.\n"
   ]
  },
  {
   "cell_type": "code",
   "execution_count": 39,
   "id": "2151030f",
   "metadata": {},
   "outputs": [
    {
     "data": {
      "text/html": [
       "<div>\n",
       "<style scoped>\n",
       "    .dataframe tbody tr th:only-of-type {\n",
       "        vertical-align: middle;\n",
       "    }\n",
       "\n",
       "    .dataframe tbody tr th {\n",
       "        vertical-align: top;\n",
       "    }\n",
       "\n",
       "    .dataframe thead th {\n",
       "        text-align: right;\n",
       "    }\n",
       "</style>\n",
       "<table border=\"1\" class=\"dataframe\">\n",
       "  <thead>\n",
       "    <tr style=\"text-align: right;\">\n",
       "      <th></th>\n",
       "      <th>Model</th>\n",
       "      <th>Accuracy_score</th>\n",
       "    </tr>\n",
       "  </thead>\n",
       "  <tbody>\n",
       "    <tr>\n",
       "      <th>0</th>\n",
       "      <td>Random Forest</td>\n",
       "      <td>0.8975</td>\n",
       "    </tr>\n",
       "    <tr>\n",
       "      <th>3</th>\n",
       "      <td>KNeighbours</td>\n",
       "      <td>0.8900</td>\n",
       "    </tr>\n",
       "    <tr>\n",
       "      <th>2</th>\n",
       "      <td>Support Vector Machine</td>\n",
       "      <td>0.8875</td>\n",
       "    </tr>\n",
       "    <tr>\n",
       "      <th>1</th>\n",
       "      <td>Logistic Regression</td>\n",
       "      <td>0.8850</td>\n",
       "    </tr>\n",
       "  </tbody>\n",
       "</table>\n",
       "</div>"
      ],
      "text/plain": [
       "                    Model  Accuracy_score\n",
       "0           Random Forest          0.8975\n",
       "3             KNeighbours          0.8900\n",
       "2  Support Vector Machine          0.8875\n",
       "1     Logistic Regression          0.8850"
      ]
     },
     "execution_count": 39,
     "metadata": {},
     "output_type": "execute_result"
    },
    {
     "data": {
      "image/png": "[encoded data removed]",
      "text/plain": [
       "<Figure size 432x288 with 1 Axes>"
      ]
     },
     "metadata": {
      "needs_background": "light"
     },
     "output_type": "display_data"
    }
   ],
   "source": [
    "# Show Accuraccy Score by Model.\n",
    "models = pd.DataFrame({\n",
    "    'Model':['Random Forest', 'Logistic Regression', 'Support Vector Machine' , 'KNeighbours'],\n",
    "    'Accuracy_score' :[rf, lr, svm, kn]\n",
    "})\n",
    "models\n",
    "sns.barplot(x='Accuracy_score', y='Model', data=models)\n",
    "\n",
    "models.sort_values(by='Accuracy_score', ascending=False)"
   ]
  },
  {
   "cell_type": "markdown",
   "id": "c1e1f16f",
   "metadata": {},
   "source": [
    "Conclusions:\n",
    "\n",
    "All of the models tested showed high accuracy scores ranging from 88.50% to 89.75%. \n",
    "\n",
    "The random forrest model had the highest accuracy score.\n",
    "\n",
    "This model correctly predicted 90% of the loans to be good or poor. \n",
    "\n",
    "91% of the cases correctly predicted wines to be poor and 71% of the cases correctly predicted wines to be good. \n",
    "\n",
    "“Good” quality wines were classified as having a quality score of 7 or 8.\n",
    "\n",
    "\n",
    "“Poor” quality wines were classified as having a quality score between 3 and 6."
   ]
  },
  {
   "cell_type": "markdown",
   "id": "c8996ccb",
   "metadata": {},
   "source": [
    "Wine quality scores can be improved by increasing the amount of fixed acidity, citric acid, sulphates and alcohol and decreasing the amount of volatile acidity and chlorides.\n",
    "\n",
    "The specific amounts for each physiochemical can be found in the barplots above."
   ]
  },
  {
   "cell_type": "markdown",
   "id": "c9dce9bc",
   "metadata": {},
   "source": [
    "The models accuracy may be improved by having a larger dataset with more balance between poor and good quality wines. \n",
    "\n",
    "Also tuning some of the models hyper parameters may increase the accuracy score"
   ]
  },
  {
   "cell_type": "code",
   "execution_count": null,
   "id": "260387ec",
   "metadata": {},
   "outputs": [],
   "source": []
  }
 ],
 "metadata": {
  "kernelspec": {
   "display_name": "Python 3",
   "language": "python",
   "name": "python3"
  },
  "language_info": {
   "codemirror_mode": {
    "name": "ipython",
    "version": 3
   },
   "file_extension": ".py",
   "mimetype": "text/x-python",
   "name": "python",
   "nbconvert_exporter": "python",
   "pygments_lexer": "ipython3",
   "version": "3.8.8"
  }
 },
 "nbformat": 4,
 "nbformat_minor": 5
}
