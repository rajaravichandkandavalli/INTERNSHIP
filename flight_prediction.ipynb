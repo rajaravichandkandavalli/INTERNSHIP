{
 "cells": [
  {
   "cell_type": "code",
   "execution_count": 178,
   "id": "6c0a9274",
   "metadata": {},
   "outputs": [],
   "source": [
    "import pandas as pd #for data reading and manupulation\n",
    "import numpy as np # for data manupulation\n",
    "import matplotlib.pyplot as plt # for data Visualization\n",
    "import seaborn as sns # for data Visualization\n",
    "%matplotlib inline\n",
    "from sklearn.preprocessing import StandardScaler # for data scaling\n",
    "from sklearn.decomposition import PCA # for dimentionality  reduction\n",
    "from sklearn.cluster import KMeans # for clustering"
   ]
  },
  {
   "cell_type": "code",
   "execution_count": 179,
   "id": "3be78a2e",
   "metadata": {},
   "outputs": [],
   "source": [
    "sns.set_style()"
   ]
  },
  {
   "cell_type": "code",
   "execution_count": 180,
   "id": "cdf29d05",
   "metadata": {},
   "outputs": [],
   "source": [
    "train = pd.read_excel('Data_train.xlsx')\n",
    "test = pd.read_excel('Test_set.xlsx')"
   ]
  },
  {
   "cell_type": "code",
   "execution_count": 181,
   "id": "f022466a",
   "metadata": {},
   "outputs": [
    {
     "data": {
      "text/html": [
       "<div>\n",
       "<style scoped>\n",
       "    .dataframe tbody tr th:only-of-type {\n",
       "        vertical-align: middle;\n",
       "    }\n",
       "\n",
       "    .dataframe tbody tr th {\n",
       "        vertical-align: top;\n",
       "    }\n",
       "\n",
       "    .dataframe thead th {\n",
       "        text-align: right;\n",
       "    }\n",
       "</style>\n",
       "<table border=\"1\" class=\"dataframe\">\n",
       "  <thead>\n",
       "    <tr style=\"text-align: right;\">\n",
       "      <th></th>\n",
       "      <th>Airline</th>\n",
       "      <th>Date_of_Journey</th>\n",
       "      <th>Source</th>\n",
       "      <th>Destination</th>\n",
       "      <th>Route</th>\n",
       "      <th>Dep_Time</th>\n",
       "      <th>Arrival_Time</th>\n",
       "      <th>Duration</th>\n",
       "      <th>Total_Stops</th>\n",
       "      <th>Additional_Info</th>\n",
       "      <th>Price</th>\n",
       "    </tr>\n",
       "  </thead>\n",
       "  <tbody>\n",
       "    <tr>\n",
       "      <th>0</th>\n",
       "      <td>IndiGo</td>\n",
       "      <td>24/03/2019</td>\n",
       "      <td>Banglore</td>\n",
       "      <td>New Delhi</td>\n",
       "      <td>BLR → DEL</td>\n",
       "      <td>22:20</td>\n",
       "      <td>01:10 22 Mar</td>\n",
       "      <td>2h 50m</td>\n",
       "      <td>non-stop</td>\n",
       "      <td>No info</td>\n",
       "      <td>3897</td>\n",
       "    </tr>\n",
       "    <tr>\n",
       "      <th>1</th>\n",
       "      <td>Air India</td>\n",
       "      <td>1/05/2019</td>\n",
       "      <td>Kolkata</td>\n",
       "      <td>Banglore</td>\n",
       "      <td>CCU → IXR → BBI → BLR</td>\n",
       "      <td>05:50</td>\n",
       "      <td>13:15</td>\n",
       "      <td>7h 25m</td>\n",
       "      <td>2 stops</td>\n",
       "      <td>No info</td>\n",
       "      <td>7662</td>\n",
       "    </tr>\n",
       "    <tr>\n",
       "      <th>2</th>\n",
       "      <td>Jet Airways</td>\n",
       "      <td>9/06/2019</td>\n",
       "      <td>Delhi</td>\n",
       "      <td>Cochin</td>\n",
       "      <td>DEL → LKO → BOM → COK</td>\n",
       "      <td>09:25</td>\n",
       "      <td>04:25 10 Jun</td>\n",
       "      <td>19h</td>\n",
       "      <td>2 stops</td>\n",
       "      <td>No info</td>\n",
       "      <td>13882</td>\n",
       "    </tr>\n",
       "    <tr>\n",
       "      <th>3</th>\n",
       "      <td>IndiGo</td>\n",
       "      <td>12/05/2019</td>\n",
       "      <td>Kolkata</td>\n",
       "      <td>Banglore</td>\n",
       "      <td>CCU → NAG → BLR</td>\n",
       "      <td>18:05</td>\n",
       "      <td>23:30</td>\n",
       "      <td>5h 25m</td>\n",
       "      <td>1 stop</td>\n",
       "      <td>No info</td>\n",
       "      <td>6218</td>\n",
       "    </tr>\n",
       "    <tr>\n",
       "      <th>4</th>\n",
       "      <td>IndiGo</td>\n",
       "      <td>01/03/2019</td>\n",
       "      <td>Banglore</td>\n",
       "      <td>New Delhi</td>\n",
       "      <td>BLR → NAG → DEL</td>\n",
       "      <td>16:50</td>\n",
       "      <td>21:35</td>\n",
       "      <td>4h 45m</td>\n",
       "      <td>1 stop</td>\n",
       "      <td>No info</td>\n",
       "      <td>13302</td>\n",
       "    </tr>\n",
       "  </tbody>\n",
       "</table>\n",
       "</div>"
      ],
      "text/plain": [
       "       Airline Date_of_Journey    Source Destination                  Route  \\\n",
       "0       IndiGo      24/03/2019  Banglore   New Delhi              BLR → DEL   \n",
       "1    Air India       1/05/2019   Kolkata    Banglore  CCU → IXR → BBI → BLR   \n",
       "2  Jet Airways       9/06/2019     Delhi      Cochin  DEL → LKO → BOM → COK   \n",
       "3       IndiGo      12/05/2019   Kolkata    Banglore        CCU → NAG → BLR   \n",
       "4       IndiGo      01/03/2019  Banglore   New Delhi        BLR → NAG → DEL   \n",
       "\n",
       "  Dep_Time  Arrival_Time Duration Total_Stops Additional_Info  Price  \n",
       "0    22:20  01:10 22 Mar   2h 50m    non-stop         No info   3897  \n",
       "1    05:50         13:15   7h 25m     2 stops         No info   7662  \n",
       "2    09:25  04:25 10 Jun      19h     2 stops         No info  13882  \n",
       "3    18:05         23:30   5h 25m      1 stop         No info   6218  \n",
       "4    16:50         21:35   4h 45m      1 stop         No info  13302  "
      ]
     },
     "execution_count": 181,
     "metadata": {},
     "output_type": "execute_result"
    }
   ],
   "source": [
    "train.head()"
   ]
  },
  {
   "cell_type": "code",
   "execution_count": 182,
   "id": "46abf1be",
   "metadata": {},
   "outputs": [
    {
     "data": {
      "text/html": [
       "<div>\n",
       "<style scoped>\n",
       "    .dataframe tbody tr th:only-of-type {\n",
       "        vertical-align: middle;\n",
       "    }\n",
       "\n",
       "    .dataframe tbody tr th {\n",
       "        vertical-align: top;\n",
       "    }\n",
       "\n",
       "    .dataframe thead th {\n",
       "        text-align: right;\n",
       "    }\n",
       "</style>\n",
       "<table border=\"1\" class=\"dataframe\">\n",
       "  <thead>\n",
       "    <tr style=\"text-align: right;\">\n",
       "      <th></th>\n",
       "      <th>Airline</th>\n",
       "      <th>Date_of_Journey</th>\n",
       "      <th>Source</th>\n",
       "      <th>Destination</th>\n",
       "      <th>Route</th>\n",
       "      <th>Dep_Time</th>\n",
       "      <th>Arrival_Time</th>\n",
       "      <th>Duration</th>\n",
       "      <th>Total_Stops</th>\n",
       "      <th>Additional_Info</th>\n",
       "    </tr>\n",
       "  </thead>\n",
       "  <tbody>\n",
       "    <tr>\n",
       "      <th>0</th>\n",
       "      <td>Jet Airways</td>\n",
       "      <td>6/06/2019</td>\n",
       "      <td>Delhi</td>\n",
       "      <td>Cochin</td>\n",
       "      <td>DEL → BOM → COK</td>\n",
       "      <td>17:30</td>\n",
       "      <td>04:25 07 Jun</td>\n",
       "      <td>10h 55m</td>\n",
       "      <td>1 stop</td>\n",
       "      <td>No info</td>\n",
       "    </tr>\n",
       "    <tr>\n",
       "      <th>1</th>\n",
       "      <td>IndiGo</td>\n",
       "      <td>12/05/2019</td>\n",
       "      <td>Kolkata</td>\n",
       "      <td>Banglore</td>\n",
       "      <td>CCU → MAA → BLR</td>\n",
       "      <td>06:20</td>\n",
       "      <td>10:20</td>\n",
       "      <td>4h</td>\n",
       "      <td>1 stop</td>\n",
       "      <td>No info</td>\n",
       "    </tr>\n",
       "    <tr>\n",
       "      <th>2</th>\n",
       "      <td>Jet Airways</td>\n",
       "      <td>21/05/2019</td>\n",
       "      <td>Delhi</td>\n",
       "      <td>Cochin</td>\n",
       "      <td>DEL → BOM → COK</td>\n",
       "      <td>19:15</td>\n",
       "      <td>19:00 22 May</td>\n",
       "      <td>23h 45m</td>\n",
       "      <td>1 stop</td>\n",
       "      <td>In-flight meal not included</td>\n",
       "    </tr>\n",
       "    <tr>\n",
       "      <th>3</th>\n",
       "      <td>Multiple carriers</td>\n",
       "      <td>21/05/2019</td>\n",
       "      <td>Delhi</td>\n",
       "      <td>Cochin</td>\n",
       "      <td>DEL → BOM → COK</td>\n",
       "      <td>08:00</td>\n",
       "      <td>21:00</td>\n",
       "      <td>13h</td>\n",
       "      <td>1 stop</td>\n",
       "      <td>No info</td>\n",
       "    </tr>\n",
       "    <tr>\n",
       "      <th>4</th>\n",
       "      <td>Air Asia</td>\n",
       "      <td>24/06/2019</td>\n",
       "      <td>Banglore</td>\n",
       "      <td>Delhi</td>\n",
       "      <td>BLR → DEL</td>\n",
       "      <td>23:55</td>\n",
       "      <td>02:45 25 Jun</td>\n",
       "      <td>2h 50m</td>\n",
       "      <td>non-stop</td>\n",
       "      <td>No info</td>\n",
       "    </tr>\n",
       "  </tbody>\n",
       "</table>\n",
       "</div>"
      ],
      "text/plain": [
       "             Airline Date_of_Journey    Source Destination            Route  \\\n",
       "0        Jet Airways       6/06/2019     Delhi      Cochin  DEL → BOM → COK   \n",
       "1             IndiGo      12/05/2019   Kolkata    Banglore  CCU → MAA → BLR   \n",
       "2        Jet Airways      21/05/2019     Delhi      Cochin  DEL → BOM → COK   \n",
       "3  Multiple carriers      21/05/2019     Delhi      Cochin  DEL → BOM → COK   \n",
       "4           Air Asia      24/06/2019  Banglore       Delhi        BLR → DEL   \n",
       "\n",
       "  Dep_Time  Arrival_Time Duration Total_Stops              Additional_Info  \n",
       "0    17:30  04:25 07 Jun  10h 55m      1 stop                      No info  \n",
       "1    06:20         10:20       4h      1 stop                      No info  \n",
       "2    19:15  19:00 22 May  23h 45m      1 stop  In-flight meal not included  \n",
       "3    08:00         21:00      13h      1 stop                      No info  \n",
       "4    23:55  02:45 25 Jun   2h 50m    non-stop                      No info  "
      ]
     },
     "execution_count": 182,
     "metadata": {},
     "output_type": "execute_result"
    }
   ],
   "source": [
    "test.head()"
   ]
  },
  {
   "cell_type": "code",
   "execution_count": 183,
   "id": "7ae77eb9",
   "metadata": {},
   "outputs": [
    {
     "name": "stdout",
     "output_type": "stream",
     "text": [
      "<class 'pandas.core.frame.DataFrame'>\n",
      "RangeIndex: 10683 entries, 0 to 10682\n",
      "Data columns (total 11 columns):\n",
      " #   Column           Non-Null Count  Dtype \n",
      "---  ------           --------------  ----- \n",
      " 0   Airline          10683 non-null  object\n",
      " 1   Date_of_Journey  10683 non-null  object\n",
      " 2   Source           10683 non-null  object\n",
      " 3   Destination      10683 non-null  object\n",
      " 4   Route            10682 non-null  object\n",
      " 5   Dep_Time         10683 non-null  object\n",
      " 6   Arrival_Time     10683 non-null  object\n",
      " 7   Duration         10683 non-null  object\n",
      " 8   Total_Stops      10682 non-null  object\n",
      " 9   Additional_Info  10683 non-null  object\n",
      " 10  Price            10683 non-null  int64 \n",
      "dtypes: int64(1), object(10)\n",
      "memory usage: 918.2+ KB\n"
     ]
    }
   ],
   "source": [
    "train.info()"
   ]
  },
  {
   "cell_type": "markdown",
   "id": "2d2afc3f",
   "metadata": {},
   "source": [
    "# explanatory analysis"
   ]
  },
  {
   "cell_type": "code",
   "execution_count": 184,
   "id": "acde534a",
   "metadata": {},
   "outputs": [
    {
     "data": {
      "text/plain": [
       "<AxesSubplot:>"
      ]
     },
     "execution_count": 184,
     "metadata": {},
     "output_type": "execute_result"
    },
    {
     "data": {
      "image/png": "[encoded data removed]",
      "text/plain": [
       "<Figure size 432x288 with 1 Axes>"
      ]
     },
     "metadata": {
      "needs_background": "light"
     },
     "output_type": "display_data"
    }
   ],
   "source": [
    "train['Airline'].value_counts().plot(kind='bar')"
   ]
  },
  {
   "cell_type": "code",
   "execution_count": 185,
   "id": "91d9d433",
   "metadata": {},
   "outputs": [
    {
     "data": {
      "text/plain": [
       "<AxesSubplot:>"
      ]
     },
     "execution_count": 185,
     "metadata": {},
     "output_type": "execute_result"
    },
    {
     "data": {
      "image/png": "[encoded data removed]",
      "text/plain": [
       "<Figure size 432x288 with 1 Axes>"
      ]
     },
     "metadata": {
      "needs_background": "light"
     },
     "output_type": "display_data"
    }
   ],
   "source": [
    "train['Source'].value_counts().plot(kind='bar')"
   ]
  },
  {
   "cell_type": "code",
   "execution_count": 186,
   "id": "f7b65479",
   "metadata": {},
   "outputs": [
    {
     "data": {
      "text/plain": [
       "<AxesSubplot:>"
      ]
     },
     "execution_count": 186,
     "metadata": {},
     "output_type": "execute_result"
    },
    {
     "data": {
      "image/png": "[encoded data removed]",
      "text/plain": [
       "<Figure size 432x288 with 1 Axes>"
      ]
     },
     "metadata": {
      "needs_background": "light"
     },
     "output_type": "display_data"
    }
   ],
   "source": [
    "train['Destination'].value_counts().plot(kind='bar')"
   ]
  },
  {
   "cell_type": "code",
   "execution_count": 187,
   "id": "ea165549",
   "metadata": {},
   "outputs": [
    {
     "data": {
      "text/plain": [
       "<AxesSubplot:>"
      ]
     },
     "execution_count": 187,
     "metadata": {},
     "output_type": "execute_result"
    },
    {
     "data": {
      "image/png": "[encoded data removed]",
      "text/plain": [
       "<Figure size 432x288 with 1 Axes>"
      ]
     },
     "metadata": {
      "needs_background": "light"
     },
     "output_type": "display_data"
    }
   ],
   "source": [
    "train['Additional_Info'].value_counts().plot(kind='bar')"
   ]
  },
  {
   "cell_type": "code",
   "execution_count": 188,
   "id": "a7565e8c",
   "metadata": {},
   "outputs": [
    {
     "data": {
      "text/plain": [
       "No info                         8345\n",
       "In-flight meal not included     1982\n",
       "No check-in baggage included     320\n",
       "1 Long layover                    19\n",
       "Change airports                    7\n",
       "Business class                     4\n",
       "No Info                            3\n",
       "2 Long layover                     1\n",
       "Red-eye flight                     1\n",
       "1 Short layover                    1\n",
       "Name: Additional_Info, dtype: int64"
      ]
     },
     "execution_count": 188,
     "metadata": {},
     "output_type": "execute_result"
    }
   ],
   "source": [
    "train['Additional_Info'].value_counts()"
   ]
  },
  {
   "cell_type": "markdown",
   "id": "c26686c9",
   "metadata": {},
   "source": [
    "# datetime datatypes"
   ]
  },
  {
   "cell_type": "markdown",
   "id": "e5a81969",
   "metadata": {},
   "source": [
    "clean both train and test object at a time "
   ]
  },
  {
   "cell_type": "code",
   "execution_count": 189,
   "id": "6b47afad",
   "metadata": {},
   "outputs": [],
   "source": [
    "train['Date_of_Journey'] = pd.to_datetime(train['Date_of_Journey'], infer_datetime_format=True)\n",
    "test['Date_of_Journey'] = pd.to_datetime(test['Date_of_Journey'], infer_datetime_format=True)"
   ]
  },
  {
   "cell_type": "code",
   "execution_count": 190,
   "id": "a8567cde",
   "metadata": {},
   "outputs": [],
   "source": [
    "train['year_of_journey'] = train['Date_of_Journey'].dt.year\n",
    "train['days_of_journey'] = train['Date_of_Journey'].dt.dayofweek\n",
    "train['month_of_journey'] = train['Date_of_Journey'].dt.month"
   ]
  },
  {
   "cell_type": "code",
   "execution_count": 191,
   "id": "b1263326",
   "metadata": {},
   "outputs": [],
   "source": [
    "test['year_of_journey'] = test['Date_of_Journey'].dt.year\n",
    "test['days_of_journey'] = test['Date_of_Journey'].dt.dayofweek\n",
    "test['month_of_journey'] = test['Date_of_Journey'].dt.month"
   ]
  },
  {
   "cell_type": "code",
   "execution_count": 192,
   "id": "73899277",
   "metadata": {},
   "outputs": [],
   "source": [
    "# converting DEP_Time to minutes\n",
    "train[\"Dep_Time\"] = train[\"Dep_Time\"].str.split(':').apply(lambda x: int(x[0]) * 60 + int(x[1]))\n",
    "test[\"Dep_Time\"] = test[\"Dep_Time\"].str.split(':').apply(lambda x: int(x[0]) * 60 + int(x[1]))"
   ]
  },
  {
   "cell_type": "markdown",
   "id": "c560b85f",
   "metadata": {},
   "source": [
    "# see the duration and arrival time\n",
    "\n"
   ]
  },
  {
   "cell_type": "markdown",
   "id": "ecb5c6b6",
   "metadata": {},
   "source": [
    "The error has to be split for better preprocessing of both columns"
   ]
  },
  {
   "cell_type": "code",
   "execution_count": 193,
   "id": "03468fc7",
   "metadata": {},
   "outputs": [],
   "source": [
    "# new data frame with split value columns \n",
    "new = train[\"Duration\"].str.split(\" \", n = 1, expand = True)"
   ]
  },
  {
   "cell_type": "code",
   "execution_count": 194,
   "id": "ac0099d0",
   "metadata": {},
   "outputs": [],
   "source": [
    "train['Duration_hour'] = new[0]"
   ]
  },
  {
   "cell_type": "code",
   "execution_count": 195,
   "id": "2d6e61eb",
   "metadata": {},
   "outputs": [],
   "source": [
    "train['Duration_minute'] = new[1]"
   ]
  },
  {
   "cell_type": "code",
   "execution_count": 196,
   "id": "a5006bda",
   "metadata": {},
   "outputs": [],
   "source": [
    "new_test = test[\"Duration\"].str.split(\" \", n = 1, expand = True) \n",
    "test[\"Duration_hour\"] = new_test[0]\n",
    "test[\"Duration_minute\"] = new_test[1]"
   ]
  },
  {
   "cell_type": "code",
   "execution_count": 197,
   "id": "b9d4850e",
   "metadata": {},
   "outputs": [],
   "source": [
    "new1 = train[\"Arrival_Time\"].str.split(\" \", n = 1, expand =True) "
   ]
  },
  {
   "cell_type": "code",
   "execution_count": 198,
   "id": "456ff8c3",
   "metadata": {},
   "outputs": [],
   "source": [
    "train['Arrival_time'] = new1[0]\n",
    "train['Arrival_date'] = new1[1]"
   ]
  },
  {
   "cell_type": "code",
   "execution_count": 199,
   "id": "35b27694",
   "metadata": {},
   "outputs": [],
   "source": [
    "train['Arrival_time'] = train['Arrival_time'].astype('object')"
   ]
  },
  {
   "cell_type": "code",
   "execution_count": 200,
   "id": "379f5f67",
   "metadata": {},
   "outputs": [],
   "source": [
    "train['Arrival_date'] = train['Arrival_date'].astype('object')"
   ]
  },
  {
   "cell_type": "code",
   "execution_count": 201,
   "id": "ae2ce6f8",
   "metadata": {},
   "outputs": [],
   "source": [
    "train[\"Arrival_time\"] = train[\"Arrival_time\"].str.split(':').apply(lambda x: int(x[0]) * 60 + int(x[1]))"
   ]
  },
  {
   "cell_type": "code",
   "execution_count": 202,
   "id": "2b576c01",
   "metadata": {},
   "outputs": [],
   "source": [
    "new1_test = test[\"Arrival_Time\"].str.split(\" \", n = 1, expand =True) \n",
    "test['Arrival_time'] = new1_test[0]\n",
    "test['Arrival_date'] = new1_test[1]"
   ]
  },
  {
   "cell_type": "code",
   "execution_count": 203,
   "id": "71329009",
   "metadata": {},
   "outputs": [],
   "source": [
    "test['Arrival_time'] = test['Arrival_time'].astype('object')\n",
    "test['Arrival_date'] = test['Arrival_date'].astype('object')"
   ]
  },
  {
   "cell_type": "code",
   "execution_count": 204,
   "id": "bd5e60c9",
   "metadata": {},
   "outputs": [],
   "source": [
    "test[\"Arrival_time\"] = test[\"Arrival_time\"].str.split(':').apply(lambda x: int(x[0]) * 60 + int(x[1]))"
   ]
  },
  {
   "cell_type": "code",
   "execution_count": 205,
   "id": "fc658608",
   "metadata": {},
   "outputs": [
    {
     "data": {
      "text/html": [
       "<div>\n",
       "<style scoped>\n",
       "    .dataframe tbody tr th:only-of-type {\n",
       "        vertical-align: middle;\n",
       "    }\n",
       "\n",
       "    .dataframe tbody tr th {\n",
       "        vertical-align: top;\n",
       "    }\n",
       "\n",
       "    .dataframe thead th {\n",
       "        text-align: right;\n",
       "    }\n",
       "</style>\n",
       "<table border=\"1\" class=\"dataframe\">\n",
       "  <thead>\n",
       "    <tr style=\"text-align: right;\">\n",
       "      <th></th>\n",
       "      <th>Airline</th>\n",
       "      <th>Date_of_Journey</th>\n",
       "      <th>Source</th>\n",
       "      <th>Destination</th>\n",
       "      <th>Route</th>\n",
       "      <th>Dep_Time</th>\n",
       "      <th>Arrival_Time</th>\n",
       "      <th>Duration</th>\n",
       "      <th>Total_Stops</th>\n",
       "      <th>Additional_Info</th>\n",
       "      <th>Price</th>\n",
       "      <th>year_of_journey</th>\n",
       "      <th>days_of_journey</th>\n",
       "      <th>month_of_journey</th>\n",
       "      <th>Duration_hour</th>\n",
       "      <th>Duration_minute</th>\n",
       "      <th>Arrival_time</th>\n",
       "      <th>Arrival_date</th>\n",
       "    </tr>\n",
       "  </thead>\n",
       "  <tbody>\n",
       "    <tr>\n",
       "      <th>0</th>\n",
       "      <td>IndiGo</td>\n",
       "      <td>2019-03-24</td>\n",
       "      <td>Banglore</td>\n",
       "      <td>New Delhi</td>\n",
       "      <td>BLR → DEL</td>\n",
       "      <td>1340</td>\n",
       "      <td>01:10 22 Mar</td>\n",
       "      <td>2h 50m</td>\n",
       "      <td>non-stop</td>\n",
       "      <td>No info</td>\n",
       "      <td>3897</td>\n",
       "      <td>2019</td>\n",
       "      <td>6</td>\n",
       "      <td>3</td>\n",
       "      <td>2h</td>\n",
       "      <td>50m</td>\n",
       "      <td>70</td>\n",
       "      <td>22 Mar</td>\n",
       "    </tr>\n",
       "    <tr>\n",
       "      <th>1</th>\n",
       "      <td>Air India</td>\n",
       "      <td>2019-05-01</td>\n",
       "      <td>Kolkata</td>\n",
       "      <td>Banglore</td>\n",
       "      <td>CCU → IXR → BBI → BLR</td>\n",
       "      <td>350</td>\n",
       "      <td>13:15</td>\n",
       "      <td>7h 25m</td>\n",
       "      <td>2 stops</td>\n",
       "      <td>No info</td>\n",
       "      <td>7662</td>\n",
       "      <td>2019</td>\n",
       "      <td>2</td>\n",
       "      <td>5</td>\n",
       "      <td>7h</td>\n",
       "      <td>25m</td>\n",
       "      <td>795</td>\n",
       "      <td>None</td>\n",
       "    </tr>\n",
       "    <tr>\n",
       "      <th>2</th>\n",
       "      <td>Jet Airways</td>\n",
       "      <td>2019-06-09</td>\n",
       "      <td>Delhi</td>\n",
       "      <td>Cochin</td>\n",
       "      <td>DEL → LKO → BOM → COK</td>\n",
       "      <td>565</td>\n",
       "      <td>04:25 10 Jun</td>\n",
       "      <td>19h</td>\n",
       "      <td>2 stops</td>\n",
       "      <td>No info</td>\n",
       "      <td>13882</td>\n",
       "      <td>2019</td>\n",
       "      <td>6</td>\n",
       "      <td>6</td>\n",
       "      <td>19h</td>\n",
       "      <td>None</td>\n",
       "      <td>265</td>\n",
       "      <td>10 Jun</td>\n",
       "    </tr>\n",
       "    <tr>\n",
       "      <th>3</th>\n",
       "      <td>IndiGo</td>\n",
       "      <td>2019-05-12</td>\n",
       "      <td>Kolkata</td>\n",
       "      <td>Banglore</td>\n",
       "      <td>CCU → NAG → BLR</td>\n",
       "      <td>1085</td>\n",
       "      <td>23:30</td>\n",
       "      <td>5h 25m</td>\n",
       "      <td>1 stop</td>\n",
       "      <td>No info</td>\n",
       "      <td>6218</td>\n",
       "      <td>2019</td>\n",
       "      <td>6</td>\n",
       "      <td>5</td>\n",
       "      <td>5h</td>\n",
       "      <td>25m</td>\n",
       "      <td>1410</td>\n",
       "      <td>None</td>\n",
       "    </tr>\n",
       "    <tr>\n",
       "      <th>4</th>\n",
       "      <td>IndiGo</td>\n",
       "      <td>2019-03-01</td>\n",
       "      <td>Banglore</td>\n",
       "      <td>New Delhi</td>\n",
       "      <td>BLR → NAG → DEL</td>\n",
       "      <td>1010</td>\n",
       "      <td>21:35</td>\n",
       "      <td>4h 45m</td>\n",
       "      <td>1 stop</td>\n",
       "      <td>No info</td>\n",
       "      <td>13302</td>\n",
       "      <td>2019</td>\n",
       "      <td>4</td>\n",
       "      <td>3</td>\n",
       "      <td>4h</td>\n",
       "      <td>45m</td>\n",
       "      <td>1295</td>\n",
       "      <td>None</td>\n",
       "    </tr>\n",
       "  </tbody>\n",
       "</table>\n",
       "</div>"
      ],
      "text/plain": [
       "       Airline Date_of_Journey    Source Destination                  Route  \\\n",
       "0       IndiGo      2019-03-24  Banglore   New Delhi              BLR → DEL   \n",
       "1    Air India      2019-05-01   Kolkata    Banglore  CCU → IXR → BBI → BLR   \n",
       "2  Jet Airways      2019-06-09     Delhi      Cochin  DEL → LKO → BOM → COK   \n",
       "3       IndiGo      2019-05-12   Kolkata    Banglore        CCU → NAG → BLR   \n",
       "4       IndiGo      2019-03-01  Banglore   New Delhi        BLR → NAG → DEL   \n",
       "\n",
       "   Dep_Time  Arrival_Time Duration Total_Stops Additional_Info  Price  \\\n",
       "0      1340  01:10 22 Mar   2h 50m    non-stop         No info   3897   \n",
       "1       350         13:15   7h 25m     2 stops         No info   7662   \n",
       "2       565  04:25 10 Jun      19h     2 stops         No info  13882   \n",
       "3      1085         23:30   5h 25m      1 stop         No info   6218   \n",
       "4      1010         21:35   4h 45m      1 stop         No info  13302   \n",
       "\n",
       "   year_of_journey  days_of_journey  month_of_journey Duration_hour  \\\n",
       "0             2019                6                 3            2h   \n",
       "1             2019                2                 5            7h   \n",
       "2             2019                6                 6           19h   \n",
       "3             2019                6                 5            5h   \n",
       "4             2019                4                 3            4h   \n",
       "\n",
       "  Duration_minute  Arrival_time Arrival_date  \n",
       "0             50m            70       22 Mar  \n",
       "1             25m           795         None  \n",
       "2            None           265       10 Jun  \n",
       "3             25m          1410         None  \n",
       "4             45m          1295         None  "
      ]
     },
     "execution_count": 205,
     "metadata": {},
     "output_type": "execute_result"
    }
   ],
   "source": [
    "train.head()"
   ]
  },
  {
   "cell_type": "markdown",
   "id": "d343654c",
   "metadata": {},
   "source": [
    "clean duration minute"
   ]
  },
  {
   "cell_type": "code",
   "execution_count": 206,
   "id": "878bf067",
   "metadata": {},
   "outputs": [],
   "source": [
    "train['Duration_hour'] = train['Duration_hour'].astype('object')\n",
    "train['Duration_minute'] = train['Duration_minute'].astype('object')\n",
    "# for test data\n",
    "test['Duration_hour'] = test['Duration_hour'].astype('object')\n",
    "test['Duration_minute'] = test['Duration_minute'].astype('object')"
   ]
  },
  {
   "cell_type": "code",
   "execution_count": 207,
   "id": "23830fa9",
   "metadata": {},
   "outputs": [],
   "source": [
    "train['Duration_hour'] = train['Duration_hour'].replace({'2h':'02', '7h':'07', '19h':'19', '5h':'05', '4h':'04', '15h':'15', '21h':'21', '25h':'25'\n",
    "                                , '13h':'13', '12h':'12',\n",
    "       '26h':'26', '22h':'22', '23h':'23', '20h':'20', '10h':'10', '6h':'06', '11h':'11', '8h':'08', '16h':'16', '3h':'03',\n",
    "       '27h':'27', '1h':'01', '14h':'14', '9h':'09', '18h':'18', '17h':'17', '24h':\"24\", '30h':\"30\", '28h':\"28\", '29h':\"29\",\n",
    "       '37h':\"37\", '34h':\"34\", '38h':\"38\", '35h':\"35\", '36h':\"36\", '47h':\"47\", '33h':\"33\", '32h':\"32\", '31h':\"31\",\n",
    "       '42h':\"42\", '39h':\"39\", '5m':\"05\", '41h':\"41\", '40h':\"40\"})"
   ]
  },
  {
   "cell_type": "code",
   "execution_count": 208,
   "id": "3dc8a3a9",
   "metadata": {},
   "outputs": [],
   "source": [
    "train['Duration_minute'] = train['Duration_minute'].replace({'50m':\"50\", '25m':\"25\", None:'00', '45m':\"45\", '30m':\"30\", '5m':\"05\", '15m':\"15\", '35m':\"35\", '10m':\"10\", \n",
    "                                  '20m':\"20\",\n",
    "                                '55m':\"55\", '40m':\"40\"})"
   ]
  },
  {
   "cell_type": "code",
   "execution_count": 209,
   "id": "a434c612",
   "metadata": {},
   "outputs": [],
   "source": [
    "test['Duration_hour'] = test['Duration_hour'].replace({'10h':'10', '4h':'04', '23h':'23', '13h':'13', '2h':'02', '18h':'18', '15h':'15', '5h':'05', '6h':'06', '28h':'28',\n",
    "                                                    '9h':'09','17h':'17','12h':'12', '14h':'14', '11h':'11', '25h':'25', '19h':'19', '7h':'07', '3h':'03', '1h':'01',\n",
    "                                                      '27h':'27', '26h':'26', '8h':'08', '21h':'21', '16h':'16', '22h':'22', '33h':'33', '24h':'24', '38h':'38', '20h':'20',\n",
    "                                                      '35h':'35', '31h':'31', '34h':'34', '29h':'29', '30h':'30', '37h':'37', '36h':'36', '39h':'39', '32h':'32',\n",
    "                                                      '40h':'40', '5m':'05'})"
   ]
  },
  {
   "cell_type": "code",
   "execution_count": 210,
   "id": "5b35f349",
   "metadata": {},
   "outputs": [],
   "source": [
    "test['Duration_minute'] = test['Duration_minute'].replace({'55m':'55', None:'00', '45m':'45', '50m':'50', '20m':'20', '5m':'05', '15m':'15',\n",
    "                                                          '40m':'40', '10m':'10', '35m':'35',\n",
    "                                                          '30m':'30', '25m':'25'})"
   ]
  },
  {
   "cell_type": "markdown",
   "id": "94a3e1ec",
   "metadata": {},
   "source": [
    "head DataFrame"
   ]
  },
  {
   "cell_type": "code",
   "execution_count": 211,
   "id": "2b6420ec",
   "metadata": {},
   "outputs": [
    {
     "data": {
      "text/html": [
       "<div>\n",
       "<style scoped>\n",
       "    .dataframe tbody tr th:only-of-type {\n",
       "        vertical-align: middle;\n",
       "    }\n",
       "\n",
       "    .dataframe tbody tr th {\n",
       "        vertical-align: top;\n",
       "    }\n",
       "\n",
       "    .dataframe thead th {\n",
       "        text-align: right;\n",
       "    }\n",
       "</style>\n",
       "<table border=\"1\" class=\"dataframe\">\n",
       "  <thead>\n",
       "    <tr style=\"text-align: right;\">\n",
       "      <th></th>\n",
       "      <th>Airline</th>\n",
       "      <th>Date_of_Journey</th>\n",
       "      <th>Source</th>\n",
       "      <th>Destination</th>\n",
       "      <th>Route</th>\n",
       "      <th>Dep_Time</th>\n",
       "      <th>Arrival_Time</th>\n",
       "      <th>Duration</th>\n",
       "      <th>Total_Stops</th>\n",
       "      <th>Additional_Info</th>\n",
       "      <th>Price</th>\n",
       "      <th>year_of_journey</th>\n",
       "      <th>days_of_journey</th>\n",
       "      <th>month_of_journey</th>\n",
       "      <th>Duration_hour</th>\n",
       "      <th>Duration_minute</th>\n",
       "      <th>Arrival_time</th>\n",
       "      <th>Arrival_date</th>\n",
       "    </tr>\n",
       "  </thead>\n",
       "  <tbody>\n",
       "    <tr>\n",
       "      <th>0</th>\n",
       "      <td>IndiGo</td>\n",
       "      <td>2019-03-24</td>\n",
       "      <td>Banglore</td>\n",
       "      <td>New Delhi</td>\n",
       "      <td>BLR → DEL</td>\n",
       "      <td>1340</td>\n",
       "      <td>01:10 22 Mar</td>\n",
       "      <td>2h 50m</td>\n",
       "      <td>non-stop</td>\n",
       "      <td>No info</td>\n",
       "      <td>3897</td>\n",
       "      <td>2019</td>\n",
       "      <td>6</td>\n",
       "      <td>3</td>\n",
       "      <td>02</td>\n",
       "      <td>50</td>\n",
       "      <td>70</td>\n",
       "      <td>22 Mar</td>\n",
       "    </tr>\n",
       "    <tr>\n",
       "      <th>1</th>\n",
       "      <td>Air India</td>\n",
       "      <td>2019-05-01</td>\n",
       "      <td>Kolkata</td>\n",
       "      <td>Banglore</td>\n",
       "      <td>CCU → IXR → BBI → BLR</td>\n",
       "      <td>350</td>\n",
       "      <td>13:15</td>\n",
       "      <td>7h 25m</td>\n",
       "      <td>2 stops</td>\n",
       "      <td>No info</td>\n",
       "      <td>7662</td>\n",
       "      <td>2019</td>\n",
       "      <td>2</td>\n",
       "      <td>5</td>\n",
       "      <td>07</td>\n",
       "      <td>25</td>\n",
       "      <td>795</td>\n",
       "      <td>None</td>\n",
       "    </tr>\n",
       "    <tr>\n",
       "      <th>2</th>\n",
       "      <td>Jet Airways</td>\n",
       "      <td>2019-06-09</td>\n",
       "      <td>Delhi</td>\n",
       "      <td>Cochin</td>\n",
       "      <td>DEL → LKO → BOM → COK</td>\n",
       "      <td>565</td>\n",
       "      <td>04:25 10 Jun</td>\n",
       "      <td>19h</td>\n",
       "      <td>2 stops</td>\n",
       "      <td>No info</td>\n",
       "      <td>13882</td>\n",
       "      <td>2019</td>\n",
       "      <td>6</td>\n",
       "      <td>6</td>\n",
       "      <td>19</td>\n",
       "      <td>00</td>\n",
       "      <td>265</td>\n",
       "      <td>10 Jun</td>\n",
       "    </tr>\n",
       "    <tr>\n",
       "      <th>3</th>\n",
       "      <td>IndiGo</td>\n",
       "      <td>2019-05-12</td>\n",
       "      <td>Kolkata</td>\n",
       "      <td>Banglore</td>\n",
       "      <td>CCU → NAG → BLR</td>\n",
       "      <td>1085</td>\n",
       "      <td>23:30</td>\n",
       "      <td>5h 25m</td>\n",
       "      <td>1 stop</td>\n",
       "      <td>No info</td>\n",
       "      <td>6218</td>\n",
       "      <td>2019</td>\n",
       "      <td>6</td>\n",
       "      <td>5</td>\n",
       "      <td>05</td>\n",
       "      <td>25</td>\n",
       "      <td>1410</td>\n",
       "      <td>None</td>\n",
       "    </tr>\n",
       "    <tr>\n",
       "      <th>4</th>\n",
       "      <td>IndiGo</td>\n",
       "      <td>2019-03-01</td>\n",
       "      <td>Banglore</td>\n",
       "      <td>New Delhi</td>\n",
       "      <td>BLR → NAG → DEL</td>\n",
       "      <td>1010</td>\n",
       "      <td>21:35</td>\n",
       "      <td>4h 45m</td>\n",
       "      <td>1 stop</td>\n",
       "      <td>No info</td>\n",
       "      <td>13302</td>\n",
       "      <td>2019</td>\n",
       "      <td>4</td>\n",
       "      <td>3</td>\n",
       "      <td>04</td>\n",
       "      <td>45</td>\n",
       "      <td>1295</td>\n",
       "      <td>None</td>\n",
       "    </tr>\n",
       "  </tbody>\n",
       "</table>\n",
       "</div>"
      ],
      "text/plain": [
       "       Airline Date_of_Journey    Source Destination                  Route  \\\n",
       "0       IndiGo      2019-03-24  Banglore   New Delhi              BLR → DEL   \n",
       "1    Air India      2019-05-01   Kolkata    Banglore  CCU → IXR → BBI → BLR   \n",
       "2  Jet Airways      2019-06-09     Delhi      Cochin  DEL → LKO → BOM → COK   \n",
       "3       IndiGo      2019-05-12   Kolkata    Banglore        CCU → NAG → BLR   \n",
       "4       IndiGo      2019-03-01  Banglore   New Delhi        BLR → NAG → DEL   \n",
       "\n",
       "   Dep_Time  Arrival_Time Duration Total_Stops Additional_Info  Price  \\\n",
       "0      1340  01:10 22 Mar   2h 50m    non-stop         No info   3897   \n",
       "1       350         13:15   7h 25m     2 stops         No info   7662   \n",
       "2       565  04:25 10 Jun      19h     2 stops         No info  13882   \n",
       "3      1085         23:30   5h 25m      1 stop         No info   6218   \n",
       "4      1010         21:35   4h 45m      1 stop         No info  13302   \n",
       "\n",
       "   year_of_journey  days_of_journey  month_of_journey Duration_hour  \\\n",
       "0             2019                6                 3            02   \n",
       "1             2019                2                 5            07   \n",
       "2             2019                6                 6            19   \n",
       "3             2019                6                 5            05   \n",
       "4             2019                4                 3            04   \n",
       "\n",
       "  Duration_minute  Arrival_time Arrival_date  \n",
       "0              50            70       22 Mar  \n",
       "1              25           795         None  \n",
       "2              00           265       10 Jun  \n",
       "3              25          1410         None  \n",
       "4              45          1295         None  "
      ]
     },
     "execution_count": 211,
     "metadata": {},
     "output_type": "execute_result"
    }
   ],
   "source": [
    "train.head()"
   ]
  },
  {
   "cell_type": "code",
   "execution_count": 212,
   "id": "5571bf6b",
   "metadata": {},
   "outputs": [],
   "source": [
    "# concating\n",
    "train['duration'] = train['Duration_hour'] + ':' + train['Duration_minute']\n",
    "test['duration'] = test['Duration_hour'] + ':' + test['Duration_minute']"
   ]
  },
  {
   "cell_type": "code",
   "execution_count": 213,
   "id": "e4711efa",
   "metadata": {},
   "outputs": [
    {
     "data": {
      "text/html": [
       "<div>\n",
       "<style scoped>\n",
       "    .dataframe tbody tr th:only-of-type {\n",
       "        vertical-align: middle;\n",
       "    }\n",
       "\n",
       "    .dataframe tbody tr th {\n",
       "        vertical-align: top;\n",
       "    }\n",
       "\n",
       "    .dataframe thead th {\n",
       "        text-align: right;\n",
       "    }\n",
       "</style>\n",
       "<table border=\"1\" class=\"dataframe\">\n",
       "  <thead>\n",
       "    <tr style=\"text-align: right;\">\n",
       "      <th></th>\n",
       "      <th>Airline</th>\n",
       "      <th>Date_of_Journey</th>\n",
       "      <th>Source</th>\n",
       "      <th>Destination</th>\n",
       "      <th>Route</th>\n",
       "      <th>Dep_Time</th>\n",
       "      <th>Arrival_Time</th>\n",
       "      <th>Duration</th>\n",
       "      <th>Total_Stops</th>\n",
       "      <th>Additional_Info</th>\n",
       "      <th>Price</th>\n",
       "      <th>year_of_journey</th>\n",
       "      <th>days_of_journey</th>\n",
       "      <th>month_of_journey</th>\n",
       "      <th>Duration_hour</th>\n",
       "      <th>Duration_minute</th>\n",
       "      <th>Arrival_time</th>\n",
       "      <th>Arrival_date</th>\n",
       "      <th>duration</th>\n",
       "    </tr>\n",
       "  </thead>\n",
       "  <tbody>\n",
       "    <tr>\n",
       "      <th>0</th>\n",
       "      <td>IndiGo</td>\n",
       "      <td>2019-03-24</td>\n",
       "      <td>Banglore</td>\n",
       "      <td>New Delhi</td>\n",
       "      <td>BLR → DEL</td>\n",
       "      <td>1340</td>\n",
       "      <td>01:10 22 Mar</td>\n",
       "      <td>2h 50m</td>\n",
       "      <td>non-stop</td>\n",
       "      <td>No info</td>\n",
       "      <td>3897</td>\n",
       "      <td>2019</td>\n",
       "      <td>6</td>\n",
       "      <td>3</td>\n",
       "      <td>02</td>\n",
       "      <td>50</td>\n",
       "      <td>70</td>\n",
       "      <td>22 Mar</td>\n",
       "      <td>02:50</td>\n",
       "    </tr>\n",
       "    <tr>\n",
       "      <th>1</th>\n",
       "      <td>Air India</td>\n",
       "      <td>2019-05-01</td>\n",
       "      <td>Kolkata</td>\n",
       "      <td>Banglore</td>\n",
       "      <td>CCU → IXR → BBI → BLR</td>\n",
       "      <td>350</td>\n",
       "      <td>13:15</td>\n",
       "      <td>7h 25m</td>\n",
       "      <td>2 stops</td>\n",
       "      <td>No info</td>\n",
       "      <td>7662</td>\n",
       "      <td>2019</td>\n",
       "      <td>2</td>\n",
       "      <td>5</td>\n",
       "      <td>07</td>\n",
       "      <td>25</td>\n",
       "      <td>795</td>\n",
       "      <td>None</td>\n",
       "      <td>07:25</td>\n",
       "    </tr>\n",
       "    <tr>\n",
       "      <th>2</th>\n",
       "      <td>Jet Airways</td>\n",
       "      <td>2019-06-09</td>\n",
       "      <td>Delhi</td>\n",
       "      <td>Cochin</td>\n",
       "      <td>DEL → LKO → BOM → COK</td>\n",
       "      <td>565</td>\n",
       "      <td>04:25 10 Jun</td>\n",
       "      <td>19h</td>\n",
       "      <td>2 stops</td>\n",
       "      <td>No info</td>\n",
       "      <td>13882</td>\n",
       "      <td>2019</td>\n",
       "      <td>6</td>\n",
       "      <td>6</td>\n",
       "      <td>19</td>\n",
       "      <td>00</td>\n",
       "      <td>265</td>\n",
       "      <td>10 Jun</td>\n",
       "      <td>19:00</td>\n",
       "    </tr>\n",
       "    <tr>\n",
       "      <th>3</th>\n",
       "      <td>IndiGo</td>\n",
       "      <td>2019-05-12</td>\n",
       "      <td>Kolkata</td>\n",
       "      <td>Banglore</td>\n",
       "      <td>CCU → NAG → BLR</td>\n",
       "      <td>1085</td>\n",
       "      <td>23:30</td>\n",
       "      <td>5h 25m</td>\n",
       "      <td>1 stop</td>\n",
       "      <td>No info</td>\n",
       "      <td>6218</td>\n",
       "      <td>2019</td>\n",
       "      <td>6</td>\n",
       "      <td>5</td>\n",
       "      <td>05</td>\n",
       "      <td>25</td>\n",
       "      <td>1410</td>\n",
       "      <td>None</td>\n",
       "      <td>05:25</td>\n",
       "    </tr>\n",
       "    <tr>\n",
       "      <th>4</th>\n",
       "      <td>IndiGo</td>\n",
       "      <td>2019-03-01</td>\n",
       "      <td>Banglore</td>\n",
       "      <td>New Delhi</td>\n",
       "      <td>BLR → NAG → DEL</td>\n",
       "      <td>1010</td>\n",
       "      <td>21:35</td>\n",
       "      <td>4h 45m</td>\n",
       "      <td>1 stop</td>\n",
       "      <td>No info</td>\n",
       "      <td>13302</td>\n",
       "      <td>2019</td>\n",
       "      <td>4</td>\n",
       "      <td>3</td>\n",
       "      <td>04</td>\n",
       "      <td>45</td>\n",
       "      <td>1295</td>\n",
       "      <td>None</td>\n",
       "      <td>04:45</td>\n",
       "    </tr>\n",
       "  </tbody>\n",
       "</table>\n",
       "</div>"
      ],
      "text/plain": [
       "       Airline Date_of_Journey    Source Destination                  Route  \\\n",
       "0       IndiGo      2019-03-24  Banglore   New Delhi              BLR → DEL   \n",
       "1    Air India      2019-05-01   Kolkata    Banglore  CCU → IXR → BBI → BLR   \n",
       "2  Jet Airways      2019-06-09     Delhi      Cochin  DEL → LKO → BOM → COK   \n",
       "3       IndiGo      2019-05-12   Kolkata    Banglore        CCU → NAG → BLR   \n",
       "4       IndiGo      2019-03-01  Banglore   New Delhi        BLR → NAG → DEL   \n",
       "\n",
       "   Dep_Time  Arrival_Time Duration Total_Stops Additional_Info  Price  \\\n",
       "0      1340  01:10 22 Mar   2h 50m    non-stop         No info   3897   \n",
       "1       350         13:15   7h 25m     2 stops         No info   7662   \n",
       "2       565  04:25 10 Jun      19h     2 stops         No info  13882   \n",
       "3      1085         23:30   5h 25m      1 stop         No info   6218   \n",
       "4      1010         21:35   4h 45m      1 stop         No info  13302   \n",
       "\n",
       "   year_of_journey  days_of_journey  month_of_journey Duration_hour  \\\n",
       "0             2019                6                 3            02   \n",
       "1             2019                2                 5            07   \n",
       "2             2019                6                 6            19   \n",
       "3             2019                6                 5            05   \n",
       "4             2019                4                 3            04   \n",
       "\n",
       "  Duration_minute  Arrival_time Arrival_date duration  \n",
       "0              50            70       22 Mar    02:50  \n",
       "1              25           795         None    07:25  \n",
       "2              00           265       10 Jun    19:00  \n",
       "3              25          1410         None    05:25  \n",
       "4              45          1295         None    04:45  "
      ]
     },
     "execution_count": 213,
     "metadata": {},
     "output_type": "execute_result"
    }
   ],
   "source": [
    "train.head()"
   ]
  },
  {
   "cell_type": "code",
   "execution_count": 214,
   "id": "a5a859b4",
   "metadata": {},
   "outputs": [],
   "source": [
    "train[\"duration\"] = train[\"duration\"].str.split(':').apply(lambda x: int(x[0]) * 60 + int(x[1]))\n",
    "test[\"duration\"] = test[\"duration\"].str.split(':').apply(lambda x: int(x[0]) * 60 + int(x[1]))"
   ]
  },
  {
   "cell_type": "code",
   "execution_count": 215,
   "id": "62bed377",
   "metadata": {},
   "outputs": [
    {
     "data": {
      "text/html": [
       "<div>\n",
       "<style scoped>\n",
       "    .dataframe tbody tr th:only-of-type {\n",
       "        vertical-align: middle;\n",
       "    }\n",
       "\n",
       "    .dataframe tbody tr th {\n",
       "        vertical-align: top;\n",
       "    }\n",
       "\n",
       "    .dataframe thead th {\n",
       "        text-align: right;\n",
       "    }\n",
       "</style>\n",
       "<table border=\"1\" class=\"dataframe\">\n",
       "  <thead>\n",
       "    <tr style=\"text-align: right;\">\n",
       "      <th></th>\n",
       "      <th>Airline</th>\n",
       "      <th>Date_of_Journey</th>\n",
       "      <th>Source</th>\n",
       "      <th>Destination</th>\n",
       "      <th>Route</th>\n",
       "      <th>Dep_Time</th>\n",
       "      <th>Arrival_Time</th>\n",
       "      <th>Duration</th>\n",
       "      <th>Total_Stops</th>\n",
       "      <th>Additional_Info</th>\n",
       "      <th>Price</th>\n",
       "      <th>year_of_journey</th>\n",
       "      <th>days_of_journey</th>\n",
       "      <th>month_of_journey</th>\n",
       "      <th>Duration_hour</th>\n",
       "      <th>Duration_minute</th>\n",
       "      <th>Arrival_time</th>\n",
       "      <th>Arrival_date</th>\n",
       "      <th>duration</th>\n",
       "    </tr>\n",
       "  </thead>\n",
       "  <tbody>\n",
       "    <tr>\n",
       "      <th>0</th>\n",
       "      <td>IndiGo</td>\n",
       "      <td>2019-03-24</td>\n",
       "      <td>Banglore</td>\n",
       "      <td>New Delhi</td>\n",
       "      <td>BLR → DEL</td>\n",
       "      <td>1340</td>\n",
       "      <td>01:10 22 Mar</td>\n",
       "      <td>2h 50m</td>\n",
       "      <td>non-stop</td>\n",
       "      <td>No info</td>\n",
       "      <td>3897</td>\n",
       "      <td>2019</td>\n",
       "      <td>6</td>\n",
       "      <td>3</td>\n",
       "      <td>02</td>\n",
       "      <td>50</td>\n",
       "      <td>70</td>\n",
       "      <td>22 Mar</td>\n",
       "      <td>170</td>\n",
       "    </tr>\n",
       "    <tr>\n",
       "      <th>1</th>\n",
       "      <td>Air India</td>\n",
       "      <td>2019-05-01</td>\n",
       "      <td>Kolkata</td>\n",
       "      <td>Banglore</td>\n",
       "      <td>CCU → IXR → BBI → BLR</td>\n",
       "      <td>350</td>\n",
       "      <td>13:15</td>\n",
       "      <td>7h 25m</td>\n",
       "      <td>2 stops</td>\n",
       "      <td>No info</td>\n",
       "      <td>7662</td>\n",
       "      <td>2019</td>\n",
       "      <td>2</td>\n",
       "      <td>5</td>\n",
       "      <td>07</td>\n",
       "      <td>25</td>\n",
       "      <td>795</td>\n",
       "      <td>None</td>\n",
       "      <td>445</td>\n",
       "    </tr>\n",
       "    <tr>\n",
       "      <th>2</th>\n",
       "      <td>Jet Airways</td>\n",
       "      <td>2019-06-09</td>\n",
       "      <td>Delhi</td>\n",
       "      <td>Cochin</td>\n",
       "      <td>DEL → LKO → BOM → COK</td>\n",
       "      <td>565</td>\n",
       "      <td>04:25 10 Jun</td>\n",
       "      <td>19h</td>\n",
       "      <td>2 stops</td>\n",
       "      <td>No info</td>\n",
       "      <td>13882</td>\n",
       "      <td>2019</td>\n",
       "      <td>6</td>\n",
       "      <td>6</td>\n",
       "      <td>19</td>\n",
       "      <td>00</td>\n",
       "      <td>265</td>\n",
       "      <td>10 Jun</td>\n",
       "      <td>1140</td>\n",
       "    </tr>\n",
       "    <tr>\n",
       "      <th>3</th>\n",
       "      <td>IndiGo</td>\n",
       "      <td>2019-05-12</td>\n",
       "      <td>Kolkata</td>\n",
       "      <td>Banglore</td>\n",
       "      <td>CCU → NAG → BLR</td>\n",
       "      <td>1085</td>\n",
       "      <td>23:30</td>\n",
       "      <td>5h 25m</td>\n",
       "      <td>1 stop</td>\n",
       "      <td>No info</td>\n",
       "      <td>6218</td>\n",
       "      <td>2019</td>\n",
       "      <td>6</td>\n",
       "      <td>5</td>\n",
       "      <td>05</td>\n",
       "      <td>25</td>\n",
       "      <td>1410</td>\n",
       "      <td>None</td>\n",
       "      <td>325</td>\n",
       "    </tr>\n",
       "    <tr>\n",
       "      <th>4</th>\n",
       "      <td>IndiGo</td>\n",
       "      <td>2019-03-01</td>\n",
       "      <td>Banglore</td>\n",
       "      <td>New Delhi</td>\n",
       "      <td>BLR → NAG → DEL</td>\n",
       "      <td>1010</td>\n",
       "      <td>21:35</td>\n",
       "      <td>4h 45m</td>\n",
       "      <td>1 stop</td>\n",
       "      <td>No info</td>\n",
       "      <td>13302</td>\n",
       "      <td>2019</td>\n",
       "      <td>4</td>\n",
       "      <td>3</td>\n",
       "      <td>04</td>\n",
       "      <td>45</td>\n",
       "      <td>1295</td>\n",
       "      <td>None</td>\n",
       "      <td>285</td>\n",
       "    </tr>\n",
       "  </tbody>\n",
       "</table>\n",
       "</div>"
      ],
      "text/plain": [
       "       Airline Date_of_Journey    Source Destination                  Route  \\\n",
       "0       IndiGo      2019-03-24  Banglore   New Delhi              BLR → DEL   \n",
       "1    Air India      2019-05-01   Kolkata    Banglore  CCU → IXR → BBI → BLR   \n",
       "2  Jet Airways      2019-06-09     Delhi      Cochin  DEL → LKO → BOM → COK   \n",
       "3       IndiGo      2019-05-12   Kolkata    Banglore        CCU → NAG → BLR   \n",
       "4       IndiGo      2019-03-01  Banglore   New Delhi        BLR → NAG → DEL   \n",
       "\n",
       "   Dep_Time  Arrival_Time Duration Total_Stops Additional_Info  Price  \\\n",
       "0      1340  01:10 22 Mar   2h 50m    non-stop         No info   3897   \n",
       "1       350         13:15   7h 25m     2 stops         No info   7662   \n",
       "2       565  04:25 10 Jun      19h     2 stops         No info  13882   \n",
       "3      1085         23:30   5h 25m      1 stop         No info   6218   \n",
       "4      1010         21:35   4h 45m      1 stop         No info  13302   \n",
       "\n",
       "   year_of_journey  days_of_journey  month_of_journey Duration_hour  \\\n",
       "0             2019                6                 3            02   \n",
       "1             2019                2                 5            07   \n",
       "2             2019                6                 6            19   \n",
       "3             2019                6                 5            05   \n",
       "4             2019                4                 3            04   \n",
       "\n",
       "  Duration_minute  Arrival_time Arrival_date  duration  \n",
       "0              50            70       22 Mar       170  \n",
       "1              25           795         None       445  \n",
       "2              00           265       10 Jun      1140  \n",
       "3              25          1410         None       325  \n",
       "4              45          1295         None       285  "
      ]
     },
     "execution_count": 215,
     "metadata": {},
     "output_type": "execute_result"
    }
   ],
   "source": [
    "train.head()"
   ]
  },
  {
   "cell_type": "markdown",
   "id": "56387a89",
   "metadata": {},
   "source": [
    "Cleaning the data into minute"
   ]
  },
  {
   "cell_type": "code",
   "execution_count": 216,
   "id": "c871011b",
   "metadata": {},
   "outputs": [
    {
     "name": "stdout",
     "output_type": "stream",
     "text": [
      "<class 'pandas.core.frame.DataFrame'>\n",
      "RangeIndex: 10683 entries, 0 to 10682\n",
      "Data columns (total 19 columns):\n",
      " #   Column            Non-Null Count  Dtype         \n",
      "---  ------            --------------  -----         \n",
      " 0   Airline           10683 non-null  object        \n",
      " 1   Date_of_Journey   10683 non-null  datetime64[ns]\n",
      " 2   Source            10683 non-null  object        \n",
      " 3   Destination       10683 non-null  object        \n",
      " 4   Route             10682 non-null  object        \n",
      " 5   Dep_Time          10683 non-null  int64         \n",
      " 6   Arrival_Time      10683 non-null  object        \n",
      " 7   Duration          10683 non-null  object        \n",
      " 8   Total_Stops       10682 non-null  object        \n",
      " 9   Additional_Info   10683 non-null  object        \n",
      " 10  Price             10683 non-null  int64         \n",
      " 11  year_of_journey   10683 non-null  int64         \n",
      " 12  days_of_journey   10683 non-null  int64         \n",
      " 13  month_of_journey  10683 non-null  int64         \n",
      " 14  Duration_hour     10683 non-null  object        \n",
      " 15  Duration_minute   10683 non-null  object        \n",
      " 16  Arrival_time      10683 non-null  int64         \n",
      " 17  Arrival_date      4335 non-null   object        \n",
      " 18  duration          10683 non-null  int64         \n",
      "dtypes: datetime64[ns](1), int64(7), object(11)\n",
      "memory usage: 1.5+ MB\n"
     ]
    }
   ],
   "source": [
    "train.info()"
   ]
  },
  {
   "cell_type": "markdown",
   "id": "c9cd150f",
   "metadata": {},
   "source": [
    "# droping unneccessary column"
   ]
  },
  {
   "cell_type": "code",
   "execution_count": 217,
   "id": "e1cd9a27",
   "metadata": {},
   "outputs": [
    {
     "data": {
      "text/plain": [
       "Index(['Airline', 'Date_of_Journey', 'Source', 'Destination', 'Route',\n",
       "       'Dep_Time', 'Arrival_Time', 'Duration', 'Total_Stops',\n",
       "       'Additional_Info', 'Price', 'year_of_journey', 'days_of_journey',\n",
       "       'month_of_journey', 'Duration_hour', 'Duration_minute', 'Arrival_time',\n",
       "       'Arrival_date', 'duration'],\n",
       "      dtype='object')"
      ]
     },
     "execution_count": 217,
     "metadata": {},
     "output_type": "execute_result"
    }
   ],
   "source": [
    "train.columns"
   ]
  },
  {
   "cell_type": "code",
   "execution_count": 218,
   "id": "dfc19bfc",
   "metadata": {},
   "outputs": [],
   "source": [
    "train.drop(['Arrival_date','Arrival_Time', 'Duration','Duration_hour', 'Duration_minute'], axis=1, inplace=True)"
   ]
  },
  {
   "cell_type": "code",
   "execution_count": 219,
   "id": "9d5de983",
   "metadata": {},
   "outputs": [],
   "source": [
    "test.drop(['Arrival_date','Arrival_Time', 'Duration','Duration_hour', 'Duration_minute'], axis=1, inplace=True)"
   ]
  },
  {
   "cell_type": "markdown",
   "id": "50701d0f",
   "metadata": {},
   "source": [
    "# checking the clean data"
   ]
  },
  {
   "cell_type": "code",
   "execution_count": 220,
   "id": "a981c2fa",
   "metadata": {},
   "outputs": [],
   "source": [
    "# import the data to my csv file\n",
    "#train.to_csv('India_flight_train.csv', index=False)#\n",
    "#test.to_csv('India_flight_test.csv', index=False)"
   ]
  },
  {
   "cell_type": "markdown",
   "id": "28227d43",
   "metadata": {},
   "source": [
    "data exploration"
   ]
  },
  {
   "cell_type": "code",
   "execution_count": 221,
   "id": "02cf123b",
   "metadata": {},
   "outputs": [
    {
     "data": {
      "text/html": [
       "<div>\n",
       "<style scoped>\n",
       "    .dataframe tbody tr th:only-of-type {\n",
       "        vertical-align: middle;\n",
       "    }\n",
       "\n",
       "    .dataframe tbody tr th {\n",
       "        vertical-align: top;\n",
       "    }\n",
       "\n",
       "    .dataframe thead th {\n",
       "        text-align: right;\n",
       "    }\n",
       "</style>\n",
       "<table border=\"1\" class=\"dataframe\">\n",
       "  <thead>\n",
       "    <tr style=\"text-align: right;\">\n",
       "      <th></th>\n",
       "      <th>Airline</th>\n",
       "      <th>Date_of_Journey</th>\n",
       "      <th>Source</th>\n",
       "      <th>Destination</th>\n",
       "      <th>Route</th>\n",
       "      <th>Dep_Time</th>\n",
       "      <th>Total_Stops</th>\n",
       "      <th>Additional_Info</th>\n",
       "      <th>Price</th>\n",
       "      <th>year_of_journey</th>\n",
       "      <th>days_of_journey</th>\n",
       "      <th>month_of_journey</th>\n",
       "      <th>Arrival_time</th>\n",
       "      <th>duration</th>\n",
       "    </tr>\n",
       "  </thead>\n",
       "  <tbody>\n",
       "    <tr>\n",
       "      <th>0</th>\n",
       "      <td>IndiGo</td>\n",
       "      <td>2019-03-24</td>\n",
       "      <td>Banglore</td>\n",
       "      <td>New Delhi</td>\n",
       "      <td>BLR → DEL</td>\n",
       "      <td>1340</td>\n",
       "      <td>non-stop</td>\n",
       "      <td>No info</td>\n",
       "      <td>3897</td>\n",
       "      <td>2019</td>\n",
       "      <td>6</td>\n",
       "      <td>3</td>\n",
       "      <td>70</td>\n",
       "      <td>170</td>\n",
       "    </tr>\n",
       "    <tr>\n",
       "      <th>1</th>\n",
       "      <td>Air India</td>\n",
       "      <td>2019-05-01</td>\n",
       "      <td>Kolkata</td>\n",
       "      <td>Banglore</td>\n",
       "      <td>CCU → IXR → BBI → BLR</td>\n",
       "      <td>350</td>\n",
       "      <td>2 stops</td>\n",
       "      <td>No info</td>\n",
       "      <td>7662</td>\n",
       "      <td>2019</td>\n",
       "      <td>2</td>\n",
       "      <td>5</td>\n",
       "      <td>795</td>\n",
       "      <td>445</td>\n",
       "    </tr>\n",
       "    <tr>\n",
       "      <th>2</th>\n",
       "      <td>Jet Airways</td>\n",
       "      <td>2019-06-09</td>\n",
       "      <td>Delhi</td>\n",
       "      <td>Cochin</td>\n",
       "      <td>DEL → LKO → BOM → COK</td>\n",
       "      <td>565</td>\n",
       "      <td>2 stops</td>\n",
       "      <td>No info</td>\n",
       "      <td>13882</td>\n",
       "      <td>2019</td>\n",
       "      <td>6</td>\n",
       "      <td>6</td>\n",
       "      <td>265</td>\n",
       "      <td>1140</td>\n",
       "    </tr>\n",
       "    <tr>\n",
       "      <th>3</th>\n",
       "      <td>IndiGo</td>\n",
       "      <td>2019-05-12</td>\n",
       "      <td>Kolkata</td>\n",
       "      <td>Banglore</td>\n",
       "      <td>CCU → NAG → BLR</td>\n",
       "      <td>1085</td>\n",
       "      <td>1 stop</td>\n",
       "      <td>No info</td>\n",
       "      <td>6218</td>\n",
       "      <td>2019</td>\n",
       "      <td>6</td>\n",
       "      <td>5</td>\n",
       "      <td>1410</td>\n",
       "      <td>325</td>\n",
       "    </tr>\n",
       "    <tr>\n",
       "      <th>4</th>\n",
       "      <td>IndiGo</td>\n",
       "      <td>2019-03-01</td>\n",
       "      <td>Banglore</td>\n",
       "      <td>New Delhi</td>\n",
       "      <td>BLR → NAG → DEL</td>\n",
       "      <td>1010</td>\n",
       "      <td>1 stop</td>\n",
       "      <td>No info</td>\n",
       "      <td>13302</td>\n",
       "      <td>2019</td>\n",
       "      <td>4</td>\n",
       "      <td>3</td>\n",
       "      <td>1295</td>\n",
       "      <td>285</td>\n",
       "    </tr>\n",
       "  </tbody>\n",
       "</table>\n",
       "</div>"
      ],
      "text/plain": [
       "       Airline Date_of_Journey    Source Destination                  Route  \\\n",
       "0       IndiGo      2019-03-24  Banglore   New Delhi              BLR → DEL   \n",
       "1    Air India      2019-05-01   Kolkata    Banglore  CCU → IXR → BBI → BLR   \n",
       "2  Jet Airways      2019-06-09     Delhi      Cochin  DEL → LKO → BOM → COK   \n",
       "3       IndiGo      2019-05-12   Kolkata    Banglore        CCU → NAG → BLR   \n",
       "4       IndiGo      2019-03-01  Banglore   New Delhi        BLR → NAG → DEL   \n",
       "\n",
       "   Dep_Time Total_Stops Additional_Info  Price  year_of_journey  \\\n",
       "0      1340    non-stop         No info   3897             2019   \n",
       "1       350     2 stops         No info   7662             2019   \n",
       "2       565     2 stops         No info  13882             2019   \n",
       "3      1085      1 stop         No info   6218             2019   \n",
       "4      1010      1 stop         No info  13302             2019   \n",
       "\n",
       "   days_of_journey  month_of_journey  Arrival_time  duration  \n",
       "0                6                 3            70       170  \n",
       "1                2                 5           795       445  \n",
       "2                6                 6           265      1140  \n",
       "3                6                 5          1410       325  \n",
       "4                4                 3          1295       285  "
      ]
     },
     "execution_count": 221,
     "metadata": {},
     "output_type": "execute_result"
    }
   ],
   "source": [
    "train.head()"
   ]
  },
  {
   "cell_type": "code",
   "execution_count": 222,
   "id": "fa904e34",
   "metadata": {},
   "outputs": [
    {
     "data": {
      "text/plain": [
       "<AxesSubplot:>"
      ]
     },
     "execution_count": 222,
     "metadata": {},
     "output_type": "execute_result"
    },
    {
     "data": {
      "image/png": "[encoded data removed]",
      "text/plain": [
       "<Figure size 432x288 with 1 Axes>"
      ]
     },
     "metadata": {
      "needs_background": "light"
     },
     "output_type": "display_data"
    }
   ],
   "source": [
    "train['Total_Stops'].value_counts().plot(kind='bar')"
   ]
  },
  {
   "cell_type": "code",
   "execution_count": 223,
   "id": "2383425f",
   "metadata": {},
   "outputs": [
    {
     "data": {
      "text/plain": [
       "<AxesSubplot:>"
      ]
     },
     "execution_count": 223,
     "metadata": {},
     "output_type": "execute_result"
    },
    {
     "data": {
      "image/png": "[encoded data removed]",
      "text/plain": [
       "<Figure size 432x288 with 1 Axes>"
      ]
     },
     "metadata": {
      "needs_background": "light"
     },
     "output_type": "display_data"
    }
   ],
   "source": [
    "train['Additional_Info'].value_counts().plot(kind='bar')"
   ]
  },
  {
   "cell_type": "code",
   "execution_count": 224,
   "id": "69d13dfb",
   "metadata": {},
   "outputs": [
    {
     "data": {
      "text/plain": [
       "No info                         8345\n",
       "In-flight meal not included     1982\n",
       "No check-in baggage included     320\n",
       "1 Long layover                    19\n",
       "Change airports                    7\n",
       "Business class                     4\n",
       "No Info                            3\n",
       "2 Long layover                     1\n",
       "Red-eye flight                     1\n",
       "1 Short layover                    1\n",
       "Name: Additional_Info, dtype: int64"
      ]
     },
     "execution_count": 224,
     "metadata": {},
     "output_type": "execute_result"
    }
   ],
   "source": [
    "train['Additional_Info'].value_counts()"
   ]
  },
  {
   "cell_type": "code",
   "execution_count": 225,
   "id": "9d6ba06b",
   "metadata": {},
   "outputs": [],
   "source": [
    "# Aditional info has To be Argumented\n",
    "train['Additional_Info'] = train['Additional_Info'].replace({'No Info':'No info'})"
   ]
  },
  {
   "cell_type": "code",
   "execution_count": 226,
   "id": "d8be0032",
   "metadata": {},
   "outputs": [
    {
     "data": {
      "text/plain": [
       "No info                         2148\n",
       "In-flight meal not included      444\n",
       "No check-in baggage included      76\n",
       "Business class                     1\n",
       "1 Long layover                     1\n",
       "Change airports                    1\n",
       "Name: Additional_Info, dtype: int64"
      ]
     },
     "execution_count": 226,
     "metadata": {},
     "output_type": "execute_result"
    }
   ],
   "source": [
    "test['Additional_Info'].value_counts()"
   ]
  },
  {
   "cell_type": "code",
   "execution_count": 227,
   "id": "462fd361",
   "metadata": {},
   "outputs": [],
   "source": [
    "test['Additional_Info'] = [1 if values == 'No info' else 0 for values in test['Additional_Info']]"
   ]
  },
  {
   "cell_type": "code",
   "execution_count": 228,
   "id": "22591893",
   "metadata": {},
   "outputs": [],
   "source": [
    "# list comprehension to argument\n",
    "train['Additional_Info'] = [1 if values == 'No info' else 0 for values in train['Additional_Info']]"
   ]
  },
  {
   "cell_type": "code",
   "execution_count": 229,
   "id": "37ffb5d3",
   "metadata": {},
   "outputs": [
    {
     "data": {
      "text/plain": [
       "1    8348\n",
       "0    2335\n",
       "Name: Additional_Info, dtype: int64"
      ]
     },
     "execution_count": 229,
     "metadata": {},
     "output_type": "execute_result"
    }
   ],
   "source": [
    "train['Additional_Info'].value_counts()"
   ]
  },
  {
   "cell_type": "code",
   "execution_count": 230,
   "id": "4741d901",
   "metadata": {},
   "outputs": [
    {
     "data": {
      "text/plain": [
       "count    10683.000000\n",
       "mean      9087.064121\n",
       "std       4611.359167\n",
       "min       1759.000000\n",
       "25%       5277.000000\n",
       "50%       8372.000000\n",
       "75%      12373.000000\n",
       "max      79512.000000\n",
       "Name: Price, dtype: float64"
      ]
     },
     "execution_count": 230,
     "metadata": {},
     "output_type": "execute_result"
    }
   ],
   "source": [
    "train['Price'].describe()"
   ]
  },
  {
   "cell_type": "markdown",
   "id": "d46a1663",
   "metadata": {},
   "source": [
    "# Digging insight Explanatory Data Analysis"
   ]
  },
  {
   "cell_type": "code",
   "execution_count": 231,
   "id": "33ab8328",
   "metadata": {},
   "outputs": [
    {
     "data": {
      "text/plain": [
       "<AxesSubplot:>"
      ]
     },
     "execution_count": 231,
     "metadata": {},
     "output_type": "execute_result"
    },
    {
     "data": {
      "image/png": "[encoded data removed]",
      "text/plain": [
       "<Figure size 432x288 with 1 Axes>"
      ]
     },
     "metadata": {
      "needs_background": "light"
     },
     "output_type": "display_data"
    }
   ],
   "source": [
    "train['days_of_journey'].value_counts().plot(kind='bar')"
   ]
  },
  {
   "cell_type": "code",
   "execution_count": 232,
   "id": "2a17c747",
   "metadata": {},
   "outputs": [
    {
     "data": {
      "text/plain": [
       "Index(['Airline', 'Date_of_Journey', 'Source', 'Destination', 'Route',\n",
       "       'Dep_Time', 'Total_Stops', 'Additional_Info', 'Price',\n",
       "       'year_of_journey', 'days_of_journey', 'month_of_journey',\n",
       "       'Arrival_time', 'duration'],\n",
       "      dtype='object')"
      ]
     },
     "execution_count": 232,
     "metadata": {},
     "output_type": "execute_result"
    }
   ],
   "source": [
    "train.columns"
   ]
  },
  {
   "cell_type": "code",
   "execution_count": 233,
   "id": "50733dc6",
   "metadata": {},
   "outputs": [
    {
     "data": {
      "text/plain": [
       "<AxesSubplot:>"
      ]
     },
     "execution_count": 233,
     "metadata": {},
     "output_type": "execute_result"
    },
    {
     "data": {
      "image/png": "[encoded data removed]",
      "text/plain": [
       "<Figure size 432x288 with 1 Axes>"
      ]
     },
     "metadata": {
      "needs_background": "light"
     },
     "output_type": "display_data"
    }
   ],
   "source": [
    "train['Airline'].value_counts().plot(kind='bar')"
   ]
  },
  {
   "cell_type": "code",
   "execution_count": 234,
   "id": "579ed26d",
   "metadata": {},
   "outputs": [
    {
     "data": {
      "text/plain": [
       "<AxesSubplot:>"
      ]
     },
     "execution_count": 234,
     "metadata": {},
     "output_type": "execute_result"
    },
    {
     "data": {
      "image/png": "[encoded data removed]",
      "text/plain": [
       "<Figure size 432x288 with 1 Axes>"
      ]
     },
     "metadata": {
      "needs_background": "light"
     },
     "output_type": "display_data"
    }
   ],
   "source": [
    "train['Source'].value_counts().plot(kind='bar')"
   ]
  },
  {
   "cell_type": "code",
   "execution_count": 235,
   "id": "c5def5f1",
   "metadata": {},
   "outputs": [
    {
     "data": {
      "text/plain": [
       "<AxesSubplot:>"
      ]
     },
     "execution_count": 235,
     "metadata": {},
     "output_type": "execute_result"
    },
    {
     "data": {
      "image/png": "[encoded data removed]",
      "text/plain": [
       "<Figure size 432x288 with 1 Axes>"
      ]
     },
     "metadata": {
      "needs_background": "light"
     },
     "output_type": "display_data"
    }
   ],
   "source": [
    "train['Destination'].value_counts().plot(kind='bar')"
   ]
  },
  {
   "cell_type": "code",
   "execution_count": 236,
   "id": "c03d0aba",
   "metadata": {},
   "outputs": [
    {
     "data": {
      "text/plain": [
       "DEL → BOM → COK          2376\n",
       "BLR → DEL                1552\n",
       "CCU → BOM → BLR           979\n",
       "CCU → BLR                 724\n",
       "BOM → HYD                 621\n",
       "                         ... \n",
       "CCU → IXZ → MAA → BLR       1\n",
       "BOM → UDR → DEL → HYD       1\n",
       "CCU → VTZ → BLR             1\n",
       "BOM → JLR → HYD             1\n",
       "BOM → CCU → HYD             1\n",
       "Name: Route, Length: 128, dtype: int64"
      ]
     },
     "execution_count": 236,
     "metadata": {},
     "output_type": "execute_result"
    }
   ],
   "source": [
    "train['Route'].value_counts()"
   ]
  },
  {
   "cell_type": "markdown",
   "id": "a9220e47",
   "metadata": {},
   "source": [
    "using crosstab"
   ]
  },
  {
   "cell_type": "code",
   "execution_count": 237,
   "id": "b4f57c27",
   "metadata": {},
   "outputs": [
    {
     "data": {
      "text/html": [
       "<div>\n",
       "<style scoped>\n",
       "    .dataframe tbody tr th:only-of-type {\n",
       "        vertical-align: middle;\n",
       "    }\n",
       "\n",
       "    .dataframe tbody tr th {\n",
       "        vertical-align: top;\n",
       "    }\n",
       "\n",
       "    .dataframe thead th {\n",
       "        text-align: right;\n",
       "    }\n",
       "</style>\n",
       "<table border=\"1\" class=\"dataframe\">\n",
       "  <thead>\n",
       "    <tr style=\"text-align: right;\">\n",
       "      <th>Airline</th>\n",
       "      <th>Air Asia</th>\n",
       "      <th>Air India</th>\n",
       "      <th>GoAir</th>\n",
       "      <th>IndiGo</th>\n",
       "      <th>Jet Airways</th>\n",
       "      <th>Jet Airways Business</th>\n",
       "      <th>Multiple carriers</th>\n",
       "      <th>Multiple carriers Premium economy</th>\n",
       "      <th>SpiceJet</th>\n",
       "      <th>Trujet</th>\n",
       "      <th>Vistara</th>\n",
       "      <th>Vistara Premium economy</th>\n",
       "      <th>All</th>\n",
       "    </tr>\n",
       "    <tr>\n",
       "      <th>days_of_journey</th>\n",
       "      <th></th>\n",
       "      <th></th>\n",
       "      <th></th>\n",
       "      <th></th>\n",
       "      <th></th>\n",
       "      <th></th>\n",
       "      <th></th>\n",
       "      <th></th>\n",
       "      <th></th>\n",
       "      <th></th>\n",
       "      <th></th>\n",
       "      <th></th>\n",
       "      <th></th>\n",
       "    </tr>\n",
       "  </thead>\n",
       "  <tbody>\n",
       "    <tr>\n",
       "      <th>0</th>\n",
       "      <td>50</td>\n",
       "      <td>270</td>\n",
       "      <td>35</td>\n",
       "      <td>349</td>\n",
       "      <td>698</td>\n",
       "      <td>0</td>\n",
       "      <td>221</td>\n",
       "      <td>0</td>\n",
       "      <td>147</td>\n",
       "      <td>0</td>\n",
       "      <td>80</td>\n",
       "      <td>0</td>\n",
       "      <td>1850</td>\n",
       "    </tr>\n",
       "    <tr>\n",
       "      <th>1</th>\n",
       "      <td>26</td>\n",
       "      <td>162</td>\n",
       "      <td>10</td>\n",
       "      <td>140</td>\n",
       "      <td>344</td>\n",
       "      <td>0</td>\n",
       "      <td>81</td>\n",
       "      <td>0</td>\n",
       "      <td>67</td>\n",
       "      <td>0</td>\n",
       "      <td>39</td>\n",
       "      <td>0</td>\n",
       "      <td>869</td>\n",
       "    </tr>\n",
       "    <tr>\n",
       "      <th>2</th>\n",
       "      <td>59</td>\n",
       "      <td>348</td>\n",
       "      <td>38</td>\n",
       "      <td>384</td>\n",
       "      <td>730</td>\n",
       "      <td>1</td>\n",
       "      <td>283</td>\n",
       "      <td>0</td>\n",
       "      <td>138</td>\n",
       "      <td>1</td>\n",
       "      <td>97</td>\n",
       "      <td>0</td>\n",
       "      <td>2079</td>\n",
       "    </tr>\n",
       "    <tr>\n",
       "      <th>3</th>\n",
       "      <td>47</td>\n",
       "      <td>285</td>\n",
       "      <td>22</td>\n",
       "      <td>304</td>\n",
       "      <td>711</td>\n",
       "      <td>0</td>\n",
       "      <td>265</td>\n",
       "      <td>13</td>\n",
       "      <td>122</td>\n",
       "      <td>0</td>\n",
       "      <td>63</td>\n",
       "      <td>0</td>\n",
       "      <td>1832</td>\n",
       "    </tr>\n",
       "    <tr>\n",
       "      <th>4</th>\n",
       "      <td>32</td>\n",
       "      <td>178</td>\n",
       "      <td>21</td>\n",
       "      <td>218</td>\n",
       "      <td>286</td>\n",
       "      <td>4</td>\n",
       "      <td>11</td>\n",
       "      <td>0</td>\n",
       "      <td>109</td>\n",
       "      <td>0</td>\n",
       "      <td>49</td>\n",
       "      <td>1</td>\n",
       "      <td>909</td>\n",
       "    </tr>\n",
       "    <tr>\n",
       "      <th>5</th>\n",
       "      <td>56</td>\n",
       "      <td>249</td>\n",
       "      <td>33</td>\n",
       "      <td>355</td>\n",
       "      <td>562</td>\n",
       "      <td>0</td>\n",
       "      <td>228</td>\n",
       "      <td>0</td>\n",
       "      <td>123</td>\n",
       "      <td>0</td>\n",
       "      <td>63</td>\n",
       "      <td>1</td>\n",
       "      <td>1670</td>\n",
       "    </tr>\n",
       "    <tr>\n",
       "      <th>6</th>\n",
       "      <td>49</td>\n",
       "      <td>260</td>\n",
       "      <td>35</td>\n",
       "      <td>303</td>\n",
       "      <td>518</td>\n",
       "      <td>1</td>\n",
       "      <td>107</td>\n",
       "      <td>0</td>\n",
       "      <td>112</td>\n",
       "      <td>0</td>\n",
       "      <td>88</td>\n",
       "      <td>1</td>\n",
       "      <td>1474</td>\n",
       "    </tr>\n",
       "    <tr>\n",
       "      <th>All</th>\n",
       "      <td>319</td>\n",
       "      <td>1752</td>\n",
       "      <td>194</td>\n",
       "      <td>2053</td>\n",
       "      <td>3849</td>\n",
       "      <td>6</td>\n",
       "      <td>1196</td>\n",
       "      <td>13</td>\n",
       "      <td>818</td>\n",
       "      <td>1</td>\n",
       "      <td>479</td>\n",
       "      <td>3</td>\n",
       "      <td>10683</td>\n",
       "    </tr>\n",
       "  </tbody>\n",
       "</table>\n",
       "</div>"
      ],
      "text/plain": [
       "Airline          Air Asia  Air India  GoAir  IndiGo  Jet Airways  \\\n",
       "days_of_journey                                                    \n",
       "0                      50        270     35     349          698   \n",
       "1                      26        162     10     140          344   \n",
       "2                      59        348     38     384          730   \n",
       "3                      47        285     22     304          711   \n",
       "4                      32        178     21     218          286   \n",
       "5                      56        249     33     355          562   \n",
       "6                      49        260     35     303          518   \n",
       "All                   319       1752    194    2053         3849   \n",
       "\n",
       "Airline          Jet Airways Business  Multiple carriers  \\\n",
       "days_of_journey                                            \n",
       "0                                   0                221   \n",
       "1                                   0                 81   \n",
       "2                                   1                283   \n",
       "3                                   0                265   \n",
       "4                                   4                 11   \n",
       "5                                   0                228   \n",
       "6                                   1                107   \n",
       "All                                 6               1196   \n",
       "\n",
       "Airline          Multiple carriers Premium economy  SpiceJet  Trujet  Vistara  \\\n",
       "days_of_journey                                                                 \n",
       "0                                                0       147       0       80   \n",
       "1                                                0        67       0       39   \n",
       "2                                                0       138       1       97   \n",
       "3                                               13       122       0       63   \n",
       "4                                                0       109       0       49   \n",
       "5                                                0       123       0       63   \n",
       "6                                                0       112       0       88   \n",
       "All                                             13       818       1      479   \n",
       "\n",
       "Airline          Vistara Premium economy    All  \n",
       "days_of_journey                                  \n",
       "0                                      0   1850  \n",
       "1                                      0    869  \n",
       "2                                      0   2079  \n",
       "3                                      0   1832  \n",
       "4                                      1    909  \n",
       "5                                      1   1670  \n",
       "6                                      1   1474  \n",
       "All                                    3  10683  "
      ]
     },
     "execution_count": 237,
     "metadata": {},
     "output_type": "execute_result"
    }
   ],
   "source": [
    "pd.crosstab(train['days_of_journey'], train['Airline'], margins=True)"
   ]
  },
  {
   "cell_type": "code",
   "execution_count": 238,
   "id": "c7372074",
   "metadata": {},
   "outputs": [
    {
     "data": {
      "text/html": [
       "<div>\n",
       "<style scoped>\n",
       "    .dataframe tbody tr th:only-of-type {\n",
       "        vertical-align: middle;\n",
       "    }\n",
       "\n",
       "    .dataframe tbody tr th {\n",
       "        vertical-align: top;\n",
       "    }\n",
       "\n",
       "    .dataframe thead th {\n",
       "        text-align: right;\n",
       "    }\n",
       "</style>\n",
       "<table border=\"1\" class=\"dataframe\">\n",
       "  <thead>\n",
       "    <tr style=\"text-align: right;\">\n",
       "      <th>days_of_journey</th>\n",
       "      <th>0</th>\n",
       "      <th>1</th>\n",
       "      <th>2</th>\n",
       "      <th>3</th>\n",
       "      <th>4</th>\n",
       "      <th>5</th>\n",
       "      <th>6</th>\n",
       "      <th>All</th>\n",
       "    </tr>\n",
       "    <tr>\n",
       "      <th>Airline</th>\n",
       "      <th></th>\n",
       "      <th></th>\n",
       "      <th></th>\n",
       "      <th></th>\n",
       "      <th></th>\n",
       "      <th></th>\n",
       "      <th></th>\n",
       "      <th></th>\n",
       "    </tr>\n",
       "  </thead>\n",
       "  <tbody>\n",
       "    <tr>\n",
       "      <th>Air Asia</th>\n",
       "      <td>50</td>\n",
       "      <td>26</td>\n",
       "      <td>59</td>\n",
       "      <td>47</td>\n",
       "      <td>32</td>\n",
       "      <td>56</td>\n",
       "      <td>49</td>\n",
       "      <td>319</td>\n",
       "    </tr>\n",
       "    <tr>\n",
       "      <th>Air India</th>\n",
       "      <td>270</td>\n",
       "      <td>162</td>\n",
       "      <td>348</td>\n",
       "      <td>285</td>\n",
       "      <td>178</td>\n",
       "      <td>249</td>\n",
       "      <td>260</td>\n",
       "      <td>1752</td>\n",
       "    </tr>\n",
       "    <tr>\n",
       "      <th>GoAir</th>\n",
       "      <td>35</td>\n",
       "      <td>10</td>\n",
       "      <td>38</td>\n",
       "      <td>22</td>\n",
       "      <td>21</td>\n",
       "      <td>33</td>\n",
       "      <td>35</td>\n",
       "      <td>194</td>\n",
       "    </tr>\n",
       "    <tr>\n",
       "      <th>IndiGo</th>\n",
       "      <td>349</td>\n",
       "      <td>140</td>\n",
       "      <td>384</td>\n",
       "      <td>304</td>\n",
       "      <td>218</td>\n",
       "      <td>355</td>\n",
       "      <td>303</td>\n",
       "      <td>2053</td>\n",
       "    </tr>\n",
       "    <tr>\n",
       "      <th>Jet Airways</th>\n",
       "      <td>698</td>\n",
       "      <td>344</td>\n",
       "      <td>730</td>\n",
       "      <td>711</td>\n",
       "      <td>286</td>\n",
       "      <td>562</td>\n",
       "      <td>518</td>\n",
       "      <td>3849</td>\n",
       "    </tr>\n",
       "    <tr>\n",
       "      <th>Jet Airways Business</th>\n",
       "      <td>0</td>\n",
       "      <td>0</td>\n",
       "      <td>1</td>\n",
       "      <td>0</td>\n",
       "      <td>4</td>\n",
       "      <td>0</td>\n",
       "      <td>1</td>\n",
       "      <td>6</td>\n",
       "    </tr>\n",
       "    <tr>\n",
       "      <th>Multiple carriers</th>\n",
       "      <td>221</td>\n",
       "      <td>81</td>\n",
       "      <td>283</td>\n",
       "      <td>265</td>\n",
       "      <td>11</td>\n",
       "      <td>228</td>\n",
       "      <td>107</td>\n",
       "      <td>1196</td>\n",
       "    </tr>\n",
       "    <tr>\n",
       "      <th>Multiple carriers Premium economy</th>\n",
       "      <td>0</td>\n",
       "      <td>0</td>\n",
       "      <td>0</td>\n",
       "      <td>13</td>\n",
       "      <td>0</td>\n",
       "      <td>0</td>\n",
       "      <td>0</td>\n",
       "      <td>13</td>\n",
       "    </tr>\n",
       "    <tr>\n",
       "      <th>SpiceJet</th>\n",
       "      <td>147</td>\n",
       "      <td>67</td>\n",
       "      <td>138</td>\n",
       "      <td>122</td>\n",
       "      <td>109</td>\n",
       "      <td>123</td>\n",
       "      <td>112</td>\n",
       "      <td>818</td>\n",
       "    </tr>\n",
       "    <tr>\n",
       "      <th>Trujet</th>\n",
       "      <td>0</td>\n",
       "      <td>0</td>\n",
       "      <td>1</td>\n",
       "      <td>0</td>\n",
       "      <td>0</td>\n",
       "      <td>0</td>\n",
       "      <td>0</td>\n",
       "      <td>1</td>\n",
       "    </tr>\n",
       "    <tr>\n",
       "      <th>Vistara</th>\n",
       "      <td>80</td>\n",
       "      <td>39</td>\n",
       "      <td>97</td>\n",
       "      <td>63</td>\n",
       "      <td>49</td>\n",
       "      <td>63</td>\n",
       "      <td>88</td>\n",
       "      <td>479</td>\n",
       "    </tr>\n",
       "    <tr>\n",
       "      <th>Vistara Premium economy</th>\n",
       "      <td>0</td>\n",
       "      <td>0</td>\n",
       "      <td>0</td>\n",
       "      <td>0</td>\n",
       "      <td>1</td>\n",
       "      <td>1</td>\n",
       "      <td>1</td>\n",
       "      <td>3</td>\n",
       "    </tr>\n",
       "    <tr>\n",
       "      <th>All</th>\n",
       "      <td>1850</td>\n",
       "      <td>869</td>\n",
       "      <td>2079</td>\n",
       "      <td>1832</td>\n",
       "      <td>909</td>\n",
       "      <td>1670</td>\n",
       "      <td>1474</td>\n",
       "      <td>10683</td>\n",
       "    </tr>\n",
       "  </tbody>\n",
       "</table>\n",
       "</div>"
      ],
      "text/plain": [
       "days_of_journey                       0    1     2     3    4     5     6  \\\n",
       "Airline                                                                     \n",
       "Air Asia                             50   26    59    47   32    56    49   \n",
       "Air India                           270  162   348   285  178   249   260   \n",
       "GoAir                                35   10    38    22   21    33    35   \n",
       "IndiGo                              349  140   384   304  218   355   303   \n",
       "Jet Airways                         698  344   730   711  286   562   518   \n",
       "Jet Airways Business                  0    0     1     0    4     0     1   \n",
       "Multiple carriers                   221   81   283   265   11   228   107   \n",
       "Multiple carriers Premium economy     0    0     0    13    0     0     0   \n",
       "SpiceJet                            147   67   138   122  109   123   112   \n",
       "Trujet                                0    0     1     0    0     0     0   \n",
       "Vistara                              80   39    97    63   49    63    88   \n",
       "Vistara Premium economy               0    0     0     0    1     1     1   \n",
       "All                                1850  869  2079  1832  909  1670  1474   \n",
       "\n",
       "days_of_journey                      All  \n",
       "Airline                                   \n",
       "Air Asia                             319  \n",
       "Air India                           1752  \n",
       "GoAir                                194  \n",
       "IndiGo                              2053  \n",
       "Jet Airways                         3849  \n",
       "Jet Airways Business                   6  \n",
       "Multiple carriers                   1196  \n",
       "Multiple carriers Premium economy     13  \n",
       "SpiceJet                             818  \n",
       "Trujet                                 1  \n",
       "Vistara                              479  \n",
       "Vistara Premium economy                3  \n",
       "All                                10683  "
      ]
     },
     "execution_count": 238,
     "metadata": {},
     "output_type": "execute_result"
    }
   ],
   "source": [
    "pd.crosstab(train['Airline'],train['days_of_journey'], margins=True)"
   ]
  },
  {
   "cell_type": "code",
   "execution_count": 239,
   "id": "a4228e27",
   "metadata": {},
   "outputs": [
    {
     "data": {
      "text/html": [
       "<div>\n",
       "<style scoped>\n",
       "    .dataframe tbody tr th:only-of-type {\n",
       "        vertical-align: middle;\n",
       "    }\n",
       "\n",
       "    .dataframe tbody tr th {\n",
       "        vertical-align: top;\n",
       "    }\n",
       "\n",
       "    .dataframe thead th {\n",
       "        text-align: right;\n",
       "    }\n",
       "</style>\n",
       "<table border=\"1\" class=\"dataframe\">\n",
       "  <thead>\n",
       "    <tr style=\"text-align: right;\">\n",
       "      <th>Destination</th>\n",
       "      <th>Banglore</th>\n",
       "      <th>Cochin</th>\n",
       "      <th>Delhi</th>\n",
       "      <th>Hyderabad</th>\n",
       "      <th>Kolkata</th>\n",
       "      <th>New Delhi</th>\n",
       "      <th>All</th>\n",
       "    </tr>\n",
       "    <tr>\n",
       "      <th>Source</th>\n",
       "      <th></th>\n",
       "      <th></th>\n",
       "      <th></th>\n",
       "      <th></th>\n",
       "      <th></th>\n",
       "      <th></th>\n",
       "      <th></th>\n",
       "    </tr>\n",
       "  </thead>\n",
       "  <tbody>\n",
       "    <tr>\n",
       "      <th>Banglore</th>\n",
       "      <td>0</td>\n",
       "      <td>0</td>\n",
       "      <td>1265</td>\n",
       "      <td>0</td>\n",
       "      <td>0</td>\n",
       "      <td>932</td>\n",
       "      <td>2197</td>\n",
       "    </tr>\n",
       "    <tr>\n",
       "      <th>Chennai</th>\n",
       "      <td>0</td>\n",
       "      <td>0</td>\n",
       "      <td>0</td>\n",
       "      <td>0</td>\n",
       "      <td>381</td>\n",
       "      <td>0</td>\n",
       "      <td>381</td>\n",
       "    </tr>\n",
       "    <tr>\n",
       "      <th>Delhi</th>\n",
       "      <td>0</td>\n",
       "      <td>4537</td>\n",
       "      <td>0</td>\n",
       "      <td>0</td>\n",
       "      <td>0</td>\n",
       "      <td>0</td>\n",
       "      <td>4537</td>\n",
       "    </tr>\n",
       "    <tr>\n",
       "      <th>Kolkata</th>\n",
       "      <td>2871</td>\n",
       "      <td>0</td>\n",
       "      <td>0</td>\n",
       "      <td>0</td>\n",
       "      <td>0</td>\n",
       "      <td>0</td>\n",
       "      <td>2871</td>\n",
       "    </tr>\n",
       "    <tr>\n",
       "      <th>Mumbai</th>\n",
       "      <td>0</td>\n",
       "      <td>0</td>\n",
       "      <td>0</td>\n",
       "      <td>697</td>\n",
       "      <td>0</td>\n",
       "      <td>0</td>\n",
       "      <td>697</td>\n",
       "    </tr>\n",
       "    <tr>\n",
       "      <th>All</th>\n",
       "      <td>2871</td>\n",
       "      <td>4537</td>\n",
       "      <td>1265</td>\n",
       "      <td>697</td>\n",
       "      <td>381</td>\n",
       "      <td>932</td>\n",
       "      <td>10683</td>\n",
       "    </tr>\n",
       "  </tbody>\n",
       "</table>\n",
       "</div>"
      ],
      "text/plain": [
       "Destination  Banglore  Cochin  Delhi  Hyderabad  Kolkata  New Delhi    All\n",
       "Source                                                                    \n",
       "Banglore            0       0   1265          0        0        932   2197\n",
       "Chennai             0       0      0          0      381          0    381\n",
       "Delhi               0    4537      0          0        0          0   4537\n",
       "Kolkata          2871       0      0          0        0          0   2871\n",
       "Mumbai              0       0      0        697        0          0    697\n",
       "All              2871    4537   1265        697      381        932  10683"
      ]
     },
     "execution_count": 239,
     "metadata": {},
     "output_type": "execute_result"
    }
   ],
   "source": [
    "pd.crosstab(train['Source'],train['Destination'], margins=True)"
   ]
  },
  {
   "cell_type": "code",
   "execution_count": 240,
   "id": "64e48399",
   "metadata": {},
   "outputs": [
    {
     "data": {
      "text/html": [
       "<div>\n",
       "<style scoped>\n",
       "    .dataframe tbody tr th:only-of-type {\n",
       "        vertical-align: middle;\n",
       "    }\n",
       "\n",
       "    .dataframe tbody tr th {\n",
       "        vertical-align: top;\n",
       "    }\n",
       "\n",
       "    .dataframe thead th {\n",
       "        text-align: right;\n",
       "    }\n",
       "</style>\n",
       "<table border=\"1\" class=\"dataframe\">\n",
       "  <thead>\n",
       "    <tr style=\"text-align: right;\">\n",
       "      <th>Destination</th>\n",
       "      <th>Banglore</th>\n",
       "      <th>Cochin</th>\n",
       "      <th>Delhi</th>\n",
       "      <th>Hyderabad</th>\n",
       "      <th>Kolkata</th>\n",
       "      <th>New Delhi</th>\n",
       "      <th>All</th>\n",
       "    </tr>\n",
       "    <tr>\n",
       "      <th>Airline</th>\n",
       "      <th></th>\n",
       "      <th></th>\n",
       "      <th></th>\n",
       "      <th></th>\n",
       "      <th></th>\n",
       "      <th></th>\n",
       "      <th></th>\n",
       "    </tr>\n",
       "  </thead>\n",
       "  <tbody>\n",
       "    <tr>\n",
       "      <th>Air Asia</th>\n",
       "      <td>150</td>\n",
       "      <td>80</td>\n",
       "      <td>71</td>\n",
       "      <td>0</td>\n",
       "      <td>0</td>\n",
       "      <td>18</td>\n",
       "      <td>319</td>\n",
       "    </tr>\n",
       "    <tr>\n",
       "      <th>Air India</th>\n",
       "      <td>512</td>\n",
       "      <td>747</td>\n",
       "      <td>120</td>\n",
       "      <td>136</td>\n",
       "      <td>25</td>\n",
       "      <td>212</td>\n",
       "      <td>1752</td>\n",
       "    </tr>\n",
       "    <tr>\n",
       "      <th>GoAir</th>\n",
       "      <td>25</td>\n",
       "      <td>76</td>\n",
       "      <td>69</td>\n",
       "      <td>0</td>\n",
       "      <td>0</td>\n",
       "      <td>24</td>\n",
       "      <td>194</td>\n",
       "    </tr>\n",
       "    <tr>\n",
       "      <th>IndiGo</th>\n",
       "      <td>445</td>\n",
       "      <td>705</td>\n",
       "      <td>366</td>\n",
       "      <td>196</td>\n",
       "      <td>184</td>\n",
       "      <td>157</td>\n",
       "      <td>2053</td>\n",
       "    </tr>\n",
       "    <tr>\n",
       "      <th>Jet Airways</th>\n",
       "      <td>1256</td>\n",
       "      <td>1586</td>\n",
       "      <td>370</td>\n",
       "      <td>219</td>\n",
       "      <td>0</td>\n",
       "      <td>418</td>\n",
       "      <td>3849</td>\n",
       "    </tr>\n",
       "    <tr>\n",
       "      <th>Jet Airways Business</th>\n",
       "      <td>0</td>\n",
       "      <td>2</td>\n",
       "      <td>0</td>\n",
       "      <td>0</td>\n",
       "      <td>0</td>\n",
       "      <td>4</td>\n",
       "      <td>6</td>\n",
       "    </tr>\n",
       "    <tr>\n",
       "      <th>Multiple carriers</th>\n",
       "      <td>0</td>\n",
       "      <td>1196</td>\n",
       "      <td>0</td>\n",
       "      <td>0</td>\n",
       "      <td>0</td>\n",
       "      <td>0</td>\n",
       "      <td>1196</td>\n",
       "    </tr>\n",
       "    <tr>\n",
       "      <th>Multiple carriers Premium economy</th>\n",
       "      <td>0</td>\n",
       "      <td>13</td>\n",
       "      <td>0</td>\n",
       "      <td>0</td>\n",
       "      <td>0</td>\n",
       "      <td>0</td>\n",
       "      <td>13</td>\n",
       "    </tr>\n",
       "    <tr>\n",
       "      <th>SpiceJet</th>\n",
       "      <td>300</td>\n",
       "      <td>87</td>\n",
       "      <td>137</td>\n",
       "      <td>122</td>\n",
       "      <td>128</td>\n",
       "      <td>44</td>\n",
       "      <td>818</td>\n",
       "    </tr>\n",
       "    <tr>\n",
       "      <th>Trujet</th>\n",
       "      <td>0</td>\n",
       "      <td>0</td>\n",
       "      <td>0</td>\n",
       "      <td>1</td>\n",
       "      <td>0</td>\n",
       "      <td>0</td>\n",
       "      <td>1</td>\n",
       "    </tr>\n",
       "    <tr>\n",
       "      <th>Vistara</th>\n",
       "      <td>183</td>\n",
       "      <td>45</td>\n",
       "      <td>131</td>\n",
       "      <td>23</td>\n",
       "      <td>43</td>\n",
       "      <td>54</td>\n",
       "      <td>479</td>\n",
       "    </tr>\n",
       "    <tr>\n",
       "      <th>Vistara Premium economy</th>\n",
       "      <td>0</td>\n",
       "      <td>0</td>\n",
       "      <td>1</td>\n",
       "      <td>0</td>\n",
       "      <td>1</td>\n",
       "      <td>1</td>\n",
       "      <td>3</td>\n",
       "    </tr>\n",
       "    <tr>\n",
       "      <th>All</th>\n",
       "      <td>2871</td>\n",
       "      <td>4537</td>\n",
       "      <td>1265</td>\n",
       "      <td>697</td>\n",
       "      <td>381</td>\n",
       "      <td>932</td>\n",
       "      <td>10683</td>\n",
       "    </tr>\n",
       "  </tbody>\n",
       "</table>\n",
       "</div>"
      ],
      "text/plain": [
       "Destination                        Banglore  Cochin  Delhi  Hyderabad  \\\n",
       "Airline                                                                 \n",
       "Air Asia                                150      80     71          0   \n",
       "Air India                               512     747    120        136   \n",
       "GoAir                                    25      76     69          0   \n",
       "IndiGo                                  445     705    366        196   \n",
       "Jet Airways                            1256    1586    370        219   \n",
       "Jet Airways Business                      0       2      0          0   \n",
       "Multiple carriers                         0    1196      0          0   \n",
       "Multiple carriers Premium economy         0      13      0          0   \n",
       "SpiceJet                                300      87    137        122   \n",
       "Trujet                                    0       0      0          1   \n",
       "Vistara                                 183      45    131         23   \n",
       "Vistara Premium economy                   0       0      1          0   \n",
       "All                                    2871    4537   1265        697   \n",
       "\n",
       "Destination                        Kolkata  New Delhi    All  \n",
       "Airline                                                       \n",
       "Air Asia                                 0         18    319  \n",
       "Air India                               25        212   1752  \n",
       "GoAir                                    0         24    194  \n",
       "IndiGo                                 184        157   2053  \n",
       "Jet Airways                              0        418   3849  \n",
       "Jet Airways Business                     0          4      6  \n",
       "Multiple carriers                        0          0   1196  \n",
       "Multiple carriers Premium economy        0          0     13  \n",
       "SpiceJet                               128         44    818  \n",
       "Trujet                                   0          0      1  \n",
       "Vistara                                 43         54    479  \n",
       "Vistara Premium economy                  1          1      3  \n",
       "All                                    381        932  10683  "
      ]
     },
     "execution_count": 240,
     "metadata": {},
     "output_type": "execute_result"
    }
   ],
   "source": [
    "pd.crosstab(train['Airline'],train['Destination'], margins=True)"
   ]
  },
  {
   "cell_type": "code",
   "execution_count": 241,
   "id": "71a0897e",
   "metadata": {},
   "outputs": [
    {
     "data": {
      "text/html": [
       "<div>\n",
       "<style scoped>\n",
       "    .dataframe tbody tr th:only-of-type {\n",
       "        vertical-align: middle;\n",
       "    }\n",
       "\n",
       "    .dataframe tbody tr th {\n",
       "        vertical-align: top;\n",
       "    }\n",
       "\n",
       "    .dataframe thead th {\n",
       "        text-align: right;\n",
       "    }\n",
       "</style>\n",
       "<table border=\"1\" class=\"dataframe\">\n",
       "  <thead>\n",
       "    <tr style=\"text-align: right;\">\n",
       "      <th>Source</th>\n",
       "      <th>Banglore</th>\n",
       "      <th>Chennai</th>\n",
       "      <th>Delhi</th>\n",
       "      <th>Kolkata</th>\n",
       "      <th>Mumbai</th>\n",
       "      <th>All</th>\n",
       "    </tr>\n",
       "    <tr>\n",
       "      <th>Airline</th>\n",
       "      <th></th>\n",
       "      <th></th>\n",
       "      <th></th>\n",
       "      <th></th>\n",
       "      <th></th>\n",
       "      <th></th>\n",
       "    </tr>\n",
       "  </thead>\n",
       "  <tbody>\n",
       "    <tr>\n",
       "      <th>Air Asia</th>\n",
       "      <td>89</td>\n",
       "      <td>0</td>\n",
       "      <td>80</td>\n",
       "      <td>150</td>\n",
       "      <td>0</td>\n",
       "      <td>319</td>\n",
       "    </tr>\n",
       "    <tr>\n",
       "      <th>Air India</th>\n",
       "      <td>332</td>\n",
       "      <td>25</td>\n",
       "      <td>747</td>\n",
       "      <td>512</td>\n",
       "      <td>136</td>\n",
       "      <td>1752</td>\n",
       "    </tr>\n",
       "    <tr>\n",
       "      <th>GoAir</th>\n",
       "      <td>93</td>\n",
       "      <td>0</td>\n",
       "      <td>76</td>\n",
       "      <td>25</td>\n",
       "      <td>0</td>\n",
       "      <td>194</td>\n",
       "    </tr>\n",
       "    <tr>\n",
       "      <th>IndiGo</th>\n",
       "      <td>523</td>\n",
       "      <td>184</td>\n",
       "      <td>705</td>\n",
       "      <td>445</td>\n",
       "      <td>196</td>\n",
       "      <td>2053</td>\n",
       "    </tr>\n",
       "    <tr>\n",
       "      <th>Jet Airways</th>\n",
       "      <td>788</td>\n",
       "      <td>0</td>\n",
       "      <td>1586</td>\n",
       "      <td>1256</td>\n",
       "      <td>219</td>\n",
       "      <td>3849</td>\n",
       "    </tr>\n",
       "    <tr>\n",
       "      <th>Jet Airways Business</th>\n",
       "      <td>4</td>\n",
       "      <td>0</td>\n",
       "      <td>2</td>\n",
       "      <td>0</td>\n",
       "      <td>0</td>\n",
       "      <td>6</td>\n",
       "    </tr>\n",
       "    <tr>\n",
       "      <th>Multiple carriers</th>\n",
       "      <td>0</td>\n",
       "      <td>0</td>\n",
       "      <td>1196</td>\n",
       "      <td>0</td>\n",
       "      <td>0</td>\n",
       "      <td>1196</td>\n",
       "    </tr>\n",
       "    <tr>\n",
       "      <th>Multiple carriers Premium economy</th>\n",
       "      <td>0</td>\n",
       "      <td>0</td>\n",
       "      <td>13</td>\n",
       "      <td>0</td>\n",
       "      <td>0</td>\n",
       "      <td>13</td>\n",
       "    </tr>\n",
       "    <tr>\n",
       "      <th>SpiceJet</th>\n",
       "      <td>181</td>\n",
       "      <td>128</td>\n",
       "      <td>87</td>\n",
       "      <td>300</td>\n",
       "      <td>122</td>\n",
       "      <td>818</td>\n",
       "    </tr>\n",
       "    <tr>\n",
       "      <th>Trujet</th>\n",
       "      <td>0</td>\n",
       "      <td>0</td>\n",
       "      <td>0</td>\n",
       "      <td>0</td>\n",
       "      <td>1</td>\n",
       "      <td>1</td>\n",
       "    </tr>\n",
       "    <tr>\n",
       "      <th>Vistara</th>\n",
       "      <td>185</td>\n",
       "      <td>43</td>\n",
       "      <td>45</td>\n",
       "      <td>183</td>\n",
       "      <td>23</td>\n",
       "      <td>479</td>\n",
       "    </tr>\n",
       "    <tr>\n",
       "      <th>Vistara Premium economy</th>\n",
       "      <td>2</td>\n",
       "      <td>1</td>\n",
       "      <td>0</td>\n",
       "      <td>0</td>\n",
       "      <td>0</td>\n",
       "      <td>3</td>\n",
       "    </tr>\n",
       "    <tr>\n",
       "      <th>All</th>\n",
       "      <td>2197</td>\n",
       "      <td>381</td>\n",
       "      <td>4537</td>\n",
       "      <td>2871</td>\n",
       "      <td>697</td>\n",
       "      <td>10683</td>\n",
       "    </tr>\n",
       "  </tbody>\n",
       "</table>\n",
       "</div>"
      ],
      "text/plain": [
       "Source                             Banglore  Chennai  Delhi  Kolkata  Mumbai  \\\n",
       "Airline                                                                        \n",
       "Air Asia                                 89        0     80      150       0   \n",
       "Air India                               332       25    747      512     136   \n",
       "GoAir                                    93        0     76       25       0   \n",
       "IndiGo                                  523      184    705      445     196   \n",
       "Jet Airways                             788        0   1586     1256     219   \n",
       "Jet Airways Business                      4        0      2        0       0   \n",
       "Multiple carriers                         0        0   1196        0       0   \n",
       "Multiple carriers Premium economy         0        0     13        0       0   \n",
       "SpiceJet                                181      128     87      300     122   \n",
       "Trujet                                    0        0      0        0       1   \n",
       "Vistara                                 185       43     45      183      23   \n",
       "Vistara Premium economy                   2        1      0        0       0   \n",
       "All                                    2197      381   4537     2871     697   \n",
       "\n",
       "Source                               All  \n",
       "Airline                                   \n",
       "Air Asia                             319  \n",
       "Air India                           1752  \n",
       "GoAir                                194  \n",
       "IndiGo                              2053  \n",
       "Jet Airways                         3849  \n",
       "Jet Airways Business                   6  \n",
       "Multiple carriers                   1196  \n",
       "Multiple carriers Premium economy     13  \n",
       "SpiceJet                             818  \n",
       "Trujet                                 1  \n",
       "Vistara                              479  \n",
       "Vistara Premium economy                3  \n",
       "All                                10683  "
      ]
     },
     "execution_count": 241,
     "metadata": {},
     "output_type": "execute_result"
    }
   ],
   "source": [
    "pd.crosstab(train['Airline'],train['Source'], margins=True)"
   ]
  },
  {
   "cell_type": "code",
   "execution_count": 242,
   "id": "e93fc6da",
   "metadata": {},
   "outputs": [
    {
     "data": {
      "text/plain": [
       "Airline\n",
       "Air Asia                             AxesSubplot(0.125,0.125;0.775x0.755)\n",
       "Air India                            AxesSubplot(0.125,0.125;0.775x0.755)\n",
       "GoAir                                AxesSubplot(0.125,0.125;0.775x0.755)\n",
       "IndiGo                               AxesSubplot(0.125,0.125;0.775x0.755)\n",
       "Jet Airways                          AxesSubplot(0.125,0.125;0.775x0.755)\n",
       "Jet Airways Business                 AxesSubplot(0.125,0.125;0.775x0.755)\n",
       "Multiple carriers                    AxesSubplot(0.125,0.125;0.775x0.755)\n",
       "Multiple carriers Premium economy    AxesSubplot(0.125,0.125;0.775x0.755)\n",
       "SpiceJet                             AxesSubplot(0.125,0.125;0.775x0.755)\n",
       "Trujet                               AxesSubplot(0.125,0.125;0.775x0.755)\n",
       "Vistara                              AxesSubplot(0.125,0.125;0.775x0.755)\n",
       "Vistara Premium economy              AxesSubplot(0.125,0.125;0.775x0.755)\n",
       "Name: Price, dtype: object"
      ]
     },
     "execution_count": 242,
     "metadata": {},
     "output_type": "execute_result"
    },
    {
     "data": {
      "image/png": "[encoded data removed]",
      "text/plain": [
       "<Figure size 432x288 with 1 Axes>"
      ]
     },
     "metadata": {
      "needs_background": "light"
     },
     "output_type": "display_data"
    }
   ],
   "source": [
    "train.groupby('Airline')['Price'].plot(kind='bar')"
   ]
  },
  {
   "cell_type": "code",
   "execution_count": 243,
   "id": "78946b20",
   "metadata": {},
   "outputs": [
    {
     "data": {
      "text/plain": [
       "<AxesSubplot:xlabel='Airline'>"
      ]
     },
     "execution_count": 243,
     "metadata": {},
     "output_type": "execute_result"
    },
    {
     "data": {
      "image/png": "[encoded data removed]",
      "text/plain": [
       "<Figure size 432x288 with 1 Axes>"
      ]
     },
     "metadata": {
      "needs_background": "light"
     },
     "output_type": "display_data"
    }
   ],
   "source": [
    "train.groupby('Airline')['Price'].mean().plot(kind='bar')"
   ]
  },
  {
   "cell_type": "code",
   "execution_count": 244,
   "id": "79f2fabe",
   "metadata": {},
   "outputs": [
    {
     "data": {
      "text/plain": [
       "<AxesSubplot:xlabel='Airline'>"
      ]
     },
     "execution_count": 244,
     "metadata": {},
     "output_type": "execute_result"
    },
    {
     "data": {
      "image/png": "[encoded data removed]",
      "text/plain": [
       "<Figure size 432x288 with 1 Axes>"
      ]
     },
     "metadata": {
      "needs_background": "light"
     },
     "output_type": "display_data"
    }
   ],
   "source": [
    "train.groupby('Airline')['Price'].sum().plot(kind='bar')"
   ]
  },
  {
   "cell_type": "markdown",
   "id": "74b2f24c",
   "metadata": {},
   "source": [
    "Cleaning the data"
   ]
  },
  {
   "cell_type": "code",
   "execution_count": 245,
   "id": "7e7d6b31",
   "metadata": {},
   "outputs": [
    {
     "data": {
      "text/plain": [
       "Index(['Airline', 'Date_of_Journey', 'Source', 'Destination', 'Route',\n",
       "       'Dep_Time', 'Total_Stops', 'Additional_Info', 'Price',\n",
       "       'year_of_journey', 'days_of_journey', 'month_of_journey',\n",
       "       'Arrival_time', 'duration'],\n",
       "      dtype='object')"
      ]
     },
     "execution_count": 245,
     "metadata": {},
     "output_type": "execute_result"
    }
   ],
   "source": [
    "train.columns"
   ]
  },
  {
   "cell_type": "code",
   "execution_count": 246,
   "id": "a0eab980",
   "metadata": {},
   "outputs": [],
   "source": [
    "# list comprehension to argument\n",
    "train['Total_Stops'] = [1 if values == 'non-stop' else 0 for values in train['Total_Stops']]"
   ]
  },
  {
   "cell_type": "code",
   "execution_count": 247,
   "id": "d245a2c0",
   "metadata": {},
   "outputs": [],
   "source": [
    "# list comprehension to argument\n",
    "test['Total_Stops'] = [1 if values == 'non-stop' else 0 for values in test['Total_Stops']]"
   ]
  },
  {
   "cell_type": "code",
   "execution_count": 248,
   "id": "b821385d",
   "metadata": {},
   "outputs": [],
   "source": [
    "train['Airline'] = train['Airline'].astype('category')\n",
    "# for test data\n",
    "test['Airline'] = test['Airline'].astype('category')"
   ]
  },
  {
   "cell_type": "code",
   "execution_count": 249,
   "id": "faa6fd89",
   "metadata": {},
   "outputs": [],
   "source": [
    "train['Airline'] = train['Airline'].cat.codes\n",
    "# for test data\n",
    "test['Airline'] = test['Airline'].cat.codes"
   ]
  },
  {
   "cell_type": "code",
   "execution_count": 250,
   "id": "0fa8ba3a",
   "metadata": {},
   "outputs": [
    {
     "data": {
      "text/html": [
       "<div>\n",
       "<style scoped>\n",
       "    .dataframe tbody tr th:only-of-type {\n",
       "        vertical-align: middle;\n",
       "    }\n",
       "\n",
       "    .dataframe tbody tr th {\n",
       "        vertical-align: top;\n",
       "    }\n",
       "\n",
       "    .dataframe thead th {\n",
       "        text-align: right;\n",
       "    }\n",
       "</style>\n",
       "<table border=\"1\" class=\"dataframe\">\n",
       "  <thead>\n",
       "    <tr style=\"text-align: right;\">\n",
       "      <th></th>\n",
       "      <th>Airline</th>\n",
       "      <th>Date_of_Journey</th>\n",
       "      <th>Source</th>\n",
       "      <th>Destination</th>\n",
       "      <th>Route</th>\n",
       "      <th>Dep_Time</th>\n",
       "      <th>Total_Stops</th>\n",
       "      <th>Additional_Info</th>\n",
       "      <th>Price</th>\n",
       "      <th>year_of_journey</th>\n",
       "      <th>days_of_journey</th>\n",
       "      <th>month_of_journey</th>\n",
       "      <th>Arrival_time</th>\n",
       "      <th>duration</th>\n",
       "    </tr>\n",
       "  </thead>\n",
       "  <tbody>\n",
       "    <tr>\n",
       "      <th>0</th>\n",
       "      <td>3</td>\n",
       "      <td>2019-03-24</td>\n",
       "      <td>Banglore</td>\n",
       "      <td>New Delhi</td>\n",
       "      <td>BLR → DEL</td>\n",
       "      <td>1340</td>\n",
       "      <td>1</td>\n",
       "      <td>1</td>\n",
       "      <td>3897</td>\n",
       "      <td>2019</td>\n",
       "      <td>6</td>\n",
       "      <td>3</td>\n",
       "      <td>70</td>\n",
       "      <td>170</td>\n",
       "    </tr>\n",
       "    <tr>\n",
       "      <th>1</th>\n",
       "      <td>1</td>\n",
       "      <td>2019-05-01</td>\n",
       "      <td>Kolkata</td>\n",
       "      <td>Banglore</td>\n",
       "      <td>CCU → IXR → BBI → BLR</td>\n",
       "      <td>350</td>\n",
       "      <td>0</td>\n",
       "      <td>1</td>\n",
       "      <td>7662</td>\n",
       "      <td>2019</td>\n",
       "      <td>2</td>\n",
       "      <td>5</td>\n",
       "      <td>795</td>\n",
       "      <td>445</td>\n",
       "    </tr>\n",
       "    <tr>\n",
       "      <th>2</th>\n",
       "      <td>4</td>\n",
       "      <td>2019-06-09</td>\n",
       "      <td>Delhi</td>\n",
       "      <td>Cochin</td>\n",
       "      <td>DEL → LKO → BOM → COK</td>\n",
       "      <td>565</td>\n",
       "      <td>0</td>\n",
       "      <td>1</td>\n",
       "      <td>13882</td>\n",
       "      <td>2019</td>\n",
       "      <td>6</td>\n",
       "      <td>6</td>\n",
       "      <td>265</td>\n",
       "      <td>1140</td>\n",
       "    </tr>\n",
       "    <tr>\n",
       "      <th>3</th>\n",
       "      <td>3</td>\n",
       "      <td>2019-05-12</td>\n",
       "      <td>Kolkata</td>\n",
       "      <td>Banglore</td>\n",
       "      <td>CCU → NAG → BLR</td>\n",
       "      <td>1085</td>\n",
       "      <td>0</td>\n",
       "      <td>1</td>\n",
       "      <td>6218</td>\n",
       "      <td>2019</td>\n",
       "      <td>6</td>\n",
       "      <td>5</td>\n",
       "      <td>1410</td>\n",
       "      <td>325</td>\n",
       "    </tr>\n",
       "    <tr>\n",
       "      <th>4</th>\n",
       "      <td>3</td>\n",
       "      <td>2019-03-01</td>\n",
       "      <td>Banglore</td>\n",
       "      <td>New Delhi</td>\n",
       "      <td>BLR → NAG → DEL</td>\n",
       "      <td>1010</td>\n",
       "      <td>0</td>\n",
       "      <td>1</td>\n",
       "      <td>13302</td>\n",
       "      <td>2019</td>\n",
       "      <td>4</td>\n",
       "      <td>3</td>\n",
       "      <td>1295</td>\n",
       "      <td>285</td>\n",
       "    </tr>\n",
       "  </tbody>\n",
       "</table>\n",
       "</div>"
      ],
      "text/plain": [
       "   Airline Date_of_Journey    Source Destination                  Route  \\\n",
       "0        3      2019-03-24  Banglore   New Delhi              BLR → DEL   \n",
       "1        1      2019-05-01   Kolkata    Banglore  CCU → IXR → BBI → BLR   \n",
       "2        4      2019-06-09     Delhi      Cochin  DEL → LKO → BOM → COK   \n",
       "3        3      2019-05-12   Kolkata    Banglore        CCU → NAG → BLR   \n",
       "4        3      2019-03-01  Banglore   New Delhi        BLR → NAG → DEL   \n",
       "\n",
       "   Dep_Time  Total_Stops  Additional_Info  Price  year_of_journey  \\\n",
       "0      1340            1                1   3897             2019   \n",
       "1       350            0                1   7662             2019   \n",
       "2       565            0                1  13882             2019   \n",
       "3      1085            0                1   6218             2019   \n",
       "4      1010            0                1  13302             2019   \n",
       "\n",
       "   days_of_journey  month_of_journey  Arrival_time  duration  \n",
       "0                6                 3            70       170  \n",
       "1                2                 5           795       445  \n",
       "2                6                 6           265      1140  \n",
       "3                6                 5          1410       325  \n",
       "4                4                 3          1295       285  "
      ]
     },
     "execution_count": 250,
     "metadata": {},
     "output_type": "execute_result"
    }
   ],
   "source": [
    "train.head()"
   ]
  },
  {
   "cell_type": "code",
   "execution_count": 251,
   "id": "dcd1547b",
   "metadata": {},
   "outputs": [
    {
     "data": {
      "text/plain": [
       "Airline            -0.039520\n",
       "Dep_Time            0.005485\n",
       "Total_Stops        -0.613760\n",
       "Additional_Info     0.022086\n",
       "Price               1.000000\n",
       "year_of_journey          NaN\n",
       "days_of_journey     0.051613\n",
       "month_of_journey   -0.103651\n",
       "Arrival_time        0.020921\n",
       "duration            0.506495\n",
       "Name: Price, dtype: float64"
      ]
     },
     "execution_count": 251,
     "metadata": {},
     "output_type": "execute_result"
    }
   ],
   "source": [
    "train.corr()['Price']"
   ]
  },
  {
   "cell_type": "code",
   "execution_count": 252,
   "id": "fd36078a",
   "metadata": {},
   "outputs": [
    {
     "data": {
      "text/plain": [
       "<AxesSubplot:xlabel='Source,Destination'>"
      ]
     },
     "execution_count": 252,
     "metadata": {},
     "output_type": "execute_result"
    },
    {
     "data": {
      "image/png": "[encoded data removed]",
      "text/plain": [
       "<Figure size 432x288 with 1 Axes>"
      ]
     },
     "metadata": {
      "needs_background": "light"
     },
     "output_type": "display_data"
    }
   ],
   "source": [
    "train.groupby(['Source', 'Destination'])['Price'].sum().plot(kind='bar')"
   ]
  },
  {
   "cell_type": "code",
   "execution_count": 253,
   "id": "4d5cf07a",
   "metadata": {},
   "outputs": [
    {
     "data": {
      "text/plain": [
       "<AxesSubplot:xlabel='Source,Destination,Total_Stops'>"
      ]
     },
     "execution_count": 253,
     "metadata": {},
     "output_type": "execute_result"
    },
    {
     "data": {
      "image/png": "[encoded data removed]",
      "text/plain": [
       "<Figure size 432x288 with 1 Axes>"
      ]
     },
     "metadata": {
      "needs_background": "light"
     },
     "output_type": "display_data"
    }
   ],
   "source": [
    "train.groupby(['Source', 'Destination', 'Total_Stops'])['Price'].sum().plot(kind='bar')"
   ]
  },
  {
   "cell_type": "code",
   "execution_count": 254,
   "id": "bbc842cd",
   "metadata": {},
   "outputs": [],
   "source": [
    "te = train.groupby(['Source', 'Destination', 'Total_Stops'])['Price'].agg(['mean'])"
   ]
  },
  {
   "cell_type": "code",
   "execution_count": 255,
   "id": "8c8869c0",
   "metadata": {},
   "outputs": [],
   "source": [
    "te.columns = ['mean_price_DST']"
   ]
  },
  {
   "cell_type": "code",
   "execution_count": 256,
   "id": "ecc97771",
   "metadata": {},
   "outputs": [
    {
     "data": {
      "text/plain": [
       "count    10683.000000\n",
       "mean       773.852382\n",
       "std        344.964055\n",
       "min         20.000000\n",
       "25%        480.000000\n",
       "50%        710.000000\n",
       "75%       1085.000000\n",
       "max       1435.000000\n",
       "Name: Dep_Time, dtype: float64"
      ]
     },
     "execution_count": 256,
     "metadata": {},
     "output_type": "execute_result"
    }
   ],
   "source": [
    "train['Dep_Time'].describe()"
   ]
  },
  {
   "cell_type": "code",
   "execution_count": 257,
   "id": "11f5bf2a",
   "metadata": {},
   "outputs": [
    {
     "data": {
      "text/plain": [
       "count    10683.000000\n",
       "mean       825.617336\n",
       "std        409.324620\n",
       "min          5.000000\n",
       "25%        525.000000\n",
       "50%        845.000000\n",
       "75%       1155.000000\n",
       "max       1435.000000\n",
       "Name: Arrival_time, dtype: float64"
      ]
     },
     "execution_count": 257,
     "metadata": {},
     "output_type": "execute_result"
    }
   ],
   "source": [
    "train['Arrival_time'].describe()"
   ]
  },
  {
   "cell_type": "code",
   "execution_count": 258,
   "id": "f4bafc2c",
   "metadata": {},
   "outputs": [
    {
     "data": {
      "text/plain": [
       "count    10683.000000\n",
       "mean       643.120846\n",
       "std        507.835322\n",
       "min         75.000000\n",
       "25%        170.000000\n",
       "50%        520.000000\n",
       "75%        930.000000\n",
       "max       2860.000000\n",
       "Name: duration, dtype: float64"
      ]
     },
     "execution_count": 258,
     "metadata": {},
     "output_type": "execute_result"
    }
   ],
   "source": [
    "train['duration'].describe()"
   ]
  },
  {
   "cell_type": "code",
   "execution_count": 259,
   "id": "0e37f8c9",
   "metadata": {},
   "outputs": [],
   "source": [
    "def convert_time(tim):\n",
    "    if tim < 720:\n",
    "        return 'AM'\n",
    "    elif tim == 720:\n",
    "        return 'NOON'\n",
    "    else:\n",
    "        return 'PM'"
   ]
  },
  {
   "cell_type": "code",
   "execution_count": 260,
   "id": "525d1f40",
   "metadata": {},
   "outputs": [],
   "source": [
    "def convert_dur(dur):\n",
    "    if dur < 1430:\n",
    "        return 'fast'\n",
    "    elif dur == 1430:\n",
    "        return 'middle'\n",
    "    else:\n",
    "        return 'slow'"
   ]
  },
  {
   "cell_type": "code",
   "execution_count": 261,
   "id": "1461d8d3",
   "metadata": {},
   "outputs": [],
   "source": [
    "train['Time_Zone_Dep'] = train['Dep_Time'].apply(convert_time)"
   ]
  },
  {
   "cell_type": "code",
   "execution_count": 262,
   "id": "4ee1decb",
   "metadata": {},
   "outputs": [],
   "source": [
    "test['Time_Zone_Dep'] = test['Dep_Time'].apply(convert_time)"
   ]
  },
  {
   "cell_type": "code",
   "execution_count": 263,
   "id": "77ac7b08",
   "metadata": {},
   "outputs": [],
   "source": [
    "train['Time_Zone_Arr'] = train['Arrival_time'].apply(convert_time)\n",
    "test['Time_Zone_Arr'] = test['Arrival_time'].apply(convert_time)"
   ]
  },
  {
   "cell_type": "code",
   "execution_count": 264,
   "id": "ebdc9306",
   "metadata": {},
   "outputs": [],
   "source": [
    "train['Time_Zone_Arr'] = train['Arrival_time'].apply(convert_time)\n",
    "test['Time_Zone_Arr'] = test['Arrival_time'].apply(convert_time)"
   ]
  },
  {
   "cell_type": "code",
   "execution_count": 265,
   "id": "aa7030b5",
   "metadata": {},
   "outputs": [],
   "source": [
    "train['duration_len'] = train['duration'].apply(convert_dur)\n",
    "test['duration_len'] = test['duration'].apply(convert_dur)"
   ]
  },
  {
   "cell_type": "code",
   "execution_count": 266,
   "id": "45270562",
   "metadata": {},
   "outputs": [
    {
     "data": {
      "text/plain": [
       "<AxesSubplot:>"
      ]
     },
     "execution_count": 266,
     "metadata": {},
     "output_type": "execute_result"
    },
    {
     "data": {
      "image/png": "[encoded data removed]",
      "text/plain": [
       "<Figure size 432x288 with 1 Axes>"
      ]
     },
     "metadata": {
      "needs_background": "light"
     },
     "output_type": "display_data"
    }
   ],
   "source": [
    "train['duration_len'].value_counts().plot(kind='bar')"
   ]
  },
  {
   "cell_type": "code",
   "execution_count": 267,
   "id": "4f3713d5",
   "metadata": {},
   "outputs": [
    {
     "data": {
      "text/plain": [
       "<AxesSubplot:xlabel='duration_len'>"
      ]
     },
     "execution_count": 267,
     "metadata": {},
     "output_type": "execute_result"
    },
    {
     "data": {
      "image/png": "[encoded data removed]",
      "text/plain": [
       "<Figure size 432x288 with 1 Axes>"
      ]
     },
     "metadata": {
      "needs_background": "light"
     },
     "output_type": "display_data"
    }
   ],
   "source": [
    "train.groupby('duration_len')['Price'].agg(np.mean).plot(kind='bar')"
   ]
  },
  {
   "cell_type": "code",
   "execution_count": 268,
   "id": "975842e3",
   "metadata": {},
   "outputs": [
    {
     "data": {
      "text/plain": [
       "(Cochin       4537\n",
       " Banglore     2871\n",
       " Delhi        1265\n",
       " New Delhi     932\n",
       " Hyderabad     697\n",
       " Kolkata       381\n",
       " Name: Destination, dtype: int64,\n",
       " Delhi       4537\n",
       " Kolkata     2871\n",
       " Banglore    2197\n",
       " Mumbai       697\n",
       " Chennai      381\n",
       " Name: Source, dtype: int64)"
      ]
     },
     "execution_count": 268,
     "metadata": {},
     "output_type": "execute_result"
    }
   ],
   "source": [
    "train.Destination.value_counts(), train.Source.value_counts()"
   ]
  },
  {
   "cell_type": "code",
   "execution_count": 269,
   "id": "bfd26e32",
   "metadata": {},
   "outputs": [],
   "source": [
    "def SD(sou, des):\n",
    "    if sou =='Banglore' and des == 'Delhi':\n",
    "        return 'Banglore-Delhi'\n",
    "    elif sou =='Banglore' and des == 'New Delhi':\n",
    "        return 'Banglore-New_Delhi'\n",
    "    elif sou == 'Chennai' and des == 'Kolkata':\n",
    "        return 'Chennai-Kolkata'\n",
    "    elif sou == 'Delhi' and des == 'Cochin':\n",
    "        return 'Delhi-Cochin'\n",
    "    elif sou == 'Kolkata' and des == 'Banglore':\n",
    "        return 'Kolkata-Banglore'\n",
    "    else:\n",
    "        return 'Mumbai-Hyderabad'"
   ]
  },
  {
   "cell_type": "code",
   "execution_count": 270,
   "id": "6acf984c",
   "metadata": {},
   "outputs": [],
   "source": [
    "train['sou_des'] = train['Source'] + ' ' + train['Destination']"
   ]
  },
  {
   "cell_type": "code",
   "execution_count": 271,
   "id": "b1d08298",
   "metadata": {},
   "outputs": [],
   "source": [
    "test['sou_des'] = test['Source'] + ' ' + test['Destination']"
   ]
  },
  {
   "cell_type": "code",
   "execution_count": 272,
   "id": "529015ac",
   "metadata": {},
   "outputs": [
    {
     "data": {
      "text/html": [
       "<div>\n",
       "<style scoped>\n",
       "    .dataframe tbody tr th:only-of-type {\n",
       "        vertical-align: middle;\n",
       "    }\n",
       "\n",
       "    .dataframe tbody tr th {\n",
       "        vertical-align: top;\n",
       "    }\n",
       "\n",
       "    .dataframe thead th {\n",
       "        text-align: right;\n",
       "    }\n",
       "</style>\n",
       "<table border=\"1\" class=\"dataframe\">\n",
       "  <thead>\n",
       "    <tr style=\"text-align: right;\">\n",
       "      <th></th>\n",
       "      <th>Airline</th>\n",
       "      <th>Date_of_Journey</th>\n",
       "      <th>Source</th>\n",
       "      <th>Destination</th>\n",
       "      <th>Route</th>\n",
       "      <th>Dep_Time</th>\n",
       "      <th>Total_Stops</th>\n",
       "      <th>Additional_Info</th>\n",
       "      <th>Price</th>\n",
       "      <th>year_of_journey</th>\n",
       "      <th>days_of_journey</th>\n",
       "      <th>month_of_journey</th>\n",
       "      <th>Arrival_time</th>\n",
       "      <th>duration</th>\n",
       "      <th>Time_Zone_Dep</th>\n",
       "      <th>Time_Zone_Arr</th>\n",
       "      <th>duration_len</th>\n",
       "      <th>sou_des</th>\n",
       "    </tr>\n",
       "  </thead>\n",
       "  <tbody>\n",
       "    <tr>\n",
       "      <th>0</th>\n",
       "      <td>3</td>\n",
       "      <td>2019-03-24</td>\n",
       "      <td>Banglore</td>\n",
       "      <td>New Delhi</td>\n",
       "      <td>BLR → DEL</td>\n",
       "      <td>1340</td>\n",
       "      <td>1</td>\n",
       "      <td>1</td>\n",
       "      <td>3897</td>\n",
       "      <td>2019</td>\n",
       "      <td>6</td>\n",
       "      <td>3</td>\n",
       "      <td>70</td>\n",
       "      <td>170</td>\n",
       "      <td>PM</td>\n",
       "      <td>AM</td>\n",
       "      <td>fast</td>\n",
       "      <td>Banglore New Delhi</td>\n",
       "    </tr>\n",
       "    <tr>\n",
       "      <th>1</th>\n",
       "      <td>1</td>\n",
       "      <td>2019-05-01</td>\n",
       "      <td>Kolkata</td>\n",
       "      <td>Banglore</td>\n",
       "      <td>CCU → IXR → BBI → BLR</td>\n",
       "      <td>350</td>\n",
       "      <td>0</td>\n",
       "      <td>1</td>\n",
       "      <td>7662</td>\n",
       "      <td>2019</td>\n",
       "      <td>2</td>\n",
       "      <td>5</td>\n",
       "      <td>795</td>\n",
       "      <td>445</td>\n",
       "      <td>AM</td>\n",
       "      <td>PM</td>\n",
       "      <td>fast</td>\n",
       "      <td>Kolkata Banglore</td>\n",
       "    </tr>\n",
       "    <tr>\n",
       "      <th>2</th>\n",
       "      <td>4</td>\n",
       "      <td>2019-06-09</td>\n",
       "      <td>Delhi</td>\n",
       "      <td>Cochin</td>\n",
       "      <td>DEL → LKO → BOM → COK</td>\n",
       "      <td>565</td>\n",
       "      <td>0</td>\n",
       "      <td>1</td>\n",
       "      <td>13882</td>\n",
       "      <td>2019</td>\n",
       "      <td>6</td>\n",
       "      <td>6</td>\n",
       "      <td>265</td>\n",
       "      <td>1140</td>\n",
       "      <td>AM</td>\n",
       "      <td>AM</td>\n",
       "      <td>fast</td>\n",
       "      <td>Delhi Cochin</td>\n",
       "    </tr>\n",
       "    <tr>\n",
       "      <th>3</th>\n",
       "      <td>3</td>\n",
       "      <td>2019-05-12</td>\n",
       "      <td>Kolkata</td>\n",
       "      <td>Banglore</td>\n",
       "      <td>CCU → NAG → BLR</td>\n",
       "      <td>1085</td>\n",
       "      <td>0</td>\n",
       "      <td>1</td>\n",
       "      <td>6218</td>\n",
       "      <td>2019</td>\n",
       "      <td>6</td>\n",
       "      <td>5</td>\n",
       "      <td>1410</td>\n",
       "      <td>325</td>\n",
       "      <td>PM</td>\n",
       "      <td>PM</td>\n",
       "      <td>fast</td>\n",
       "      <td>Kolkata Banglore</td>\n",
       "    </tr>\n",
       "    <tr>\n",
       "      <th>4</th>\n",
       "      <td>3</td>\n",
       "      <td>2019-03-01</td>\n",
       "      <td>Banglore</td>\n",
       "      <td>New Delhi</td>\n",
       "      <td>BLR → NAG → DEL</td>\n",
       "      <td>1010</td>\n",
       "      <td>0</td>\n",
       "      <td>1</td>\n",
       "      <td>13302</td>\n",
       "      <td>2019</td>\n",
       "      <td>4</td>\n",
       "      <td>3</td>\n",
       "      <td>1295</td>\n",
       "      <td>285</td>\n",
       "      <td>PM</td>\n",
       "      <td>PM</td>\n",
       "      <td>fast</td>\n",
       "      <td>Banglore New Delhi</td>\n",
       "    </tr>\n",
       "  </tbody>\n",
       "</table>\n",
       "</div>"
      ],
      "text/plain": [
       "   Airline Date_of_Journey    Source Destination                  Route  \\\n",
       "0        3      2019-03-24  Banglore   New Delhi              BLR → DEL   \n",
       "1        1      2019-05-01   Kolkata    Banglore  CCU → IXR → BBI → BLR   \n",
       "2        4      2019-06-09     Delhi      Cochin  DEL → LKO → BOM → COK   \n",
       "3        3      2019-05-12   Kolkata    Banglore        CCU → NAG → BLR   \n",
       "4        3      2019-03-01  Banglore   New Delhi        BLR → NAG → DEL   \n",
       "\n",
       "   Dep_Time  Total_Stops  Additional_Info  Price  year_of_journey  \\\n",
       "0      1340            1                1   3897             2019   \n",
       "1       350            0                1   7662             2019   \n",
       "2       565            0                1  13882             2019   \n",
       "3      1085            0                1   6218             2019   \n",
       "4      1010            0                1  13302             2019   \n",
       "\n",
       "   days_of_journey  month_of_journey  Arrival_time  duration Time_Zone_Dep  \\\n",
       "0                6                 3            70       170            PM   \n",
       "1                2                 5           795       445            AM   \n",
       "2                6                 6           265      1140            AM   \n",
       "3                6                 5          1410       325            PM   \n",
       "4                4                 3          1295       285            PM   \n",
       "\n",
       "  Time_Zone_Arr duration_len             sou_des  \n",
       "0            AM         fast  Banglore New Delhi  \n",
       "1            PM         fast    Kolkata Banglore  \n",
       "2            AM         fast        Delhi Cochin  \n",
       "3            PM         fast    Kolkata Banglore  \n",
       "4            PM         fast  Banglore New Delhi  "
      ]
     },
     "execution_count": 272,
     "metadata": {},
     "output_type": "execute_result"
    }
   ],
   "source": [
    "train.head()"
   ]
  },
  {
   "cell_type": "code",
   "execution_count": 273,
   "id": "51ed5697",
   "metadata": {},
   "outputs": [
    {
     "data": {
      "text/plain": [
       "Delhi Cochin          4537\n",
       "Kolkata Banglore      2871\n",
       "Banglore Delhi        1265\n",
       "Banglore New Delhi     932\n",
       "Mumbai Hyderabad       697\n",
       "Chennai Kolkata        381\n",
       "Name: sou_des, dtype: int64"
      ]
     },
     "execution_count": 273,
     "metadata": {},
     "output_type": "execute_result"
    }
   ],
   "source": [
    "train.sou_des.value_counts()"
   ]
  },
  {
   "cell_type": "code",
   "execution_count": 274,
   "id": "afb9abe2",
   "metadata": {},
   "outputs": [],
   "source": [
    "distance = {'Delhi Cochin':2081.78, 'Kolkata Banglore':1559, 'Banglore Delhi':1700, 'Mumbai Hyderabad':622,\n",
    "      'Chennai Kolkata':1380, 'Banglore New Delhi':1700}"
   ]
  },
  {
   "cell_type": "code",
   "execution_count": 275,
   "id": "199ac074",
   "metadata": {},
   "outputs": [],
   "source": [
    "train['sou_des'] = train['sou_des'].map(distance)"
   ]
  },
  {
   "cell_type": "code",
   "execution_count": 276,
   "id": "3afbd7f4",
   "metadata": {},
   "outputs": [],
   "source": [
    "test['sou_des'] = test['sou_des'].map(distance)"
   ]
  },
  {
   "cell_type": "code",
   "execution_count": 277,
   "id": "eff3402f",
   "metadata": {},
   "outputs": [
    {
     "data": {
      "text/html": [
       "<div>\n",
       "<style scoped>\n",
       "    .dataframe tbody tr th:only-of-type {\n",
       "        vertical-align: middle;\n",
       "    }\n",
       "\n",
       "    .dataframe tbody tr th {\n",
       "        vertical-align: top;\n",
       "    }\n",
       "\n",
       "    .dataframe thead th {\n",
       "        text-align: right;\n",
       "    }\n",
       "</style>\n",
       "<table border=\"1\" class=\"dataframe\">\n",
       "  <thead>\n",
       "    <tr style=\"text-align: right;\">\n",
       "      <th></th>\n",
       "      <th>Airline</th>\n",
       "      <th>Date_of_Journey</th>\n",
       "      <th>Source</th>\n",
       "      <th>Destination</th>\n",
       "      <th>Route</th>\n",
       "      <th>Dep_Time</th>\n",
       "      <th>Total_Stops</th>\n",
       "      <th>Additional_Info</th>\n",
       "      <th>Price</th>\n",
       "      <th>year_of_journey</th>\n",
       "      <th>days_of_journey</th>\n",
       "      <th>month_of_journey</th>\n",
       "      <th>Arrival_time</th>\n",
       "      <th>duration</th>\n",
       "      <th>Time_Zone_Dep</th>\n",
       "      <th>Time_Zone_Arr</th>\n",
       "      <th>duration_len</th>\n",
       "      <th>sou_des</th>\n",
       "    </tr>\n",
       "  </thead>\n",
       "  <tbody>\n",
       "    <tr>\n",
       "      <th>0</th>\n",
       "      <td>3</td>\n",
       "      <td>2019-03-24</td>\n",
       "      <td>Banglore</td>\n",
       "      <td>New Delhi</td>\n",
       "      <td>BLR → DEL</td>\n",
       "      <td>1340</td>\n",
       "      <td>1</td>\n",
       "      <td>1</td>\n",
       "      <td>3897</td>\n",
       "      <td>2019</td>\n",
       "      <td>6</td>\n",
       "      <td>3</td>\n",
       "      <td>70</td>\n",
       "      <td>170</td>\n",
       "      <td>PM</td>\n",
       "      <td>AM</td>\n",
       "      <td>fast</td>\n",
       "      <td>1700.00</td>\n",
       "    </tr>\n",
       "    <tr>\n",
       "      <th>1</th>\n",
       "      <td>1</td>\n",
       "      <td>2019-05-01</td>\n",
       "      <td>Kolkata</td>\n",
       "      <td>Banglore</td>\n",
       "      <td>CCU → IXR → BBI → BLR</td>\n",
       "      <td>350</td>\n",
       "      <td>0</td>\n",
       "      <td>1</td>\n",
       "      <td>7662</td>\n",
       "      <td>2019</td>\n",
       "      <td>2</td>\n",
       "      <td>5</td>\n",
       "      <td>795</td>\n",
       "      <td>445</td>\n",
       "      <td>AM</td>\n",
       "      <td>PM</td>\n",
       "      <td>fast</td>\n",
       "      <td>1559.00</td>\n",
       "    </tr>\n",
       "    <tr>\n",
       "      <th>2</th>\n",
       "      <td>4</td>\n",
       "      <td>2019-06-09</td>\n",
       "      <td>Delhi</td>\n",
       "      <td>Cochin</td>\n",
       "      <td>DEL → LKO → BOM → COK</td>\n",
       "      <td>565</td>\n",
       "      <td>0</td>\n",
       "      <td>1</td>\n",
       "      <td>13882</td>\n",
       "      <td>2019</td>\n",
       "      <td>6</td>\n",
       "      <td>6</td>\n",
       "      <td>265</td>\n",
       "      <td>1140</td>\n",
       "      <td>AM</td>\n",
       "      <td>AM</td>\n",
       "      <td>fast</td>\n",
       "      <td>2081.78</td>\n",
       "    </tr>\n",
       "    <tr>\n",
       "      <th>3</th>\n",
       "      <td>3</td>\n",
       "      <td>2019-05-12</td>\n",
       "      <td>Kolkata</td>\n",
       "      <td>Banglore</td>\n",
       "      <td>CCU → NAG → BLR</td>\n",
       "      <td>1085</td>\n",
       "      <td>0</td>\n",
       "      <td>1</td>\n",
       "      <td>6218</td>\n",
       "      <td>2019</td>\n",
       "      <td>6</td>\n",
       "      <td>5</td>\n",
       "      <td>1410</td>\n",
       "      <td>325</td>\n",
       "      <td>PM</td>\n",
       "      <td>PM</td>\n",
       "      <td>fast</td>\n",
       "      <td>1559.00</td>\n",
       "    </tr>\n",
       "    <tr>\n",
       "      <th>4</th>\n",
       "      <td>3</td>\n",
       "      <td>2019-03-01</td>\n",
       "      <td>Banglore</td>\n",
       "      <td>New Delhi</td>\n",
       "      <td>BLR → NAG → DEL</td>\n",
       "      <td>1010</td>\n",
       "      <td>0</td>\n",
       "      <td>1</td>\n",
       "      <td>13302</td>\n",
       "      <td>2019</td>\n",
       "      <td>4</td>\n",
       "      <td>3</td>\n",
       "      <td>1295</td>\n",
       "      <td>285</td>\n",
       "      <td>PM</td>\n",
       "      <td>PM</td>\n",
       "      <td>fast</td>\n",
       "      <td>1700.00</td>\n",
       "    </tr>\n",
       "  </tbody>\n",
       "</table>\n",
       "</div>"
      ],
      "text/plain": [
       "   Airline Date_of_Journey    Source Destination                  Route  \\\n",
       "0        3      2019-03-24  Banglore   New Delhi              BLR → DEL   \n",
       "1        1      2019-05-01   Kolkata    Banglore  CCU → IXR → BBI → BLR   \n",
       "2        4      2019-06-09     Delhi      Cochin  DEL → LKO → BOM → COK   \n",
       "3        3      2019-05-12   Kolkata    Banglore        CCU → NAG → BLR   \n",
       "4        3      2019-03-01  Banglore   New Delhi        BLR → NAG → DEL   \n",
       "\n",
       "   Dep_Time  Total_Stops  Additional_Info  Price  year_of_journey  \\\n",
       "0      1340            1                1   3897             2019   \n",
       "1       350            0                1   7662             2019   \n",
       "2       565            0                1  13882             2019   \n",
       "3      1085            0                1   6218             2019   \n",
       "4      1010            0                1  13302             2019   \n",
       "\n",
       "   days_of_journey  month_of_journey  Arrival_time  duration Time_Zone_Dep  \\\n",
       "0                6                 3            70       170            PM   \n",
       "1                2                 5           795       445            AM   \n",
       "2                6                 6           265      1140            AM   \n",
       "3                6                 5          1410       325            PM   \n",
       "4                4                 3          1295       285            PM   \n",
       "\n",
       "  Time_Zone_Arr duration_len  sou_des  \n",
       "0            AM         fast  1700.00  \n",
       "1            PM         fast  1559.00  \n",
       "2            AM         fast  2081.78  \n",
       "3            PM         fast  1559.00  \n",
       "4            PM         fast  1700.00  "
      ]
     },
     "execution_count": 277,
     "metadata": {},
     "output_type": "execute_result"
    }
   ],
   "source": [
    "train.head()"
   ]
  },
  {
   "cell_type": "code",
   "execution_count": 278,
   "id": "47f0012b",
   "metadata": {},
   "outputs": [
    {
     "data": {
      "text/plain": [
       "Airline            -0.039520\n",
       "Dep_Time            0.005485\n",
       "Total_Stops        -0.613760\n",
       "Additional_Info     0.022086\n",
       "Price               1.000000\n",
       "year_of_journey          NaN\n",
       "days_of_journey     0.051613\n",
       "month_of_journey   -0.103651\n",
       "Arrival_time        0.020921\n",
       "duration            0.506495\n",
       "sou_des             0.321925\n",
       "Name: Price, dtype: float64"
      ]
     },
     "execution_count": 278,
     "metadata": {},
     "output_type": "execute_result"
    }
   ],
   "source": [
    "train.corr()['Price']"
   ]
  },
  {
   "cell_type": "code",
   "execution_count": 279,
   "id": "2a41f1e4",
   "metadata": {},
   "outputs": [],
   "source": [
    "dur_len = {'fast':2, 'middle':1, 'slow':0}"
   ]
  },
  {
   "cell_type": "code",
   "execution_count": 280,
   "id": "7fb6b2f1",
   "metadata": {},
   "outputs": [],
   "source": [
    "train['duration_len'] = train['duration_len'].map(dur_len)\n",
    "test['duration_len'] = test['duration_len'].map(dur_len)"
   ]
  },
  {
   "cell_type": "code",
   "execution_count": 281,
   "id": "9ce0315c",
   "metadata": {},
   "outputs": [
    {
     "data": {
      "text/html": [
       "<div>\n",
       "<style scoped>\n",
       "    .dataframe tbody tr th:only-of-type {\n",
       "        vertical-align: middle;\n",
       "    }\n",
       "\n",
       "    .dataframe tbody tr th {\n",
       "        vertical-align: top;\n",
       "    }\n",
       "\n",
       "    .dataframe thead th {\n",
       "        text-align: right;\n",
       "    }\n",
       "</style>\n",
       "<table border=\"1\" class=\"dataframe\">\n",
       "  <thead>\n",
       "    <tr style=\"text-align: right;\">\n",
       "      <th>Time_Zone_Arr</th>\n",
       "      <th>AM</th>\n",
       "      <th>NOON</th>\n",
       "      <th>PM</th>\n",
       "      <th>All</th>\n",
       "    </tr>\n",
       "    <tr>\n",
       "      <th>Time_Zone_Dep</th>\n",
       "      <th></th>\n",
       "      <th></th>\n",
       "      <th></th>\n",
       "      <th></th>\n",
       "    </tr>\n",
       "  </thead>\n",
       "  <tbody>\n",
       "    <tr>\n",
       "      <th>AM</th>\n",
       "      <td>2159</td>\n",
       "      <td>70</td>\n",
       "      <td>3148</td>\n",
       "      <td>5377</td>\n",
       "    </tr>\n",
       "    <tr>\n",
       "      <th>NOON</th>\n",
       "      <td>31</td>\n",
       "      <td>0</td>\n",
       "      <td>67</td>\n",
       "      <td>98</td>\n",
       "    </tr>\n",
       "    <tr>\n",
       "      <th>PM</th>\n",
       "      <td>1898</td>\n",
       "      <td>65</td>\n",
       "      <td>3245</td>\n",
       "      <td>5208</td>\n",
       "    </tr>\n",
       "    <tr>\n",
       "      <th>All</th>\n",
       "      <td>4088</td>\n",
       "      <td>135</td>\n",
       "      <td>6460</td>\n",
       "      <td>10683</td>\n",
       "    </tr>\n",
       "  </tbody>\n",
       "</table>\n",
       "</div>"
      ],
      "text/plain": [
       "Time_Zone_Arr    AM  NOON    PM    All\n",
       "Time_Zone_Dep                         \n",
       "AM             2159    70  3148   5377\n",
       "NOON             31     0    67     98\n",
       "PM             1898    65  3245   5208\n",
       "All            4088   135  6460  10683"
      ]
     },
     "execution_count": 281,
     "metadata": {},
     "output_type": "execute_result"
    }
   ],
   "source": [
    "pd.crosstab(train['Time_Zone_Dep'], train['Time_Zone_Arr'], margins=True)"
   ]
  },
  {
   "cell_type": "code",
   "execution_count": 282,
   "id": "cfa79ae8",
   "metadata": {},
   "outputs": [],
   "source": [
    "train['time_zone'] = train['Time_Zone_Dep'] + ' ' + train['Time_Zone_Arr']\n",
    "test['time_zone'] = test['Time_Zone_Dep'] + ' ' + test['Time_Zone_Arr']"
   ]
  },
  {
   "cell_type": "code",
   "execution_count": 283,
   "id": "89231e4c",
   "metadata": {},
   "outputs": [],
   "source": [
    "train['Time_Zone_Dep'] = train['Time_Zone_Dep'].astype('category')\n",
    "test['Time_Zone_Dep'] = test['Time_Zone_Dep'].astype('category')"
   ]
  },
  {
   "cell_type": "code",
   "execution_count": 284,
   "id": "258c817f",
   "metadata": {},
   "outputs": [],
   "source": [
    "train['Time_Zone_Dep'] = train['Time_Zone_Dep'].cat.codes\n",
    "test['Time_Zone_Dep'] = test['Time_Zone_Dep'].cat.codes"
   ]
  },
  {
   "cell_type": "code",
   "execution_count": 285,
   "id": "6fe2a50e",
   "metadata": {},
   "outputs": [],
   "source": [
    "train['time_zone'] = train['time_zone'].astype('category')\n",
    "test['time_zone'] = test['time_zone'].astype('category')"
   ]
  },
  {
   "cell_type": "code",
   "execution_count": 286,
   "id": "15b22b64",
   "metadata": {},
   "outputs": [],
   "source": [
    "train['time_zone'] = train['time_zone'].cat.codes\n",
    "test['time_zone'] = test['time_zone'].cat.codes"
   ]
  },
  {
   "cell_type": "code",
   "execution_count": 287,
   "id": "02142487",
   "metadata": {},
   "outputs": [],
   "source": [
    "arr = {'AM':1, 'NOON':2, 'PM':3}"
   ]
  },
  {
   "cell_type": "code",
   "execution_count": 288,
   "id": "6c20d572",
   "metadata": {},
   "outputs": [],
   "source": [
    "train['Time_Zone_Arr'] = train['Time_Zone_Arr'].map(arr)"
   ]
  },
  {
   "cell_type": "code",
   "execution_count": 289,
   "id": "f9ce71b4",
   "metadata": {},
   "outputs": [],
   "source": [
    "test['Time_Zone_Arr'] = test['Time_Zone_Arr'].map(arr)"
   ]
  },
  {
   "cell_type": "code",
   "execution_count": 290,
   "id": "3219377b",
   "metadata": {},
   "outputs": [],
   "source": [
    "train['Route'] = train['Route'].astype('category')\n",
    "test['Route'] = test['Route'].astype('category')"
   ]
  },
  {
   "cell_type": "code",
   "execution_count": 291,
   "id": "ad9f1eb1",
   "metadata": {},
   "outputs": [],
   "source": [
    "train['Route'] = train['Route'].cat.codes\n",
    "test['Route'] = test['Route'].cat.codes"
   ]
  },
  {
   "cell_type": "code",
   "execution_count": 292,
   "id": "ab88db1a",
   "metadata": {},
   "outputs": [],
   "source": [
    "train  = pd.get_dummies(data=train)"
   ]
  },
  {
   "cell_type": "code",
   "execution_count": 293,
   "id": "6ab36e78",
   "metadata": {},
   "outputs": [],
   "source": [
    "test = pd.get_dummies(data=test)"
   ]
  },
  {
   "cell_type": "code",
   "execution_count": 294,
   "id": "58476f25",
   "metadata": {},
   "outputs": [],
   "source": [
    "#train['Source'] = train['Source'].astype('category')\n",
    "#test['Source'] = test['Source'].astype('category')"
   ]
  },
  {
   "cell_type": "code",
   "execution_count": 295,
   "id": "8e3de14a",
   "metadata": {},
   "outputs": [],
   "source": [
    "#train['Source'] = train['Source'].cat.codes\n",
    "#test['Source'] = test['Source'].cat.codes"
   ]
  },
  {
   "cell_type": "code",
   "execution_count": 296,
   "id": "37b6c855",
   "metadata": {},
   "outputs": [],
   "source": [
    "#train['Destination'] = train['Destination'].astype('category')\n",
    "#test['Destination'] = test['Destination'].astype('category')"
   ]
  },
  {
   "cell_type": "code",
   "execution_count": 297,
   "id": "88b680ae",
   "metadata": {},
   "outputs": [],
   "source": [
    "#train['Destination'] = train['Destination'].cat.codes\n",
    "#test['Destination'] = test['Destination'].cat.codes"
   ]
  },
  {
   "cell_type": "markdown",
   "id": "b3fa797a",
   "metadata": {},
   "source": [
    "# droping features"
   ]
  },
  {
   "cell_type": "code",
   "execution_count": 298,
   "id": "8a42f201",
   "metadata": {},
   "outputs": [
    {
     "data": {
      "text/plain": [
       "(10683, 28)"
      ]
     },
     "execution_count": 298,
     "metadata": {},
     "output_type": "execute_result"
    }
   ],
   "source": [
    "train.shape"
   ]
  },
  {
   "cell_type": "code",
   "execution_count": 299,
   "id": "97973925",
   "metadata": {},
   "outputs": [
    {
     "data": {
      "text/plain": [
       "(2671, 27)"
      ]
     },
     "execution_count": 299,
     "metadata": {},
     "output_type": "execute_result"
    }
   ],
   "source": [
    "test.shape"
   ]
  },
  {
   "cell_type": "code",
   "execution_count": 300,
   "id": "7c6939e4",
   "metadata": {},
   "outputs": [
    {
     "data": {
      "text/plain": [
       "Airline                 -0.039520\n",
       "Route                    0.164183\n",
       "Dep_Time                 0.005485\n",
       "Total_Stops             -0.613760\n",
       "Additional_Info          0.022086\n",
       "Price                    1.000000\n",
       "year_of_journey               NaN\n",
       "days_of_journey          0.051613\n",
       "month_of_journey        -0.103651\n",
       "Arrival_time             0.020921\n",
       "duration                 0.506495\n",
       "Time_Zone_Dep            0.004502\n",
       "Time_Zone_Arr            0.039335\n",
       "duration_len            -0.197802\n",
       "sou_des                  0.321925\n",
       "time_zone                0.018734\n",
       "Source_Banglore         -0.118026\n",
       "Source_Chennai          -0.179216\n",
       "Source_Delhi             0.270619\n",
       "Source_Kolkata           0.009377\n",
       "Source_Mumbai           -0.230745\n",
       "Destination_Banglore     0.009377\n",
       "Destination_Cochin       0.270619\n",
       "Destination_Delhi       -0.313401\n",
       "Destination_Hyderabad   -0.230745\n",
       "Destination_Kolkata     -0.179216\n",
       "Destination_New Delhi    0.189785\n",
       "Name: Price, dtype: float64"
      ]
     },
     "execution_count": 300,
     "metadata": {},
     "output_type": "execute_result"
    }
   ],
   "source": [
    "train.corr()['Price']"
   ]
  },
  {
   "cell_type": "code",
   "execution_count": 301,
   "id": "4885cf2a",
   "metadata": {},
   "outputs": [],
   "source": [
    "#train.drop(['Date_of_Journey','Source', 'Destination', 'year_of_journey', 'days_of_journey','Time_Zone_Dep', 'Time_Zone_Arr', 'time_zone'], axis=1, inplace=True)"
   ]
  },
  {
   "cell_type": "code",
   "execution_count": 302,
   "id": "e8ede964",
   "metadata": {},
   "outputs": [],
   "source": [
    "train.drop(['Date_of_Journey','year_of_journey'], axis=1, inplace=True)\n",
    "test.drop(['Date_of_Journey','year_of_journey'], axis=1, inplace=True)"
   ]
  },
  {
   "cell_type": "code",
   "execution_count": 303,
   "id": "07f138a8",
   "metadata": {},
   "outputs": [],
   "source": [
    "## for test set\n",
    "#test.drop(['Date_of_Journey','Source', 'Destination', 'year_of_journey', 'days_of_journey','Time_Zone_Dep', 'Time_Zone_Arr', 'time_zone'], axis=1, inplace=True)"
   ]
  },
  {
   "cell_type": "code",
   "execution_count": 304,
   "id": "f439e2d3",
   "metadata": {},
   "outputs": [
    {
     "data": {
      "text/html": [
       "<div>\n",
       "<style scoped>\n",
       "    .dataframe tbody tr th:only-of-type {\n",
       "        vertical-align: middle;\n",
       "    }\n",
       "\n",
       "    .dataframe tbody tr th {\n",
       "        vertical-align: top;\n",
       "    }\n",
       "\n",
       "    .dataframe thead th {\n",
       "        text-align: right;\n",
       "    }\n",
       "</style>\n",
       "<table border=\"1\" class=\"dataframe\">\n",
       "  <thead>\n",
       "    <tr style=\"text-align: right;\">\n",
       "      <th></th>\n",
       "      <th>Airline</th>\n",
       "      <th>Route</th>\n",
       "      <th>Dep_Time</th>\n",
       "      <th>Total_Stops</th>\n",
       "      <th>Additional_Info</th>\n",
       "      <th>Price</th>\n",
       "      <th>days_of_journey</th>\n",
       "      <th>month_of_journey</th>\n",
       "      <th>Arrival_time</th>\n",
       "      <th>duration</th>\n",
       "      <th>...</th>\n",
       "      <th>Source_Chennai</th>\n",
       "      <th>Source_Delhi</th>\n",
       "      <th>Source_Kolkata</th>\n",
       "      <th>Source_Mumbai</th>\n",
       "      <th>Destination_Banglore</th>\n",
       "      <th>Destination_Cochin</th>\n",
       "      <th>Destination_Delhi</th>\n",
       "      <th>Destination_Hyderabad</th>\n",
       "      <th>Destination_Kolkata</th>\n",
       "      <th>Destination_New Delhi</th>\n",
       "    </tr>\n",
       "  </thead>\n",
       "  <tbody>\n",
       "    <tr>\n",
       "      <th>0</th>\n",
       "      <td>3</td>\n",
       "      <td>18</td>\n",
       "      <td>1340</td>\n",
       "      <td>1</td>\n",
       "      <td>1</td>\n",
       "      <td>3897</td>\n",
       "      <td>6</td>\n",
       "      <td>3</td>\n",
       "      <td>70</td>\n",
       "      <td>170</td>\n",
       "      <td>...</td>\n",
       "      <td>0</td>\n",
       "      <td>0</td>\n",
       "      <td>0</td>\n",
       "      <td>0</td>\n",
       "      <td>0</td>\n",
       "      <td>0</td>\n",
       "      <td>0</td>\n",
       "      <td>0</td>\n",
       "      <td>0</td>\n",
       "      <td>1</td>\n",
       "    </tr>\n",
       "    <tr>\n",
       "      <th>1</th>\n",
       "      <td>1</td>\n",
       "      <td>84</td>\n",
       "      <td>350</td>\n",
       "      <td>0</td>\n",
       "      <td>1</td>\n",
       "      <td>7662</td>\n",
       "      <td>2</td>\n",
       "      <td>5</td>\n",
       "      <td>795</td>\n",
       "      <td>445</td>\n",
       "      <td>...</td>\n",
       "      <td>0</td>\n",
       "      <td>0</td>\n",
       "      <td>1</td>\n",
       "      <td>0</td>\n",
       "      <td>1</td>\n",
       "      <td>0</td>\n",
       "      <td>0</td>\n",
       "      <td>0</td>\n",
       "      <td>0</td>\n",
       "      <td>0</td>\n",
       "    </tr>\n",
       "    <tr>\n",
       "      <th>2</th>\n",
       "      <td>4</td>\n",
       "      <td>118</td>\n",
       "      <td>565</td>\n",
       "      <td>0</td>\n",
       "      <td>1</td>\n",
       "      <td>13882</td>\n",
       "      <td>6</td>\n",
       "      <td>6</td>\n",
       "      <td>265</td>\n",
       "      <td>1140</td>\n",
       "      <td>...</td>\n",
       "      <td>0</td>\n",
       "      <td>1</td>\n",
       "      <td>0</td>\n",
       "      <td>0</td>\n",
       "      <td>0</td>\n",
       "      <td>1</td>\n",
       "      <td>0</td>\n",
       "      <td>0</td>\n",
       "      <td>0</td>\n",
       "      <td>0</td>\n",
       "    </tr>\n",
       "    <tr>\n",
       "      <th>3</th>\n",
       "      <td>3</td>\n",
       "      <td>91</td>\n",
       "      <td>1085</td>\n",
       "      <td>0</td>\n",
       "      <td>1</td>\n",
       "      <td>6218</td>\n",
       "      <td>6</td>\n",
       "      <td>5</td>\n",
       "      <td>1410</td>\n",
       "      <td>325</td>\n",
       "      <td>...</td>\n",
       "      <td>0</td>\n",
       "      <td>0</td>\n",
       "      <td>1</td>\n",
       "      <td>0</td>\n",
       "      <td>1</td>\n",
       "      <td>0</td>\n",
       "      <td>0</td>\n",
       "      <td>0</td>\n",
       "      <td>0</td>\n",
       "      <td>0</td>\n",
       "    </tr>\n",
       "    <tr>\n",
       "      <th>4</th>\n",
       "      <td>3</td>\n",
       "      <td>29</td>\n",
       "      <td>1010</td>\n",
       "      <td>0</td>\n",
       "      <td>1</td>\n",
       "      <td>13302</td>\n",
       "      <td>4</td>\n",
       "      <td>3</td>\n",
       "      <td>1295</td>\n",
       "      <td>285</td>\n",
       "      <td>...</td>\n",
       "      <td>0</td>\n",
       "      <td>0</td>\n",
       "      <td>0</td>\n",
       "      <td>0</td>\n",
       "      <td>0</td>\n",
       "      <td>0</td>\n",
       "      <td>0</td>\n",
       "      <td>0</td>\n",
       "      <td>0</td>\n",
       "      <td>1</td>\n",
       "    </tr>\n",
       "  </tbody>\n",
       "</table>\n",
       "<p>5 rows × 26 columns</p>\n",
       "</div>"
      ],
      "text/plain": [
       "   Airline  Route  Dep_Time  Total_Stops  Additional_Info  Price  \\\n",
       "0        3     18      1340            1                1   3897   \n",
       "1        1     84       350            0                1   7662   \n",
       "2        4    118       565            0                1  13882   \n",
       "3        3     91      1085            0                1   6218   \n",
       "4        3     29      1010            0                1  13302   \n",
       "\n",
       "   days_of_journey  month_of_journey  Arrival_time  duration  ...  \\\n",
       "0                6                 3            70       170  ...   \n",
       "1                2                 5           795       445  ...   \n",
       "2                6                 6           265      1140  ...   \n",
       "3                6                 5          1410       325  ...   \n",
       "4                4                 3          1295       285  ...   \n",
       "\n",
       "   Source_Chennai  Source_Delhi  Source_Kolkata  Source_Mumbai  \\\n",
       "0               0             0               0              0   \n",
       "1               0             0               1              0   \n",
       "2               0             1               0              0   \n",
       "3               0             0               1              0   \n",
       "4               0             0               0              0   \n",
       "\n",
       "   Destination_Banglore  Destination_Cochin  Destination_Delhi  \\\n",
       "0                     0                   0                  0   \n",
       "1                     1                   0                  0   \n",
       "2                     0                   1                  0   \n",
       "3                     1                   0                  0   \n",
       "4                     0                   0                  0   \n",
       "\n",
       "   Destination_Hyderabad  Destination_Kolkata  Destination_New Delhi  \n",
       "0                      0                    0                      1  \n",
       "1                      0                    0                      0  \n",
       "2                      0                    0                      0  \n",
       "3                      0                    0                      0  \n",
       "4                      0                    0                      1  \n",
       "\n",
       "[5 rows x 26 columns]"
      ]
     },
     "execution_count": 304,
     "metadata": {},
     "output_type": "execute_result"
    }
   ],
   "source": [
    "train.head()"
   ]
  },
  {
   "cell_type": "code",
   "execution_count": 305,
   "id": "de17afb2",
   "metadata": {},
   "outputs": [
    {
     "data": {
      "text/html": [
       "<div>\n",
       "<style scoped>\n",
       "    .dataframe tbody tr th:only-of-type {\n",
       "        vertical-align: middle;\n",
       "    }\n",
       "\n",
       "    .dataframe tbody tr th {\n",
       "        vertical-align: top;\n",
       "    }\n",
       "\n",
       "    .dataframe thead th {\n",
       "        text-align: right;\n",
       "    }\n",
       "</style>\n",
       "<table border=\"1\" class=\"dataframe\">\n",
       "  <thead>\n",
       "    <tr style=\"text-align: right;\">\n",
       "      <th></th>\n",
       "      <th>Airline</th>\n",
       "      <th>Route</th>\n",
       "      <th>Dep_Time</th>\n",
       "      <th>Total_Stops</th>\n",
       "      <th>Additional_Info</th>\n",
       "      <th>days_of_journey</th>\n",
       "      <th>month_of_journey</th>\n",
       "      <th>Arrival_time</th>\n",
       "      <th>duration</th>\n",
       "      <th>Time_Zone_Dep</th>\n",
       "      <th>...</th>\n",
       "      <th>Source_Chennai</th>\n",
       "      <th>Source_Delhi</th>\n",
       "      <th>Source_Kolkata</th>\n",
       "      <th>Source_Mumbai</th>\n",
       "      <th>Destination_Banglore</th>\n",
       "      <th>Destination_Cochin</th>\n",
       "      <th>Destination_Delhi</th>\n",
       "      <th>Destination_Hyderabad</th>\n",
       "      <th>Destination_Kolkata</th>\n",
       "      <th>Destination_New Delhi</th>\n",
       "    </tr>\n",
       "  </thead>\n",
       "  <tbody>\n",
       "    <tr>\n",
       "      <th>0</th>\n",
       "      <td>4</td>\n",
       "      <td>76</td>\n",
       "      <td>1050</td>\n",
       "      <td>0</td>\n",
       "      <td>1</td>\n",
       "      <td>3</td>\n",
       "      <td>6</td>\n",
       "      <td>265</td>\n",
       "      <td>655</td>\n",
       "      <td>2</td>\n",
       "      <td>...</td>\n",
       "      <td>0</td>\n",
       "      <td>1</td>\n",
       "      <td>0</td>\n",
       "      <td>0</td>\n",
       "      <td>0</td>\n",
       "      <td>1</td>\n",
       "      <td>0</td>\n",
       "      <td>0</td>\n",
       "      <td>0</td>\n",
       "      <td>0</td>\n",
       "    </tr>\n",
       "    <tr>\n",
       "      <th>1</th>\n",
       "      <td>3</td>\n",
       "      <td>65</td>\n",
       "      <td>380</td>\n",
       "      <td>0</td>\n",
       "      <td>1</td>\n",
       "      <td>3</td>\n",
       "      <td>12</td>\n",
       "      <td>620</td>\n",
       "      <td>240</td>\n",
       "      <td>0</td>\n",
       "      <td>...</td>\n",
       "      <td>0</td>\n",
       "      <td>0</td>\n",
       "      <td>1</td>\n",
       "      <td>0</td>\n",
       "      <td>1</td>\n",
       "      <td>0</td>\n",
       "      <td>0</td>\n",
       "      <td>0</td>\n",
       "      <td>0</td>\n",
       "      <td>0</td>\n",
       "    </tr>\n",
       "    <tr>\n",
       "      <th>2</th>\n",
       "      <td>4</td>\n",
       "      <td>76</td>\n",
       "      <td>1155</td>\n",
       "      <td>0</td>\n",
       "      <td>0</td>\n",
       "      <td>1</td>\n",
       "      <td>5</td>\n",
       "      <td>1140</td>\n",
       "      <td>1425</td>\n",
       "      <td>2</td>\n",
       "      <td>...</td>\n",
       "      <td>0</td>\n",
       "      <td>1</td>\n",
       "      <td>0</td>\n",
       "      <td>0</td>\n",
       "      <td>0</td>\n",
       "      <td>1</td>\n",
       "      <td>0</td>\n",
       "      <td>0</td>\n",
       "      <td>0</td>\n",
       "      <td>0</td>\n",
       "    </tr>\n",
       "    <tr>\n",
       "      <th>3</th>\n",
       "      <td>6</td>\n",
       "      <td>76</td>\n",
       "      <td>480</td>\n",
       "      <td>0</td>\n",
       "      <td>1</td>\n",
       "      <td>1</td>\n",
       "      <td>5</td>\n",
       "      <td>1260</td>\n",
       "      <td>780</td>\n",
       "      <td>0</td>\n",
       "      <td>...</td>\n",
       "      <td>0</td>\n",
       "      <td>1</td>\n",
       "      <td>0</td>\n",
       "      <td>0</td>\n",
       "      <td>0</td>\n",
       "      <td>1</td>\n",
       "      <td>0</td>\n",
       "      <td>0</td>\n",
       "      <td>0</td>\n",
       "      <td>0</td>\n",
       "    </tr>\n",
       "    <tr>\n",
       "      <th>4</th>\n",
       "      <td>0</td>\n",
       "      <td>16</td>\n",
       "      <td>1435</td>\n",
       "      <td>1</td>\n",
       "      <td>1</td>\n",
       "      <td>0</td>\n",
       "      <td>6</td>\n",
       "      <td>165</td>\n",
       "      <td>170</td>\n",
       "      <td>2</td>\n",
       "      <td>...</td>\n",
       "      <td>0</td>\n",
       "      <td>0</td>\n",
       "      <td>0</td>\n",
       "      <td>0</td>\n",
       "      <td>0</td>\n",
       "      <td>0</td>\n",
       "      <td>1</td>\n",
       "      <td>0</td>\n",
       "      <td>0</td>\n",
       "      <td>0</td>\n",
       "    </tr>\n",
       "  </tbody>\n",
       "</table>\n",
       "<p>5 rows × 25 columns</p>\n",
       "</div>"
      ],
      "text/plain": [
       "   Airline  Route  Dep_Time  Total_Stops  Additional_Info  days_of_journey  \\\n",
       "0        4     76      1050            0                1                3   \n",
       "1        3     65       380            0                1                3   \n",
       "2        4     76      1155            0                0                1   \n",
       "3        6     76       480            0                1                1   \n",
       "4        0     16      1435            1                1                0   \n",
       "\n",
       "   month_of_journey  Arrival_time  duration  Time_Zone_Dep  ...  \\\n",
       "0                 6           265       655              2  ...   \n",
       "1                12           620       240              0  ...   \n",
       "2                 5          1140      1425              2  ...   \n",
       "3                 5          1260       780              0  ...   \n",
       "4                 6           165       170              2  ...   \n",
       "\n",
       "   Source_Chennai  Source_Delhi  Source_Kolkata  Source_Mumbai  \\\n",
       "0               0             1               0              0   \n",
       "1               0             0               1              0   \n",
       "2               0             1               0              0   \n",
       "3               0             1               0              0   \n",
       "4               0             0               0              0   \n",
       "\n",
       "   Destination_Banglore  Destination_Cochin  Destination_Delhi  \\\n",
       "0                     0                   1                  0   \n",
       "1                     1                   0                  0   \n",
       "2                     0                   1                  0   \n",
       "3                     0                   1                  0   \n",
       "4                     0                   0                  1   \n",
       "\n",
       "   Destination_Hyderabad  Destination_Kolkata  Destination_New Delhi  \n",
       "0                      0                    0                      0  \n",
       "1                      0                    0                      0  \n",
       "2                      0                    0                      0  \n",
       "3                      0                    0                      0  \n",
       "4                      0                    0                      0  \n",
       "\n",
       "[5 rows x 25 columns]"
      ]
     },
     "execution_count": 305,
     "metadata": {},
     "output_type": "execute_result"
    }
   ],
   "source": [
    "test.head()"
   ]
  },
  {
   "cell_type": "code",
   "execution_count": 130,
   "id": "47345847",
   "metadata": {},
   "outputs": [],
   "source": [
    "train['sd'] = train['sou_des'] * train['duration']"
   ]
  },
  {
   "cell_type": "code",
   "execution_count": 131,
   "id": "03f1d5c3",
   "metadata": {},
   "outputs": [],
   "source": [
    "test['sd'] = test['sou_des'] * train['duration']"
   ]
  },
  {
   "cell_type": "code",
   "execution_count": 132,
   "id": "2ce5968b",
   "metadata": {},
   "outputs": [],
   "source": [
    "train['ro_mo_stop'] = (train['Route'] * train['Total_Stops']) / train['month_of_journey']"
   ]
  },
  {
   "cell_type": "code",
   "execution_count": 133,
   "id": "5d4b785a",
   "metadata": {},
   "outputs": [],
   "source": [
    "test['ro_mo_stop'] = (test['Route'] * test['Total_Stops']) / test['month_of_journey']"
   ]
  },
  {
   "cell_type": "markdown",
   "id": "d35314a8",
   "metadata": {},
   "source": [
    "droping low correlation features and unneccesary object datatype"
   ]
  },
  {
   "cell_type": "code",
   "execution_count": 134,
   "id": "6c5c068f",
   "metadata": {},
   "outputs": [],
   "source": [
    "## increasing figure \n",
    "sns.set(rc={'figure.figsize':(10,5)})"
   ]
  },
  {
   "cell_type": "code",
   "execution_count": 135,
   "id": "dd84862f",
   "metadata": {},
   "outputs": [],
   "source": [
    "train['gr'] = train['sou_des'] * train['duration']\n",
    "test['gr'] = test['sou_des'] * test['duration']"
   ]
  },
  {
   "cell_type": "code",
   "execution_count": 136,
   "id": "8adcdddf",
   "metadata": {},
   "outputs": [],
   "source": [
    "train['avg_dur_arr'] = (train['Arrival_time'] * train['duration']) *100\n",
    "test['avg_dur_arr'] = (test['Arrival_time'] * test['duration']) *100"
   ]
  },
  {
   "cell_type": "code",
   "execution_count": 137,
   "id": "1e6dc5e4",
   "metadata": {},
   "outputs": [],
   "source": [
    "train['arr_dep'] = (train['Arrival_time'] - train['Dep_Time']) * train['duration_len']\n",
    "test['arr_dep'] = (test['Arrival_time'] - test['Dep_Time']) * test['duration_len']"
   ]
  },
  {
   "cell_type": "code",
   "execution_count": 138,
   "id": "a73e4e31",
   "metadata": {},
   "outputs": [],
   "source": [
    "train['rou_mo'] = train['month_of_journey'] * train['Route']\n",
    "test['rou_mo'] = test['month_of_journey'] * test['Route']"
   ]
  },
  {
   "cell_type": "code",
   "execution_count": 139,
   "id": "91318222",
   "metadata": {},
   "outputs": [],
   "source": [
    "train['d_m'] = train['duration'] * train['month_of_journey']\n",
    "test['d_m'] = test['duration'] * test['month_of_journey']"
   ]
  },
  {
   "cell_type": "code",
   "execution_count": 140,
   "id": "7c3df12d",
   "metadata": {},
   "outputs": [],
   "source": [
    "train['To_Re'] = train['Total_Stops'] * train['Route']\n",
    "test['To_Re'] = test['Total_Stops'] * test['Route']"
   ]
  },
  {
   "cell_type": "code",
   "execution_count": 141,
   "id": "3907f357",
   "metadata": {},
   "outputs": [
    {
     "data": {
      "text/html": [
       "<div>\n",
       "<style scoped>\n",
       "    .dataframe tbody tr th:only-of-type {\n",
       "        vertical-align: middle;\n",
       "    }\n",
       "\n",
       "    .dataframe tbody tr th {\n",
       "        vertical-align: top;\n",
       "    }\n",
       "\n",
       "    .dataframe thead th {\n",
       "        text-align: right;\n",
       "    }\n",
       "</style>\n",
       "<table border=\"1\" class=\"dataframe\">\n",
       "  <thead>\n",
       "    <tr style=\"text-align: right;\">\n",
       "      <th></th>\n",
       "      <th>Airline</th>\n",
       "      <th>Route</th>\n",
       "      <th>Dep_Time</th>\n",
       "      <th>Total_Stops</th>\n",
       "      <th>Additional_Info</th>\n",
       "      <th>Price</th>\n",
       "      <th>days_of_journey</th>\n",
       "      <th>month_of_journey</th>\n",
       "      <th>Arrival_time</th>\n",
       "      <th>duration</th>\n",
       "      <th>...</th>\n",
       "      <th>Destination_Kolkata</th>\n",
       "      <th>Destination_New Delhi</th>\n",
       "      <th>sd</th>\n",
       "      <th>ro_mo_stop</th>\n",
       "      <th>gr</th>\n",
       "      <th>avg_dur_arr</th>\n",
       "      <th>arr_dep</th>\n",
       "      <th>rou_mo</th>\n",
       "      <th>d_m</th>\n",
       "      <th>To_Re</th>\n",
       "    </tr>\n",
       "  </thead>\n",
       "  <tbody>\n",
       "    <tr>\n",
       "      <th>0</th>\n",
       "      <td>3</td>\n",
       "      <td>18</td>\n",
       "      <td>1340</td>\n",
       "      <td>1</td>\n",
       "      <td>1</td>\n",
       "      <td>3897</td>\n",
       "      <td>6</td>\n",
       "      <td>3</td>\n",
       "      <td>70</td>\n",
       "      <td>170</td>\n",
       "      <td>...</td>\n",
       "      <td>0</td>\n",
       "      <td>1</td>\n",
       "      <td>289000.0</td>\n",
       "      <td>6.0</td>\n",
       "      <td>289000.0</td>\n",
       "      <td>1190000</td>\n",
       "      <td>-2540</td>\n",
       "      <td>54</td>\n",
       "      <td>510</td>\n",
       "      <td>18</td>\n",
       "    </tr>\n",
       "    <tr>\n",
       "      <th>1</th>\n",
       "      <td>1</td>\n",
       "      <td>84</td>\n",
       "      <td>350</td>\n",
       "      <td>0</td>\n",
       "      <td>1</td>\n",
       "      <td>7662</td>\n",
       "      <td>2</td>\n",
       "      <td>5</td>\n",
       "      <td>795</td>\n",
       "      <td>445</td>\n",
       "      <td>...</td>\n",
       "      <td>0</td>\n",
       "      <td>0</td>\n",
       "      <td>693755.0</td>\n",
       "      <td>0.0</td>\n",
       "      <td>693755.0</td>\n",
       "      <td>35377500</td>\n",
       "      <td>890</td>\n",
       "      <td>420</td>\n",
       "      <td>2225</td>\n",
       "      <td>0</td>\n",
       "    </tr>\n",
       "    <tr>\n",
       "      <th>2</th>\n",
       "      <td>4</td>\n",
       "      <td>118</td>\n",
       "      <td>565</td>\n",
       "      <td>0</td>\n",
       "      <td>1</td>\n",
       "      <td>13882</td>\n",
       "      <td>6</td>\n",
       "      <td>6</td>\n",
       "      <td>265</td>\n",
       "      <td>1140</td>\n",
       "      <td>...</td>\n",
       "      <td>0</td>\n",
       "      <td>0</td>\n",
       "      <td>2373229.2</td>\n",
       "      <td>0.0</td>\n",
       "      <td>2373229.2</td>\n",
       "      <td>30210000</td>\n",
       "      <td>-600</td>\n",
       "      <td>708</td>\n",
       "      <td>6840</td>\n",
       "      <td>0</td>\n",
       "    </tr>\n",
       "    <tr>\n",
       "      <th>3</th>\n",
       "      <td>3</td>\n",
       "      <td>91</td>\n",
       "      <td>1085</td>\n",
       "      <td>0</td>\n",
       "      <td>1</td>\n",
       "      <td>6218</td>\n",
       "      <td>6</td>\n",
       "      <td>5</td>\n",
       "      <td>1410</td>\n",
       "      <td>325</td>\n",
       "      <td>...</td>\n",
       "      <td>0</td>\n",
       "      <td>0</td>\n",
       "      <td>506675.0</td>\n",
       "      <td>0.0</td>\n",
       "      <td>506675.0</td>\n",
       "      <td>45825000</td>\n",
       "      <td>650</td>\n",
       "      <td>455</td>\n",
       "      <td>1625</td>\n",
       "      <td>0</td>\n",
       "    </tr>\n",
       "    <tr>\n",
       "      <th>4</th>\n",
       "      <td>3</td>\n",
       "      <td>29</td>\n",
       "      <td>1010</td>\n",
       "      <td>0</td>\n",
       "      <td>1</td>\n",
       "      <td>13302</td>\n",
       "      <td>4</td>\n",
       "      <td>3</td>\n",
       "      <td>1295</td>\n",
       "      <td>285</td>\n",
       "      <td>...</td>\n",
       "      <td>0</td>\n",
       "      <td>1</td>\n",
       "      <td>484500.0</td>\n",
       "      <td>0.0</td>\n",
       "      <td>484500.0</td>\n",
       "      <td>36907500</td>\n",
       "      <td>570</td>\n",
       "      <td>87</td>\n",
       "      <td>855</td>\n",
       "      <td>0</td>\n",
       "    </tr>\n",
       "  </tbody>\n",
       "</table>\n",
       "<p>5 rows × 34 columns</p>\n",
       "</div>"
      ],
      "text/plain": [
       "   Airline  Route  Dep_Time  Total_Stops  Additional_Info  Price  \\\n",
       "0        3     18      1340            1                1   3897   \n",
       "1        1     84       350            0                1   7662   \n",
       "2        4    118       565            0                1  13882   \n",
       "3        3     91      1085            0                1   6218   \n",
       "4        3     29      1010            0                1  13302   \n",
       "\n",
       "   days_of_journey  month_of_journey  Arrival_time  duration  ...  \\\n",
       "0                6                 3            70       170  ...   \n",
       "1                2                 5           795       445  ...   \n",
       "2                6                 6           265      1140  ...   \n",
       "3                6                 5          1410       325  ...   \n",
       "4                4                 3          1295       285  ...   \n",
       "\n",
       "   Destination_Kolkata  Destination_New Delhi         sd  ro_mo_stop  \\\n",
       "0                    0                      1   289000.0         6.0   \n",
       "1                    0                      0   693755.0         0.0   \n",
       "2                    0                      0  2373229.2         0.0   \n",
       "3                    0                      0   506675.0         0.0   \n",
       "4                    0                      1   484500.0         0.0   \n",
       "\n",
       "          gr  avg_dur_arr  arr_dep  rou_mo   d_m  To_Re  \n",
       "0   289000.0      1190000    -2540      54   510     18  \n",
       "1   693755.0     35377500      890     420  2225      0  \n",
       "2  2373229.2     30210000     -600     708  6840      0  \n",
       "3   506675.0     45825000      650     455  1625      0  \n",
       "4   484500.0     36907500      570      87   855      0  \n",
       "\n",
       "[5 rows x 34 columns]"
      ]
     },
     "execution_count": 141,
     "metadata": {},
     "output_type": "execute_result"
    }
   ],
   "source": [
    "train.head()"
   ]
  },
  {
   "cell_type": "code",
   "execution_count": 142,
   "id": "ce211c48",
   "metadata": {},
   "outputs": [
    {
     "name": "stdout",
     "output_type": "stream",
     "text": [
      "<class 'pandas.core.frame.DataFrame'>\n",
      "RangeIndex: 2671 entries, 0 to 2670\n",
      "Data columns (total 33 columns):\n",
      " #   Column                 Non-Null Count  Dtype  \n",
      "---  ------                 --------------  -----  \n",
      " 0   Airline                2671 non-null   int8   \n",
      " 1   Route                  2671 non-null   int8   \n",
      " 2   Dep_Time               2671 non-null   int64  \n",
      " 3   Total_Stops            2671 non-null   int64  \n",
      " 4   Additional_Info        2671 non-null   int64  \n",
      " 5   days_of_journey        2671 non-null   int64  \n",
      " 6   month_of_journey       2671 non-null   int64  \n",
      " 7   Arrival_time           2671 non-null   int64  \n",
      " 8   duration               2671 non-null   int64  \n",
      " 9   Time_Zone_Dep          2671 non-null   int8   \n",
      " 10  Time_Zone_Arr          2671 non-null   int64  \n",
      " 11  duration_len           2671 non-null   int64  \n",
      " 12  sou_des                2671 non-null   float64\n",
      " 13  time_zone              2671 non-null   int8   \n",
      " 14  Source_Banglore        2671 non-null   uint8  \n",
      " 15  Source_Chennai         2671 non-null   uint8  \n",
      " 16  Source_Delhi           2671 non-null   uint8  \n",
      " 17  Source_Kolkata         2671 non-null   uint8  \n",
      " 18  Source_Mumbai          2671 non-null   uint8  \n",
      " 19  Destination_Banglore   2671 non-null   uint8  \n",
      " 20  Destination_Cochin     2671 non-null   uint8  \n",
      " 21  Destination_Delhi      2671 non-null   uint8  \n",
      " 22  Destination_Hyderabad  2671 non-null   uint8  \n",
      " 23  Destination_Kolkata    2671 non-null   uint8  \n",
      " 24  Destination_New Delhi  2671 non-null   uint8  \n",
      " 25  sd                     2671 non-null   float64\n",
      " 26  ro_mo_stop             2671 non-null   float64\n",
      " 27  gr                     2671 non-null   float64\n",
      " 28  avg_dur_arr            2671 non-null   int64  \n",
      " 29  arr_dep                2671 non-null   int64  \n",
      " 30  rou_mo                 2671 non-null   int64  \n",
      " 31  d_m                    2671 non-null   int64  \n",
      " 32  To_Re                  2671 non-null   int64  \n",
      "dtypes: float64(4), int64(14), int8(4), uint8(11)\n",
      "memory usage: 414.9 KB\n"
     ]
    }
   ],
   "source": [
    "test.info()"
   ]
  },
  {
   "cell_type": "code",
   "execution_count": 143,
   "id": "a1dabc98",
   "metadata": {},
   "outputs": [],
   "source": [
    "train['r_i_m'] = (train['Route'] * train['month_of_journey'] * train['duration'])\n",
    "test['r_i_m'] = (test['Route'] * test['month_of_journey'] * test['duration'])"
   ]
  },
  {
   "cell_type": "code",
   "execution_count": 144,
   "id": "dc59bce9",
   "metadata": {},
   "outputs": [
    {
     "data": {
      "text/plain": [
       "<AxesSubplot:>"
      ]
     },
     "execution_count": 144,
     "metadata": {},
     "output_type": "execute_result"
    },
    {
     "data": {
      "image/png": "[encoded data removed]",
      "text/plain": [
       "<Figure size 720x360 with 2 Axes>"
      ]
     },
     "metadata": {},
     "output_type": "display_data"
    }
   ],
   "source": [
    "sns.heatmap(train.corr(), annot=True)"
   ]
  },
  {
   "cell_type": "code",
   "execution_count": 145,
   "id": "a5b006b5",
   "metadata": {},
   "outputs": [
    {
     "data": {
      "text/plain": [
       "(10683, 35)"
      ]
     },
     "execution_count": 145,
     "metadata": {},
     "output_type": "execute_result"
    }
   ],
   "source": [
    "train.shape"
   ]
  },
  {
   "cell_type": "code",
   "execution_count": 146,
   "id": "3856c393",
   "metadata": {},
   "outputs": [
    {
     "data": {
      "text/plain": [
       "(2671, 34)"
      ]
     },
     "execution_count": 146,
     "metadata": {},
     "output_type": "execute_result"
    }
   ],
   "source": [
    "test.shape"
   ]
  },
  {
   "cell_type": "code",
   "execution_count": 147,
   "id": "81cbd94f",
   "metadata": {},
   "outputs": [
    {
     "data": {
      "text/html": [
       "<div>\n",
       "<style scoped>\n",
       "    .dataframe tbody tr th:only-of-type {\n",
       "        vertical-align: middle;\n",
       "    }\n",
       "\n",
       "    .dataframe tbody tr th {\n",
       "        vertical-align: top;\n",
       "    }\n",
       "\n",
       "    .dataframe thead th {\n",
       "        text-align: right;\n",
       "    }\n",
       "</style>\n",
       "<table border=\"1\" class=\"dataframe\">\n",
       "  <thead>\n",
       "    <tr style=\"text-align: right;\">\n",
       "      <th></th>\n",
       "      <th>Airline</th>\n",
       "      <th>Route</th>\n",
       "      <th>Dep_Time</th>\n",
       "      <th>Total_Stops</th>\n",
       "      <th>Additional_Info</th>\n",
       "      <th>Price</th>\n",
       "      <th>days_of_journey</th>\n",
       "      <th>month_of_journey</th>\n",
       "      <th>Arrival_time</th>\n",
       "      <th>duration</th>\n",
       "      <th>...</th>\n",
       "      <th>Destination_New Delhi</th>\n",
       "      <th>sd</th>\n",
       "      <th>ro_mo_stop</th>\n",
       "      <th>gr</th>\n",
       "      <th>avg_dur_arr</th>\n",
       "      <th>arr_dep</th>\n",
       "      <th>rou_mo</th>\n",
       "      <th>d_m</th>\n",
       "      <th>To_Re</th>\n",
       "      <th>r_i_m</th>\n",
       "    </tr>\n",
       "  </thead>\n",
       "  <tbody>\n",
       "    <tr>\n",
       "      <th>count</th>\n",
       "      <td>10683.000000</td>\n",
       "      <td>10683.000000</td>\n",
       "      <td>10683.000000</td>\n",
       "      <td>10683.000000</td>\n",
       "      <td>10683.000000</td>\n",
       "      <td>10683.000000</td>\n",
       "      <td>10683.000000</td>\n",
       "      <td>10683.000000</td>\n",
       "      <td>10683.000000</td>\n",
       "      <td>10683.000000</td>\n",
       "      <td>...</td>\n",
       "      <td>10683.000000</td>\n",
       "      <td>1.068300e+04</td>\n",
       "      <td>10683.000000</td>\n",
       "      <td>1.068300e+04</td>\n",
       "      <td>1.068300e+04</td>\n",
       "      <td>10683.000000</td>\n",
       "      <td>10683.000000</td>\n",
       "      <td>10683.000000</td>\n",
       "      <td>10683.000000</td>\n",
       "      <td>1.068300e+04</td>\n",
       "    </tr>\n",
       "    <tr>\n",
       "      <th>mean</th>\n",
       "      <td>3.965927</td>\n",
       "      <td>74.813067</td>\n",
       "      <td>773.852382</td>\n",
       "      <td>0.326781</td>\n",
       "      <td>0.781428</td>\n",
       "      <td>9087.064121</td>\n",
       "      <td>2.934850</td>\n",
       "      <td>4.708602</td>\n",
       "      <td>825.617336</td>\n",
       "      <td>643.120846</td>\n",
       "      <td>...</td>\n",
       "      <td>0.087241</td>\n",
       "      <td>1.182511e+06</td>\n",
       "      <td>3.766907</td>\n",
       "      <td>1.182511e+06</td>\n",
       "      <td>5.411423e+07</td>\n",
       "      <td>72.073388</td>\n",
       "      <td>362.704203</td>\n",
       "      <td>3036.945615</td>\n",
       "      <td>16.385379</td>\n",
       "      <td>2.610009e+05</td>\n",
       "    </tr>\n",
       "    <tr>\n",
       "      <th>std</th>\n",
       "      <td>2.352155</td>\n",
       "      <td>36.734645</td>\n",
       "      <td>344.964055</td>\n",
       "      <td>0.469058</td>\n",
       "      <td>0.413297</td>\n",
       "      <td>4611.359167</td>\n",
       "      <td>2.006698</td>\n",
       "      <td>1.164357</td>\n",
       "      <td>409.324620</td>\n",
       "      <td>507.835322</td>\n",
       "      <td>...</td>\n",
       "      <td>0.282202</td>\n",
       "      <td>9.766783e+05</td>\n",
       "      <td>7.588137</td>\n",
       "      <td>9.766783e+05</td>\n",
       "      <td>5.420086e+07</td>\n",
       "      <td>1043.751281</td>\n",
       "      <td>207.183286</td>\n",
       "      <td>2553.185195</td>\n",
       "      <td>31.455628</td>\n",
       "      <td>2.653211e+05</td>\n",
       "    </tr>\n",
       "    <tr>\n",
       "      <th>min</th>\n",
       "      <td>0.000000</td>\n",
       "      <td>-1.000000</td>\n",
       "      <td>20.000000</td>\n",
       "      <td>0.000000</td>\n",
       "      <td>0.000000</td>\n",
       "      <td>1759.000000</td>\n",
       "      <td>0.000000</td>\n",
       "      <td>3.000000</td>\n",
       "      <td>5.000000</td>\n",
       "      <td>75.000000</td>\n",
       "      <td>...</td>\n",
       "      <td>0.000000</td>\n",
       "      <td>4.665000e+04</td>\n",
       "      <td>0.000000</td>\n",
       "      <td>4.665000e+04</td>\n",
       "      <td>8.000000e+04</td>\n",
       "      <td>-2710.000000</td>\n",
       "      <td>-5.000000</td>\n",
       "      <td>225.000000</td>\n",
       "      <td>0.000000</td>\n",
       "      <td>-7.100000e+03</td>\n",
       "    </tr>\n",
       "    <tr>\n",
       "      <th>25%</th>\n",
       "      <td>3.000000</td>\n",
       "      <td>48.000000</td>\n",
       "      <td>480.000000</td>\n",
       "      <td>0.000000</td>\n",
       "      <td>1.000000</td>\n",
       "      <td>5277.000000</td>\n",
       "      <td>1.000000</td>\n",
       "      <td>3.000000</td>\n",
       "      <td>525.000000</td>\n",
       "      <td>170.000000</td>\n",
       "      <td>...</td>\n",
       "      <td>0.000000</td>\n",
       "      <td>2.975000e+05</td>\n",
       "      <td>0.000000</td>\n",
       "      <td>2.975000e+05</td>\n",
       "      <td>1.258000e+07</td>\n",
       "      <td>-290.000000</td>\n",
       "      <td>198.000000</td>\n",
       "      <td>875.000000</td>\n",
       "      <td>0.000000</td>\n",
       "      <td>2.592000e+04</td>\n",
       "    </tr>\n",
       "    <tr>\n",
       "      <th>50%</th>\n",
       "      <td>4.000000</td>\n",
       "      <td>73.000000</td>\n",
       "      <td>710.000000</td>\n",
       "      <td>0.000000</td>\n",
       "      <td>1.000000</td>\n",
       "      <td>8372.000000</td>\n",
       "      <td>3.000000</td>\n",
       "      <td>5.000000</td>\n",
       "      <td>845.000000</td>\n",
       "      <td>520.000000</td>\n",
       "      <td>...</td>\n",
       "      <td>0.000000</td>\n",
       "      <td>9.680277e+05</td>\n",
       "      <td>0.000000</td>\n",
       "      <td>9.680277e+05</td>\n",
       "      <td>3.638250e+07</td>\n",
       "      <td>300.000000</td>\n",
       "      <td>335.000000</td>\n",
       "      <td>2295.000000</td>\n",
       "      <td>0.000000</td>\n",
       "      <td>1.903200e+05</td>\n",
       "    </tr>\n",
       "    <tr>\n",
       "      <th>75%</th>\n",
       "      <td>4.000000</td>\n",
       "      <td>104.000000</td>\n",
       "      <td>1085.000000</td>\n",
       "      <td>1.000000</td>\n",
       "      <td>1.000000</td>\n",
       "      <td>12373.000000</td>\n",
       "      <td>5.000000</td>\n",
       "      <td>6.000000</td>\n",
       "      <td>1155.000000</td>\n",
       "      <td>930.000000</td>\n",
       "      <td>...</td>\n",
       "      <td>0.000000</td>\n",
       "      <td>1.759104e+06</td>\n",
       "      <td>3.600000</td>\n",
       "      <td>1.759104e+06</td>\n",
       "      <td>7.875000e+07</td>\n",
       "      <td>690.000000</td>\n",
       "      <td>520.000000</td>\n",
       "      <td>4470.000000</td>\n",
       "      <td>18.000000</td>\n",
       "      <td>4.009500e+05</td>\n",
       "    </tr>\n",
       "    <tr>\n",
       "      <th>max</th>\n",
       "      <td>11.000000</td>\n",
       "      <td>127.000000</td>\n",
       "      <td>1435.000000</td>\n",
       "      <td>1.000000</td>\n",
       "      <td>1.000000</td>\n",
       "      <td>79512.000000</td>\n",
       "      <td>6.000000</td>\n",
       "      <td>6.000000</td>\n",
       "      <td>1435.000000</td>\n",
       "      <td>2860.000000</td>\n",
       "      <td>...</td>\n",
       "      <td>1.000000</td>\n",
       "      <td>5.953891e+06</td>\n",
       "      <td>42.333333</td>\n",
       "      <td>5.953891e+06</td>\n",
       "      <td>3.459600e+08</td>\n",
       "      <td>2810.000000</td>\n",
       "      <td>762.000000</td>\n",
       "      <td>13770.000000</td>\n",
       "      <td>127.000000</td>\n",
       "      <td>1.696320e+06</td>\n",
       "    </tr>\n",
       "  </tbody>\n",
       "</table>\n",
       "<p>8 rows × 35 columns</p>\n",
       "</div>"
      ],
      "text/plain": [
       "            Airline         Route      Dep_Time   Total_Stops  \\\n",
       "count  10683.000000  10683.000000  10683.000000  10683.000000   \n",
       "mean       3.965927     74.813067    773.852382      0.326781   \n",
       "std        2.352155     36.734645    344.964055      0.469058   \n",
       "min        0.000000     -1.000000     20.000000      0.000000   \n",
       "25%        3.000000     48.000000    480.000000      0.000000   \n",
       "50%        4.000000     73.000000    710.000000      0.000000   \n",
       "75%        4.000000    104.000000   1085.000000      1.000000   \n",
       "max       11.000000    127.000000   1435.000000      1.000000   \n",
       "\n",
       "       Additional_Info         Price  days_of_journey  month_of_journey  \\\n",
       "count     10683.000000  10683.000000     10683.000000      10683.000000   \n",
       "mean          0.781428   9087.064121         2.934850          4.708602   \n",
       "std           0.413297   4611.359167         2.006698          1.164357   \n",
       "min           0.000000   1759.000000         0.000000          3.000000   \n",
       "25%           1.000000   5277.000000         1.000000          3.000000   \n",
       "50%           1.000000   8372.000000         3.000000          5.000000   \n",
       "75%           1.000000  12373.000000         5.000000          6.000000   \n",
       "max           1.000000  79512.000000         6.000000          6.000000   \n",
       "\n",
       "       Arrival_time      duration  ...  Destination_New Delhi            sd  \\\n",
       "count  10683.000000  10683.000000  ...           10683.000000  1.068300e+04   \n",
       "mean     825.617336    643.120846  ...               0.087241  1.182511e+06   \n",
       "std      409.324620    507.835322  ...               0.282202  9.766783e+05   \n",
       "min        5.000000     75.000000  ...               0.000000  4.665000e+04   \n",
       "25%      525.000000    170.000000  ...               0.000000  2.975000e+05   \n",
       "50%      845.000000    520.000000  ...               0.000000  9.680277e+05   \n",
       "75%     1155.000000    930.000000  ...               0.000000  1.759104e+06   \n",
       "max     1435.000000   2860.000000  ...               1.000000  5.953891e+06   \n",
       "\n",
       "         ro_mo_stop            gr   avg_dur_arr       arr_dep        rou_mo  \\\n",
       "count  10683.000000  1.068300e+04  1.068300e+04  10683.000000  10683.000000   \n",
       "mean       3.766907  1.182511e+06  5.411423e+07     72.073388    362.704203   \n",
       "std        7.588137  9.766783e+05  5.420086e+07   1043.751281    207.183286   \n",
       "min        0.000000  4.665000e+04  8.000000e+04  -2710.000000     -5.000000   \n",
       "25%        0.000000  2.975000e+05  1.258000e+07   -290.000000    198.000000   \n",
       "50%        0.000000  9.680277e+05  3.638250e+07    300.000000    335.000000   \n",
       "75%        3.600000  1.759104e+06  7.875000e+07    690.000000    520.000000   \n",
       "max       42.333333  5.953891e+06  3.459600e+08   2810.000000    762.000000   \n",
       "\n",
       "                d_m         To_Re         r_i_m  \n",
       "count  10683.000000  10683.000000  1.068300e+04  \n",
       "mean    3036.945615     16.385379  2.610009e+05  \n",
       "std     2553.185195     31.455628  2.653211e+05  \n",
       "min      225.000000      0.000000 -7.100000e+03  \n",
       "25%      875.000000      0.000000  2.592000e+04  \n",
       "50%     2295.000000      0.000000  1.903200e+05  \n",
       "75%     4470.000000     18.000000  4.009500e+05  \n",
       "max    13770.000000    127.000000  1.696320e+06  \n",
       "\n",
       "[8 rows x 35 columns]"
      ]
     },
     "execution_count": 147,
     "metadata": {},
     "output_type": "execute_result"
    }
   ],
   "source": [
    "train.describe()"
   ]
  },
  {
   "cell_type": "code",
   "execution_count": 148,
   "id": "2dfab6f5",
   "metadata": {},
   "outputs": [],
   "source": [
    "scale = StandardScaler()"
   ]
  },
  {
   "cell_type": "code",
   "execution_count": 149,
   "id": "d71f678e",
   "metadata": {},
   "outputs": [],
   "source": [
    "import warnings\n",
    "warnings.filterwarnings(\"ignore\")"
   ]
  },
  {
   "cell_type": "code",
   "execution_count": 150,
   "id": "8f461bce",
   "metadata": {},
   "outputs": [],
   "source": [
    "from scipy.stats import boxcox"
   ]
  },
  {
   "cell_type": "code",
   "execution_count": 151,
   "id": "da55247f",
   "metadata": {},
   "outputs": [
    {
     "data": {
      "text/plain": [
       "Airline                 -0.039520\n",
       "Route                    0.164183\n",
       "Dep_Time                 0.005485\n",
       "Total_Stops             -0.613760\n",
       "Additional_Info          0.022086\n",
       "Price                    1.000000\n",
       "days_of_journey          0.051613\n",
       "month_of_journey        -0.103651\n",
       "Arrival_time             0.020921\n",
       "duration                 0.506495\n",
       "Time_Zone_Dep            0.004502\n",
       "Time_Zone_Arr            0.039335\n",
       "duration_len            -0.197802\n",
       "sou_des                  0.321925\n",
       "time_zone                0.018734\n",
       "Source_Banglore         -0.118026\n",
       "Source_Chennai          -0.179216\n",
       "Source_Delhi             0.270619\n",
       "Source_Kolkata           0.009377\n",
       "Source_Mumbai           -0.230745\n",
       "Destination_Banglore     0.009377\n",
       "Destination_Cochin       0.270619\n",
       "Destination_Delhi       -0.313401\n",
       "Destination_Hyderabad   -0.230745\n",
       "Destination_Kolkata     -0.179216\n",
       "Destination_New Delhi    0.189785\n",
       "sd                       0.496832\n",
       "ro_mo_stop              -0.439029\n",
       "gr                       0.496832\n",
       "avg_dur_arr              0.381140\n",
       "arr_dep                  0.000850\n",
       "rou_mo                   0.132574\n",
       "d_m                      0.439614\n",
       "To_Re                   -0.472800\n",
       "r_i_m                    0.372806\n",
       "Name: Price, dtype: float64"
      ]
     },
     "execution_count": 151,
     "metadata": {},
     "output_type": "execute_result"
    }
   ],
   "source": [
    "train.corr()['Price']"
   ]
  },
  {
   "cell_type": "markdown",
   "id": "329dfba4",
   "metadata": {},
   "source": [
    "modelling"
   ]
  },
  {
   "cell_type": "code",
   "execution_count": 152,
   "id": "b95cfe7e",
   "metadata": {},
   "outputs": [],
   "source": [
    "X = train.drop('Price', axis=1)\n",
    "y = train['Price']"
   ]
  },
  {
   "cell_type": "code",
   "execution_count": 153,
   "id": "3442bca7",
   "metadata": {},
   "outputs": [],
   "source": [
    "from sklearn.linear_model import Ridge"
   ]
  },
  {
   "cell_type": "code",
   "execution_count": 154,
   "id": "96b7e691",
   "metadata": {},
   "outputs": [],
   "source": [
    "from sklearn.tree import DecisionTreeRegressor"
   ]
  },
  {
   "cell_type": "code",
   "execution_count": 155,
   "id": "78612470",
   "metadata": {},
   "outputs": [],
   "source": [
    "from sklearn.ensemble import RandomForestRegressor, GradientBoostingRegressor, BaggingRegressor"
   ]
  },
  {
   "cell_type": "code",
   "execution_count": 156,
   "id": "aa77b99c",
   "metadata": {},
   "outputs": [],
   "source": [
    "#train.to_csv('wedT.csv', index=False)\n",
    "#test.to_csv('wedTe.csv', index=False)"
   ]
  },
  {
   "cell_type": "code",
   "execution_count": 158,
   "id": "cf2d04bb",
   "metadata": {},
   "outputs": [],
   "source": [
    "model = RandomForestRegressor(n_estimators=390, criterion='mse', max_depth=20, min_samples_split=2,min_samples_leaf=1 ,max_features='auto',bootstrap=True, oob_score=True, n_jobs=-1, random_state=42)\n",
    "\n"
   ]
  },
  {
   "cell_type": "code",
   "execution_count": 159,
   "id": "316f6fc1",
   "metadata": {},
   "outputs": [],
   "source": [
    "model1 = DecisionTreeRegressor(random_state=42)"
   ]
  },
  {
   "cell_type": "markdown",
   "id": "aeb142a0",
   "metadata": {},
   "source": [
    "max voting Stacking"
   ]
  },
  {
   "cell_type": "code",
   "execution_count": 170,
   "id": "438d8614",
   "metadata": {},
   "outputs": [],
   "source": [
    "\n",
    "model = BaggingRegressor(GradientBoostingRegressor())"
   ]
  },
  {
   "cell_type": "code",
   "execution_count": 171,
   "id": "1d57539c",
   "metadata": {},
   "outputs": [
    {
     "data": {
      "text/plain": [
       "LogisticRegression(random_state=1)"
      ]
     },
     "execution_count": 171,
     "metadata": {},
     "output_type": "execute_result"
    }
   ],
   "source": [
    "model.fit(X,y)\n",
    "model1.fit(X, y)"
   ]
  },
  {
   "cell_type": "code",
   "execution_count": 172,
   "id": "1085f191",
   "metadata": {},
   "outputs": [],
   "source": [
    "pred1=model.predict(X)\n",
    "pred2=model1.predict(X)\n",
    "\n"
   ]
  },
  {
   "cell_type": "code",
   "execution_count": 173,
   "id": "05d214dd",
   "metadata": {},
   "outputs": [],
   "source": [
    "final_pred = np.array([])\n",
    "for i in range(0,len(X)):\n",
    "    final_pred = np.append(final_pred, ([pred1[i], pred2[i]]))"
   ]
  },
  {
   "cell_type": "code",
   "execution_count": 174,
   "id": "9a6eaa4d",
   "metadata": {},
   "outputs": [
    {
     "data": {
      "text/plain": [
       "array([ 6607.5454128 , 10262.        ,  9436.34307303, ...,\n",
       "       10262.        ,  9626.87254836, 10844.        ])"
      ]
     },
     "execution_count": 174,
     "metadata": {},
     "output_type": "execute_result"
    }
   ],
   "source": [
    "final_pred"
   ]
  },
  {
   "cell_type": "code",
   "execution_count": 175,
   "id": "886e624a",
   "metadata": {},
   "outputs": [],
   "source": [
    "from sklearn.linear_model import LogisticRegression\n"
   ]
  },
  {
   "cell_type": "markdown",
   "id": "97555338",
   "metadata": {},
   "source": [
    "Sklearn"
   ]
  },
  {
   "cell_type": "code",
   "execution_count": 177,
   "id": "b850f07d",
   "metadata": {},
   "outputs": [
    {
     "ename": "NameError",
     "evalue": "name 'model2' is not defined",
     "output_type": "error",
     "traceback": [
      "\u001b[0;31m---------------------------------------------------------------------------\u001b[0m",
      "\u001b[0;31mNameError\u001b[0m                                 Traceback (most recent call last)",
      "\u001b[0;32m<ipython-input-177-f94553ab1b03>\u001b[0m in \u001b[0;36m<module>\u001b[0;34m\u001b[0m\n\u001b[1;32m      1\u001b[0m \u001b[0;32mfrom\u001b[0m \u001b[0msklearn\u001b[0m\u001b[0;34m.\u001b[0m\u001b[0mensemble\u001b[0m \u001b[0;32mimport\u001b[0m \u001b[0mVotingClassifier\u001b[0m\u001b[0;34m\u001b[0m\u001b[0;34m\u001b[0m\u001b[0m\n\u001b[1;32m      2\u001b[0m \u001b[0mmodel1\u001b[0m \u001b[0;34m=\u001b[0m \u001b[0mLogisticRegression\u001b[0m\u001b[0;34m(\u001b[0m\u001b[0mrandom_state\u001b[0m\u001b[0;34m=\u001b[0m\u001b[0;36m1\u001b[0m\u001b[0;34m)\u001b[0m\u001b[0;34m\u001b[0m\u001b[0;34m\u001b[0m\u001b[0m\n\u001b[0;32m----> 3\u001b[0;31m \u001b[0mmodel\u001b[0m \u001b[0;34m=\u001b[0m \u001b[0mVotingClassifier\u001b[0m\u001b[0;34m(\u001b[0m\u001b[0mestimators\u001b[0m\u001b[0;34m=\u001b[0m\u001b[0;34m[\u001b[0m\u001b[0;34m(\u001b[0m\u001b[0;34m'lr'\u001b[0m\u001b[0;34m,\u001b[0m \u001b[0mmodel1\u001b[0m\u001b[0;34m)\u001b[0m\u001b[0;34m,\u001b[0m \u001b[0;34m(\u001b[0m\u001b[0;34m'dt'\u001b[0m\u001b[0;34m,\u001b[0m \u001b[0mmodel2\u001b[0m\u001b[0;34m)\u001b[0m\u001b[0;34m]\u001b[0m\u001b[0;34m,\u001b[0m \u001b[0mvoting\u001b[0m\u001b[0;34m=\u001b[0m\u001b[0;34m'hard'\u001b[0m\u001b[0;34m)\u001b[0m\u001b[0;34m\u001b[0m\u001b[0;34m\u001b[0m\u001b[0m\n\u001b[0m\u001b[1;32m      4\u001b[0m \u001b[0mmodel\u001b[0m\u001b[0;34m.\u001b[0m\u001b[0mfit\u001b[0m\u001b[0;34m(\u001b[0m\u001b[0mx_train\u001b[0m\u001b[0;34m,\u001b[0m\u001b[0my_train\u001b[0m\u001b[0;34m)\u001b[0m\u001b[0;34m\u001b[0m\u001b[0;34m\u001b[0m\u001b[0m\n\u001b[1;32m      5\u001b[0m \u001b[0mmodel\u001b[0m\u001b[0;34m.\u001b[0m\u001b[0mscore\u001b[0m\u001b[0;34m(\u001b[0m\u001b[0mx_test\u001b[0m\u001b[0;34m,\u001b[0m\u001b[0my_test\u001b[0m\u001b[0;34m)\u001b[0m\u001b[0;34m\u001b[0m\u001b[0;34m\u001b[0m\u001b[0m\n",
      "\u001b[0;31mNameError\u001b[0m: name 'model2' is not defined"
     ]
    }
   ],
   "source": [
    "from sklearn.ensemble import VotingClassifier\n",
    "model1 = LogisticRegression(random_state=1)\n",
    "model = VotingClassifier(estimators=[('lr', model1), ('dt', model2)], voting='hard')\n",
    "model.fit(x_train,y_train)\n",
    "model.score(x_test,y_test)"
   ]
  },
  {
   "cell_type": "code",
   "execution_count": null,
   "id": "b3b85d28",
   "metadata": {},
   "outputs": [],
   "source": []
  }
 ],
 "metadata": {
  "kernelspec": {
   "display_name": "Python 3",
   "language": "python",
   "name": "python3"
  },
  "language_info": {
   "codemirror_mode": {
    "name": "ipython",
    "version": 3
   },
   "file_extension": ".py",
   "mimetype": "text/x-python",
   "name": "python",
   "nbconvert_exporter": "python",
   "pygments_lexer": "ipython3",
   "version": "3.8.8"
  }
 },
 "nbformat": 4,
 "nbformat_minor": 5
}
